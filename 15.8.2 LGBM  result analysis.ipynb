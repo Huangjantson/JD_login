{
 "cells": [
  {
   "cell_type": "code",
   "execution_count": 1,
   "metadata": {
    "collapsed": true
   },
   "outputs": [],
   "source": [
    "import pandas as pd\n",
    "import numpy as np\n",
    "import seaborn as sns\n",
    "from matplotlib import pyplot as plt \n",
    "import datetime\n",
    "from sklearn.metrics import fbeta_score\n",
    "import lightgbm as lgb\n",
    "from mochi import runXGB,f_beta_01,runLGBM"
   ]
  },
  {
   "cell_type": "code",
   "execution_count": 2,
   "metadata": {},
   "outputs": [
    {
     "name": "stdout",
     "output_type": "stream",
     "text": [
      "['__class__', '__delattr__', '__dict__', '__dir__', '__doc__', '__eq__', '__format__', '__ge__', '__getattribute__', '__gt__', '__hash__', '__init__', '__init_subclass__', '__le__', '__lt__', '__module__', '__ne__', '__new__', '__reduce__', '__reduce_ex__', '__repr__', '__setattr__', '__sizeof__', '__str__', '__subclasshook__', '__weakref__', 'data_path', 'feature_dict', 'feature_path', 'model_features', 'result_path', 'single_module_validation_indice_set', 'trade_train_size', 'train_2_6_index']\n",
      "dict_keys(['trade_and_recent_login_comparing', 'recent_login_detail', 'trade_detail_feature', 'login_trade_hist_stats', 'llc_user_habbit', 'hcc_user_habbit', 'hcc_properties', 'hcc_target_encoding', 'login_detail_new_features', 'hcc_mult_target_encoding', 'hcc_user_trade_habbit', 'hcc_trade_properties'])\n"
     ]
    }
   ],
   "source": [
    "class Config:\n",
    "    pass\n",
    "config = pd.read_pickle('config.pkl')\n",
    "data_path = config.data_path\n",
    "feature_path = config.feature_path\n",
    "print(dir(config))\n",
    "print(config.feature_dict.keys())"
   ]
  },
  {
   "cell_type": "code",
   "execution_count": 3,
   "metadata": {
    "collapsed": true
   },
   "outputs": [],
   "source": [
    "features =   (config.feature_dict['trade_detail_feature']+\n",
    "              config.feature_dict['recent_login_detail']+\n",
    "              config.feature_dict['trade_and_recent_login_comparing']+\n",
    "              config.feature_dict['login_trade_hist_stats']+\n",
    "              config.feature_dict['llc_user_habbit']+\n",
    "             config.feature_dict['hcc_user_habbit']+\n",
    "              config.feature_dict['hcc_properties']+\n",
    "            config.feature_dict['hcc_target_encoding']+\n",
    "                    config.feature_dict['login_detail_new_features']+\n",
    "              config.feature_dict['hcc_trade_properties']+\n",
    "              config.feature_dict['hcc_mult_target_encoding']+\n",
    "              config.feature_dict['hcc_user_trade_habbit']\n",
    "             )\n",
    "feature_sequence_list = []\n",
    "for feature in features:\n",
    "    feature_sequence_list.append(pd.read_pickle(feature_path+feature+'.pkl').reshape(-1,1))\n",
    "    \n",
    "trade_tt_mat = np.hstack(feature_sequence_list)\n",
    "#trade_tt_mat[trade_tt_mat==-10]=np.nan\n",
    "\n",
    "validation_tuple_list = config.single_module_validation_indice_set\n",
    "train_labels = pd.read_pickle(data_path+'trade_train_label.pkl')"
   ]
  },
  {
   "cell_type": "code",
   "execution_count": 4,
   "metadata": {
    "collapsed": true
   },
   "outputs": [],
   "source": [
    "top_features =  config.model_features['model_I_top300']\n",
    "top_features_ori_index = [features.index(x) for x in top_features]\n",
    "trade_tt_top = trade_tt_mat[:,top_features_ori_index]"
   ]
  },
  {
   "cell_type": "code",
   "execution_count": 5,
   "metadata": {
    "collapsed": true
   },
   "outputs": [],
   "source": [
    "def f_beta_01(preds, train_data, threshold = 0.5):\n",
    "    labels  = train_data.get_label()\n",
    "    return 'fbeta_score_01',fbeta_score(labels, preds > threshold,0.1),True\n",
    "\n",
    "def f_beta_01_xgb(preds, train_data, threshold = 0.5):\n",
    "    labels  = train_data.get_label()\n",
    "    return 'fbeta_score_01',fbeta_score(labels, preds > threshold,0.1)\n",
    "\n",
    "#xgb for binary\n",
    "def runXGB(train_X, train_y, test_X, test_y=None, feature_names=None, \n",
    "     seed_val=0, early_stop = 20,num_rounds=10000, eta = 0.1,\n",
    "     subsample = 0.75,colsample_bytree = 0.75,eval_metric = 'auc',feval = None,\n",
    "     max_depth = 6,cv_dict = None,verbose_eval=True):\n",
    "    \n",
    "    param = {}\n",
    "    param['objective'] = 'binary:logistic'\n",
    "    param['eta'] = eta\n",
    "    param['max_depth'] = max_depth\n",
    "    param['silent'] = 1\n",
    "    #param['num_class'] = 3\n",
    "    param['eval_metric'] = eval_metric\n",
    "    param['min_child_weight'] = 1\n",
    "    param['subsample'] = subsample\n",
    "    param['colsample_bytree'] = colsample_bytree\n",
    "    param['seed'] = seed_val\n",
    "    num_rounds = num_rounds\n",
    "\n",
    "    plst = list(param.items())\n",
    "    xgtrain = xgb.DMatrix(train_X, label=train_y,feature_names=feature_names)\n",
    "\n",
    "    if test_y is not None:\n",
    "        xgtest = xgb.DMatrix(test_X, label=test_y,feature_names=feature_names)\n",
    "        watchlist = [ (xgtrain,'train'), (xgtest, 'test') ]\n",
    "        model = xgb.train(plst, xgtrain, num_rounds, watchlist,\n",
    "        early_stopping_rounds=early_stop,evals_result = cv_dict,\n",
    "        verbose_eval = verbose_eval,feval = feval)\n",
    "    else:\n",
    "        xgtest = xgb.DMatrix(test_X,feature_names=feature_names)\n",
    "        model = xgb.train(plst, xgtrain, num_rounds)\n",
    "\n",
    "    pred_test_y = model.predict(xgtest)\n",
    "    return pred_test_y, model"
   ]
  },
  {
   "cell_type": "code",
   "execution_count": 6,
   "metadata": {
    "scrolled": true
   },
   "outputs": [
    {
     "name": "stderr",
     "output_type": "stream",
     "text": [
      "/home/ec2-user/anaconda3/lib/python3.6/site-packages/lightgbm/basic.py:648: LGBMDeprecationWarning: The `max_bin` parameter is deprecated and will be removed in 2.0.12 version. Please use `params` to pass this parameter.\n",
      "  'Please use `params` to pass this parameter.', LGBMDeprecationWarning)\n",
      "/home/ec2-user/anaconda3/lib/python3.6/site-packages/lightgbm/basic.py:642: UserWarning: max_bin keyword has been found in `params` and will be ignored. Please use max_bin argument of the Dataset constructor to pass this parameter.\n",
      "  'Please use {0} argument of the Dataset constructor to pass this parameter.'.format(key))\n"
     ]
    },
    {
     "name": "stdout",
     "output_type": "stream",
     "text": [
      "[100]\ttrain's auc: 0.991564\ttrain's fbeta_score_01: 0.948114\ttest's auc: 0.980625\ttest's fbeta_score_01: 0.881336\n",
      "[200]\ttrain's auc: 0.995187\ttrain's fbeta_score_01: 0.95873\ttest's auc: 0.990065\ttest's fbeta_score_01: 0.903921\n",
      "[300]\ttrain's auc: 0.999296\ttrain's fbeta_score_01: 0.96727\ttest's auc: 0.990508\ttest's fbeta_score_01: 0.898073\n",
      "[400]\ttrain's auc: 0.999873\ttrain's fbeta_score_01: 0.974672\ttest's auc: 0.990319\ttest's fbeta_score_01: 0.903617\n",
      "[500]\ttrain's auc: 0.99997\ttrain's fbeta_score_01: 0.989861\ttest's auc: 0.989837\ttest's fbeta_score_01: 0.903617\n",
      "f_beta score for the turn 1 is 0.913935250352\n",
      "[100]\ttrain's auc: 0.992231\ttrain's fbeta_score_01: 0.967031\ttest's auc: 0.967445\ttest's fbeta_score_01: 0.850678\n",
      "[200]\ttrain's auc: 0.99838\ttrain's fbeta_score_01: 0.970726\ttest's auc: 0.977005\ttest's fbeta_score_01: 0.862998\n",
      "[300]\ttrain's auc: 0.999797\ttrain's fbeta_score_01: 0.976743\ttest's auc: 0.974224\ttest's fbeta_score_01: 0.877625\n",
      "[400]\ttrain's auc: 0.999948\ttrain's fbeta_score_01: 0.986022\ttest's auc: 0.975147\ttest's fbeta_score_01: 0.892252\n",
      "[500]\ttrain's auc: 0.999992\ttrain's fbeta_score_01: 0.993231\ttest's auc: 0.975702\ttest's fbeta_score_01: 0.893933\n",
      "f_beta score for the turn 2 is 0.919000892061\n",
      "[100]\ttrain's auc: 0.994189\ttrain's fbeta_score_01: 0.96763\ttest's auc: 0.983364\ttest's fbeta_score_01: 0.86707\n",
      "[200]\ttrain's auc: 0.998678\ttrain's fbeta_score_01: 0.977487\ttest's auc: 0.986676\ttest's fbeta_score_01: 0.893708\n",
      "[300]\ttrain's auc: 0.999645\ttrain's fbeta_score_01: 0.980568\ttest's auc: 0.986835\ttest's fbeta_score_01: 0.912279\n",
      "[400]\ttrain's auc: 0.999928\ttrain's fbeta_score_01: 0.986383\ttest's auc: 0.988034\ttest's fbeta_score_01: 0.902119\n",
      "[500]\ttrain's auc: 0.999988\ttrain's fbeta_score_01: 0.994159\ttest's auc: 0.987847\ttest's fbeta_score_01: 0.912795\n",
      "f_beta score for the turn 3 is 0.925668415397\n",
      "[100]\ttrain's auc: 0.99178\ttrain's fbeta_score_01: 0.963734\ttest's auc: 0.96966\ttest's fbeta_score_01: 0.915528\n",
      "[200]\ttrain's auc: 0.997099\ttrain's fbeta_score_01: 0.966302\ttest's auc: 0.97819\ttest's fbeta_score_01: 0.96506\n",
      "[300]\ttrain's auc: 0.999496\ttrain's fbeta_score_01: 0.969092\ttest's auc: 0.981336\ttest's fbeta_score_01: 0.939278\n",
      "[400]\ttrain's auc: 0.999882\ttrain's fbeta_score_01: 0.978985\ttest's auc: 0.980956\ttest's fbeta_score_01: 0.938297\n",
      "[500]\ttrain's auc: 0.999978\ttrain's fbeta_score_01: 0.990432\ttest's auc: 0.981501\ttest's fbeta_score_01: 0.926606\n",
      "f_beta score for the turn 4 is 0.991492146597\n",
      "[100]\ttrain's auc: 0.990926\ttrain's fbeta_score_01: 0.946641\ttest's auc: 0.979777\ttest's fbeta_score_01: 0.845566\n",
      "[200]\ttrain's auc: 0.994322\ttrain's fbeta_score_01: 0.953403\ttest's auc: 0.982397\ttest's fbeta_score_01: 0.838129\n",
      "[300]\ttrain's auc: 0.999612\ttrain's fbeta_score_01: 0.96459\ttest's auc: 0.984763\ttest's fbeta_score_01: 0.855111\n",
      "[400]\ttrain's auc: 0.999882\ttrain's fbeta_score_01: 0.975332\ttest's auc: 0.987\ttest's fbeta_score_01: 0.845566\n",
      "[500]\ttrain's auc: 0.999975\ttrain's fbeta_score_01: 0.986021\ttest's auc: 0.986206\ttest's fbeta_score_01: 0.839929\n",
      "f_beta score for the turn 5 is 0.895283455712\n",
      "[100]\ttrain's auc: 0.99259\ttrain's fbeta_score_01: 0.943776\ttest's auc: 0.979964\ttest's fbeta_score_01: 0.901786\n",
      "[200]\ttrain's auc: 0.996321\ttrain's fbeta_score_01: 0.958638\ttest's auc: 0.984013\ttest's fbeta_score_01: 0.924127\n",
      "[300]\ttrain's auc: 0.999075\ttrain's fbeta_score_01: 0.969426\ttest's auc: 0.98362\ttest's fbeta_score_01: 0.915245\n",
      "[400]\ttrain's auc: 0.999829\ttrain's fbeta_score_01: 0.980967\ttest's auc: 0.982472\ttest's fbeta_score_01: 0.926479\n",
      "[500]\ttrain's auc: 0.999954\ttrain's fbeta_score_01: 0.990143\ttest's auc: 0.98328\ttest's fbeta_score_01: 0.912651\n",
      "f_beta score for the turn 6 is 0.94527284264\n",
      "The mean of the cv_scores is: 0.93177550046\n"
     ]
    }
   ],
   "source": [
    "cv_scores = []\n",
    "cv_result = []\n",
    "models = []\n",
    "i = 0\n",
    "\n",
    "for train_indice,val_indice in validation_tuple_list:\n",
    "    #print trade_train_val.iloc[train_indice]['month'].unique(),trade_train_val.iloc[val_indice]['month'].unique()\n",
    "    #print trade_train_val.iloc[train_indice].shape,trade_train_val.iloc[val_indice].shape\n",
    "    result_dict = {}\n",
    "    \n",
    "    #filter the features\n",
    "    dev_X, val_X = trade_tt_top[train_indice], trade_tt_top[val_indice]\n",
    "    dev_y, val_y = train_labels.iloc[train_indice].values, train_labels.iloc[val_indice].values\n",
    "\n",
    "   \n",
    "    preds, model = runLGBM(dev_X, dev_y, val_X, val_y,feature_names=top_features,verbose=100,eta=0.02,\n",
    "                          early_stop=None,num_rounds=500,watch_dict=result_dict,feval = f_beta_01)\n",
    "    \"\"\"\n",
    "    preds, model = runXGB(dev_X, dev_y, val_X, val_y,feature_names=top_features,verbose_eval=100,eta=0.02,\n",
    "                          early_stop=None,num_rounds=500,cv_dict=result_dict,feval = f_beta_01_xgb ,max_depth =4)\n",
    "     \"\"\"\n",
    "    \n",
    "    #result_f_beta = f_beta_01(val_y.values, preds>0.5)\n",
    "    result_f_beta  = fbeta_score( val_y,preds > 0.8, 0.1)\n",
    "    \n",
    "    cv_scores.append(result_f_beta)\n",
    "    cv_result.append(result_dict)\n",
    "    models.append(model)\n",
    "    i+=1\n",
    "    print('f_beta score for the turn '+str(i)+' is '+str(result_f_beta))\n",
    "\n",
    "print('The mean of the cv_scores is:',np.mean(cv_scores))"
   ]
  },
  {
   "cell_type": "code",
   "execution_count": 7,
   "metadata": {
    "scrolled": true
   },
   "outputs": [
    {
     "name": "stdout",
     "output_type": "stream",
     "text": [
      "484\n",
      "177\n"
     ]
    }
   ],
   "source": [
    "#finding the best iteration\n",
    "pd_list = []\n",
    "for dic in cv_result:\n",
    "    pd_list.append(pd.DataFrame(dic['test']))\n",
    "for i in range(len(pd_list)):\n",
    "    pd_list[i].columns = pd_list[i].columns+'_'+str(i)\n",
    "validation_result = pd.concat(pd_list,axis = 1)\n",
    "validation_result['auc_avg'] = validation_result.apply(lambda x : np.mean([x.auc_0,x.auc_1,x.auc_2,x.auc_3,x.auc_4]),axis = 1)\n",
    "\n",
    "validation_result['fbeta_avg'] = validation_result.apply(lambda x : np.mean([x.fbeta_score_01_0,x.fbeta_score_01_1,\n",
    "                                                                     x.fbeta_score_01_2,x.fbeta_score_01_3,\n",
    "                                                                    x.fbeta_score_01_4]),axis=1)\n",
    "\n",
    "print(validation_result['auc_avg'].idxmax())\n",
    "print(validation_result['fbeta_avg'].idxmax())"
   ]
  },
  {
   "cell_type": "code",
   "execution_count": 10,
   "metadata": {},
   "outputs": [
    {
     "name": "stderr",
     "output_type": "stream",
     "text": [
      "/home/ec2-user/anaconda3/lib/python3.6/site-packages/lightgbm/basic.py:648: LGBMDeprecationWarning: The `max_bin` parameter is deprecated and will be removed in 2.0.12 version. Please use `params` to pass this parameter.\n",
      "  'Please use `params` to pass this parameter.', LGBMDeprecationWarning)\n"
     ]
    }
   ],
   "source": [
    "train_X = trade_tt_mat[config.train_2_6_index]\n",
    "test_X = trade_tt_mat[config.trade_train_size:]\n",
    "train_y = train_labels[config.train_2_6_index]\n",
    "\n",
    "preds_480, model = runLGBM(dev_X, dev_y, val_X, None,feature_names=top_features,verbose=100,eta=0.02,\n",
    "                          early_stop=None,num_rounds=480,watch_dict=result_dict)\n"
   ]
  },
  {
   "cell_type": "code",
   "execution_count": 11,
   "metadata": {},
   "outputs": [
    {
     "name": "stderr",
     "output_type": "stream",
     "text": [
      "/home/ec2-user/anaconda3/lib/python3.6/site-packages/lightgbm/basic.py:648: LGBMDeprecationWarning: The `max_bin` parameter is deprecated and will be removed in 2.0.12 version. Please use `params` to pass this parameter.\n",
      "  'Please use `params` to pass this parameter.', LGBMDeprecationWarning)\n"
     ]
    }
   ],
   "source": [
    "preds_177, model = runLGBM(dev_X, dev_y, val_X, None,feature_names=top_features,verbose=100,eta=0.02,\n",
    "                          early_stop=None,num_rounds=177,watch_dict=result_dict)"
   ]
  },
  {
   "cell_type": "markdown",
   "metadata": {},
   "source": [
    "### result visulization"
   ]
  },
  {
   "cell_type": "code",
   "execution_count": 12,
   "metadata": {},
   "outputs": [
    {
     "name": "stdout",
     "output_type": "stream",
     "text": [
      "72\n",
      "66\n",
      "62\n",
      "50\n"
     ]
    },
    {
     "data": {
      "image/png": "[encoded data removed]",
      "text/plain": [
       "<matplotlib.figure.Figure at 0x7fcd75607438>"
      ]
     },
     "metadata": {},
     "output_type": "display_data"
    }
   ],
   "source": [
    "%matplotlib inline\n",
    "plt.hist(preds_480[preds_480>0.1])\n",
    "print(np.sum(preds_480>0.5))\n",
    "print(np.sum(preds_480>0.7))\n",
    "print(np.sum(preds_480>0.8))\n",
    "print(np.sum(preds_480>0.9))"
   ]
  },
  {
   "cell_type": "code",
   "execution_count": 13,
   "metadata": {},
   "outputs": [
    {
     "name": "stdout",
     "output_type": "stream",
     "text": [
      "70\n",
      "68\n",
      "62\n",
      "54\n"
     ]
    },
    {
     "data": {
      "image/png": "[encoded data removed]",
      "text/plain": [
       "<matplotlib.figure.Figure at 0x7fcd5ce6d748>"
      ]
     },
     "metadata": {},
     "output_type": "display_data"
    }
   ],
   "source": [
    "%matplotlib inline\n",
    "plt.hist(preds_177[preds_177>0.1])\n",
    "print(np.sum(preds_177>0.5))\n",
    "print(np.sum(preds_177>0.7))\n",
    "print(np.sum(preds_177>0.8))\n",
    "print(np.sum(preds_177>0.9))"
   ]
  },
  {
   "cell_type": "code",
   "execution_count": 18,
   "metadata": {},
   "outputs": [
    {
     "data": {
      "text/plain": [
       "-10.0"
      ]
     },
     "execution_count": 18,
     "metadata": {},
     "output_type": "execute_result"
    }
   ],
   "source": [
    "    trade_tt_mat[:,features.index('trade_login_rate_360')].min()"
   ]
  },
  {
   "cell_type": "code",
   "execution_count": 19,
   "metadata": {},
   "outputs": [
    {
     "data": {
      "text/plain": [
       "['ip_t_encoding',\n",
       " 'id_t_encoding',\n",
       " 'city_id_t_encoding',\n",
       " 'ip_id_t_encoding',\n",
       " 'device_t_encoding',\n",
       " 'login_distance_0_al',\n",
       " 'device_id_t_encoding',\n",
       " 'login_distance_0',\n",
       " 'trade_times_360',\n",
       " 'city_t_encoding',\n",
       " 'mean_login_distance',\n",
       " 'type_3_count_30',\n",
       " 'period_4_login_rate_30',\n",
       " 'login_success_rate_360',\n",
       " 'device_repeat_count_360',\n",
       " 'timelong_std_1',\n",
       " 'period_4_login_rate_360',\n",
       " 'timelong_max_1',\n",
       " 'type_login_0',\n",
       " 'type_3_rate_30',\n",
       " 'period_3_login_rate_360',\n",
       " 'login_distance_1_al',\n",
       " 'timelong_std_3',\n",
       " 'timelong_min_30',\n",
       " 'login_success_rate_30',\n",
       " 'success_1_rate_30',\n",
       " 'login_distance_1',\n",
       " 'timelong_med_360',\n",
       " 'device_id_city_t_encoding',\n",
       " 'trade_login_rate_360',\n",
       " 'login_distance_2_al',\n",
       " 'type_3_rate_360',\n",
       " 'device_same_id_login_count_360_t',\n",
       " 'ip_used_count_7',\n",
       " 'device_repeat_rate_360',\n",
       " 'trade_times_30',\n",
       " 'fail_-2_rate_30',\n",
       " 'hour',\n",
       " 'device_used_count_7',\n",
       " 'timelong_std_15',\n",
       " 'timelong_min_15',\n",
       " 'period_3_login_times_360',\n",
       " 'timelong_med_1',\n",
       " 'city_used_count_30',\n",
       " 'timelong_mean_360',\n",
       " 'period_3_login_rate_30',\n",
       " 'ip_device_t_encoding',\n",
       " 'ip_most_used_id_rate_360',\n",
       " 'city_most_freq_rate_360',\n",
       " 'timelong_min_7',\n",
       " 'type_3_count_360',\n",
       " 'device_repeat_rate_30',\n",
       " 'device_repeat_count_360_t_t',\n",
       " 'city_used_count_360',\n",
       " 'device_most_used_id_counts_360',\n",
       " 'timelong_mean_1',\n",
       " 'city_max_min_dist_30_t_t',\n",
       " 'timelong_std_7',\n",
       " 'ip_used_count_30',\n",
       " 'device_repeat_rate_7',\n",
       " 'timelong_min_3',\n",
       " 'device_repeat_rate_360_t_t',\n",
       " 'trade_login_rate_15',\n",
       " 'device_most_freq_rate_7',\n",
       " 'city_most_freq_rate_30',\n",
       " 'success_1_rate_360',\n",
       " 'log_from_2_rate_360',\n",
       " 'login_distance_diff',\n",
       " 'type_login_1',\n",
       " 'period_1_login_rate_360',\n",
       " 'city_used_count_7',\n",
       " 'city_max_min_dist_7',\n",
       " 'device_same_id_login_count_360',\n",
       " 'timelong_login_0_mod_1000',\n",
       " 'timelong_max_3',\n",
       " 'period_0_trade_rate_360',\n",
       " 'hour_login_0',\n",
       " 'city_repeat_count_360_t_t',\n",
       " 'timelong_mean_3',\n",
       " 'city_freq_rank_30',\n",
       " 'timelong_std_360',\n",
       " 'timelong_login_0',\n",
       " 'period_3_trade_rate_360',\n",
       " 'after_fail_max_360',\n",
       " 'timelong_std_30',\n",
       " 'trade_login_rate_7',\n",
       " 'timelong_min_360',\n",
       " 'login_distance_2',\n",
       " 'trade_login_rate_30',\n",
       " 'day',\n",
       " 'timelong_min_1',\n",
       " 'hour_login_2',\n",
       " 'log_from_1_rate_360',\n",
       " 'timelong_max_30',\n",
       " 'ip_most_freq_rate_7',\n",
       " 'ip_same_id_login_rate_360',\n",
       " 'trade_login_success_rate_360',\n",
       " 'device_freq_rank_360',\n",
       " 'timelong_login_2',\n",
       " 'login_success_rate_15',\n",
       " 'device_most_used_id_rate_7',\n",
       " 'period_1_login_rate_30',\n",
       " 'day_cycle_login_1',\n",
       " 'timelong_max_360',\n",
       " 'ip_most_freq_rate_30',\n",
       " 'timelong_login_1_mod_1000',\n",
       " 'city_most_freq_rate_360_t_t',\n",
       " 'timelong_login_1',\n",
       " 'ip_most_used_id_rate_30',\n",
       " 'login_fail_times_15',\n",
       " 'city_repeat_count_360',\n",
       " 'success_1_count_30',\n",
       " 'city_repeat_rate_360_t_t',\n",
       " 'device_freq_rank_360_t_t',\n",
       " 'hour_login_1',\n",
       " 'after_fail_max_30',\n",
       " 'city_max_min_dist_30',\n",
       " 'hour_cycle_login_0',\n",
       " 'ip_used_count_30_t_t',\n",
       " 'city_used_count_30_t_t',\n",
       " 'timelong_max_15',\n",
       " 'timelong_mean_30',\n",
       " 'device_login_count_360',\n",
       " 'trade_login_success_rate_30',\n",
       " 'day_cycle_login_2',\n",
       " 'device_most_used_id_counts_360_t',\n",
       " 'city_repeat_rate_360',\n",
       " 'city_most_freq_count_360_t_t',\n",
       " 'day_cycle',\n",
       " 'success_31_count_360',\n",
       " 'fail_-2_count_360',\n",
       " 'device_repeat_rate_30_t_t',\n",
       " 'device_most_freq_rate_360_t_t',\n",
       " 'period_3_login_times_30',\n",
       " 'log_from_1_count_360',\n",
       " 'trade_login_fail_rate_360',\n",
       " 'device_most_freq_rate_30',\n",
       " 'hour_cycle_login_1',\n",
       " 'city_used_count_360_t_t',\n",
       " 'type_1_rate_30',\n",
       " 'city_most_freq_rate_30_t_t',\n",
       " 'after_fail_min_360',\n",
       " 'ip_repeat_rate_7',\n",
       " 'device_most_used_id_rate_30',\n",
       " 'after_fail_max_15',\n",
       " 'period_2_login_rate_360',\n",
       " 'timelong_mean_15',\n",
       " 'hour_cycle',\n",
       " 'timelong_med_30',\n",
       " 'success_1_count_360',\n",
       " 'log_from_2_count_360',\n",
       " 'ip_most_freq_count_30',\n",
       " 'trade_times_7',\n",
       " 'trade_times_3',\n",
       " 'login_success_times_1',\n",
       " 'timelong_max_7',\n",
       " 'log_from_1_rate_30',\n",
       " 'device_most_used_id_rate_360',\n",
       " 'ip_most_used_id_counts_360',\n",
       " 'city_most_freq_count_360',\n",
       " 'city_freq_rank_360',\n",
       " 'ip_same_id_login_rate_360_t',\n",
       " 'city_repeat_rate_30',\n",
       " 'city_freq_rank_30_t_t',\n",
       " 'success_31_rate_30',\n",
       " 'log_from_2_rate_30',\n",
       " 'after_fail_mean_360',\n",
       " 'period_0_login_rate_360',\n",
       " 'fail_-2_count_30',\n",
       " 'day_login_0',\n",
       " 'success_31_rate_360',\n",
       " 'trade_times_15',\n",
       " 'city_max_min_dist_360',\n",
       " 'type_1_rate_360',\n",
       " 'weekday',\n",
       " 'device_most_freq_rate_360',\n",
       " 'type_1_count_30',\n",
       " 'ip_repeat_rate_30',\n",
       " 'type_login_2',\n",
       " 'login_fail_times_7',\n",
       " 'trade_login_rate_3',\n",
       " 'day_cycle_login_0',\n",
       " 'weekday_cycle_login_1',\n",
       " 'period_0_login_rate_30',\n",
       " 'ip_most_freq_rate_30_t_t',\n",
       " 'city_most_freq_rate_7',\n",
       " 'ip_most_freq_count_7',\n",
       " 'timelong_med_3',\n",
       " 'period_1_login_times_30',\n",
       " 'timelong_med_7',\n",
       " 'timelong_med_15',\n",
       " 'ip_diff_id_counts_360',\n",
       " 'timelong_login_2_mod_1000',\n",
       " 'period_2_login_rate_30',\n",
       " 'trade_login_success_rate_7',\n",
       " 'ip_max_min_dist_7',\n",
       " 'ip_most_freq_rate_360',\n",
       " 'city_freq_rank_7',\n",
       " 'ip_most_freq_count_360',\n",
       " 'ip_most_freq_rate_360_t_t',\n",
       " 'ip_repeat_rate_30_t_t',\n",
       " 'day_login_1',\n",
       " 'period_1_trade_rate_360',\n",
       " 'period_2_trade_rate_360',\n",
       " 'log_from_1_count_30',\n",
       " 'device_max_min_dist_360',\n",
       " 'login_success_times_360',\n",
       " 'device_login_count_360_t',\n",
       " 'trade_login_success_rate_15',\n",
       " 'ip_repeat_rate_360_t_t',\n",
       " 'ip_most_used_id_rate_360_t',\n",
       " 'login_times_1',\n",
       " 'success_31_count_30',\n",
       " 'period_3_trade_rate_30',\n",
       " 'period_0_trade_rate_30',\n",
       " 'device_most_freq_rate_30_t_t',\n",
       " 'day_login_2',\n",
       " 'device_repeat_count_30',\n",
       " 'trade_login_success_rate_3',\n",
       " 'ip_repeat_count_360',\n",
       " 'device_most_freq_count_360',\n",
       " 'hour_cycle_login_2',\n",
       " 'device_used_count_360',\n",
       " 'device_diff_id_counts_30',\n",
       " 'city_max_min_dist_360_t_t',\n",
       " 'timelong_mean_7',\n",
       " 'ip_max_min_dist_360_t_t',\n",
       " 'device_used_count_30',\n",
       " 'after_fail_max_3',\n",
       " 'device_max_min_dist_360_t_t',\n",
       " 'city_repeat_count_30_t_t',\n",
       " 'weekday_cycle',\n",
       " 'period_1_login_times_360',\n",
       " 'device_same_id_login_rate_360',\n",
       " 'type_1_count_360',\n",
       " 'ip_max_min_dist_30_t_t',\n",
       " 'after_fail_med_360',\n",
       " 'after_fail_mean_30',\n",
       " 'period_3_trade_times_360',\n",
       " 'weekday_cycle_login_2',\n",
       " 'type_2_count_360',\n",
       " 'trade_login_fail_rate_30',\n",
       " 'period_0_login_times_360',\n",
       " 'login_times_360',\n",
       " 'after_fail_max_7',\n",
       " 'login_success_rate_3',\n",
       " 'period_2_login_times_360',\n",
       " 'ip_most_used_id_rate_7',\n",
       " 'is_scan_rate_360',\n",
       " 'period_0_trade_times_360',\n",
       " 'city_most_freq_count_30',\n",
       " 'login_times_30',\n",
       " 'after_fail_med_15',\n",
       " 'ip_most_used_id_counts_30',\n",
       " 'login_success_times_3',\n",
       " 'ip_same_id_login_rate_30',\n",
       " 'ip_max_min_dist_30',\n",
       " 'log_from_2_count_30',\n",
       " 'device_same_id_login_rate_360_t',\n",
       " 'device_same_id_login_rate_7',\n",
       " 'city_repeat_rate_30_t_t',\n",
       " 'result_login_2',\n",
       " 'ip_login_count_360',\n",
       " 'ip_diff_id_counts_7',\n",
       " 'ip_most_freq_count_360_t_t',\n",
       " 'city_freq_rank_360_t_t',\n",
       " 'ip_max_min_dist_360',\n",
       " 'device_repeat_count_30_t_t',\n",
       " 'ip_most_used_id_rate_30_t',\n",
       " 'device_diff_id_counts_360',\n",
       " 'result_login_1',\n",
       " 'ip_repeat_count_30',\n",
       " 'weekday_cycle_login_0',\n",
       " 'after_fail_min_3',\n",
       " 'after_fail_mean_3',\n",
       " 'weekday_login_1',\n",
       " 'login_success_rate_1',\n",
       " 'ip_used_count_360_t_t',\n",
       " 'city_repeat_rate_7',\n",
       " 'device_login_count_30_t',\n",
       " 'weekday_login_2',\n",
       " 'result_comparing_login_1',\n",
       " 'login_times_3',\n",
       " 'ip_diff_id_counts_360_t',\n",
       " 'trade_times_1',\n",
       " 'device_most_used_id_counts_30',\n",
       " 'after_fail_min_15',\n",
       " 'city_repeat_count_30',\n",
       " 'fail_-2_rate_360',\n",
       " 'login_success_times_15',\n",
       " 'ip_repeat_count_7',\n",
       " 'device_most_used_id_rate_360_t',\n",
       " 'device_used_count_360_t_t',\n",
       " 'device_most_used_id_counts_30_t',\n",
       " 'login_success_times_7',\n",
       " 'device_most_freq_count_360_t_t',\n",
       " 'ip_used_count_360',\n",
       " 'ip_most_used_id_counts_30_t',\n",
       " 'login_success_times_30',\n",
       " 'period_2_login_times_30']"
      ]
     },
     "execution_count": 19,
     "metadata": {},
     "output_type": "execute_result"
    }
   ],
   "source": [
    "top_features"
   ]
  }
 ],
 "metadata": {
  "kernelspec": {
   "display_name": "Python 3",
   "language": "python",
   "name": "python3"
  },
  "language_info": {
   "codemirror_mode": {
    "name": "ipython",
    "version": 3
   },
   "file_extension": ".py",
   "mimetype": "text/x-python",
   "name": "python",
   "nbconvert_exporter": "python",
   "pygments_lexer": "ipython3",
   "version": "3.6.3"
  }
 },
 "nbformat": 4,
 "nbformat_minor": 2
}
