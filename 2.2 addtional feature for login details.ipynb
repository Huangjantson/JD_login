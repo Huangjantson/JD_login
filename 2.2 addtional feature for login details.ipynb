{
 "cells": [
  {
   "cell_type": "code",
   "execution_count": 1,
   "metadata": {
    "collapsed": true,
    "scrolled": true
   },
   "outputs": [],
   "source": [
    "import pandas as pd\n",
    "import numpy as np\n",
    "import seaborn as sns\n",
    "from matplotlib import pyplot as plt \n",
    "import datetime"
   ]
  },
  {
   "cell_type": "code",
   "execution_count": 2,
   "metadata": {
    "collapsed": true,
    "scrolled": true
   },
   "outputs": [],
   "source": [
    "class Config:\n",
    "    pass\n",
    "config = pd.read_pickle('config.pkl')\n",
    "data_path = '../../kaggleData/JD_logging/'\n",
    "feature_path = '../../kaggleData/JD_logging/features/'"
   ]
  },
  {
   "cell_type": "code",
   "execution_count": 3,
   "metadata": {
    "scrolled": true
   },
   "outputs": [
    {
     "data": {
      "text/plain": [
       "{'hcc_properties': ['device_diff_id_counts_30',\n",
       "  'device_diff_id_counts_360',\n",
       "  'device_diff_id_counts_7',\n",
       "  'device_login_count_30',\n",
       "  'device_login_count_360',\n",
       "  'device_login_count_7',\n",
       "  'device_most_used_id_counts_30',\n",
       "  'device_most_used_id_counts_360',\n",
       "  'device_most_used_id_counts_7',\n",
       "  'device_most_used_id_rate_30',\n",
       "  'device_most_used_id_rate_360',\n",
       "  'device_most_used_id_rate_7',\n",
       "  'device_same_id_login_count_30',\n",
       "  'device_same_id_login_count_360',\n",
       "  'device_same_id_login_count_7',\n",
       "  'device_same_id_login_rate_30',\n",
       "  'device_same_id_login_rate_360',\n",
       "  'device_same_id_login_rate_7',\n",
       "  'ip_diff_id_counts_30',\n",
       "  'ip_diff_id_counts_360',\n",
       "  'ip_diff_id_counts_7',\n",
       "  'ip_login_count_30',\n",
       "  'ip_login_count_360',\n",
       "  'ip_login_count_7',\n",
       "  'ip_most_used_id_counts_30',\n",
       "  'ip_most_used_id_counts_360',\n",
       "  'ip_most_used_id_counts_7',\n",
       "  'ip_most_used_id_rate_30',\n",
       "  'ip_most_used_id_rate_360',\n",
       "  'ip_most_used_id_rate_7',\n",
       "  'ip_same_id_login_count_30',\n",
       "  'ip_same_id_login_count_360',\n",
       "  'ip_same_id_login_count_7',\n",
       "  'ip_same_id_login_rate_30',\n",
       "  'ip_same_id_login_rate_360',\n",
       "  'ip_same_id_login_rate_7'],\n",
       " 'hcc_target_encoding': ['city_t_encoding',\n",
       "  'device_t_encoding',\n",
       "  'id_t_encoding',\n",
       "  'ip_t_encoding'],\n",
       " 'hcc_user_habbit': ['city_freq_rank_30',\n",
       "  'city_freq_rank_360',\n",
       "  'city_freq_rank_7',\n",
       "  'city_max_min_dist_30',\n",
       "  'city_max_min_dist_360',\n",
       "  'city_max_min_dist_7',\n",
       "  'city_most_freq_count_30',\n",
       "  'city_most_freq_count_360',\n",
       "  'city_most_freq_count_7',\n",
       "  'city_most_freq_rate_30',\n",
       "  'city_most_freq_rate_360',\n",
       "  'city_most_freq_rate_7',\n",
       "  'city_repeat_count_30',\n",
       "  'city_repeat_count_360',\n",
       "  'city_repeat_count_7',\n",
       "  'city_repeat_rate_30',\n",
       "  'city_repeat_rate_360',\n",
       "  'city_repeat_rate_7',\n",
       "  'city_used_count_30',\n",
       "  'city_used_count_360',\n",
       "  'city_used_count_7',\n",
       "  'device_freq_rank_30',\n",
       "  'device_freq_rank_360',\n",
       "  'device_freq_rank_7',\n",
       "  'device_max_min_dist_30',\n",
       "  'device_max_min_dist_360',\n",
       "  'device_max_min_dist_7',\n",
       "  'device_most_freq_count_30',\n",
       "  'device_most_freq_count_360',\n",
       "  'device_most_freq_count_7',\n",
       "  'device_most_freq_rate_30',\n",
       "  'device_most_freq_rate_360',\n",
       "  'device_most_freq_rate_7',\n",
       "  'device_repeat_count_30',\n",
       "  'device_repeat_count_360',\n",
       "  'device_repeat_count_7',\n",
       "  'device_repeat_rate_30',\n",
       "  'device_repeat_rate_360',\n",
       "  'device_repeat_rate_7',\n",
       "  'device_used_count_30',\n",
       "  'device_used_count_360',\n",
       "  'device_used_count_7',\n",
       "  'ip_freq_rank_30',\n",
       "  'ip_freq_rank_360',\n",
       "  'ip_freq_rank_7',\n",
       "  'ip_max_min_dist_30',\n",
       "  'ip_max_min_dist_360',\n",
       "  'ip_max_min_dist_7',\n",
       "  'ip_most_freq_count_30',\n",
       "  'ip_most_freq_count_360',\n",
       "  'ip_most_freq_count_7',\n",
       "  'ip_most_freq_rate_30',\n",
       "  'ip_most_freq_rate_360',\n",
       "  'ip_most_freq_rate_7',\n",
       "  'ip_repeat_count_30',\n",
       "  'ip_repeat_count_360',\n",
       "  'ip_repeat_count_7',\n",
       "  'ip_repeat_rate_30',\n",
       "  'ip_repeat_rate_360',\n",
       "  'ip_repeat_rate_7',\n",
       "  'ip_used_count_30',\n",
       "  'ip_used_count_360',\n",
       "  'ip_used_count_7'],\n",
       " 'llc_user_habbit': ['fail_-1_count_30',\n",
       "  'fail_-1_count_360',\n",
       "  'fail_-1_rate_30',\n",
       "  'fail_-1_rate_360',\n",
       "  'fail_-2_count_30',\n",
       "  'fail_-2_count_360',\n",
       "  'fail_-2_rate_30',\n",
       "  'fail_-2_rate_360',\n",
       "  'is_scan_count_30',\n",
       "  'is_scan_count_360',\n",
       "  'is_scan_rate_30',\n",
       "  'is_scan_rate_360',\n",
       "  'log_from_10_count_30',\n",
       "  'log_from_10_count_360',\n",
       "  'log_from_10_rate_30',\n",
       "  'log_from_10_rate_360',\n",
       "  'log_from_11_count_30',\n",
       "  'log_from_11_count_360',\n",
       "  'log_from_11_rate_30',\n",
       "  'log_from_11_rate_360',\n",
       "  'log_from_1_count_30',\n",
       "  'log_from_1_count_360',\n",
       "  'log_from_1_rate_30',\n",
       "  'log_from_1_rate_360',\n",
       "  'log_from_21_count_30',\n",
       "  'log_from_21_count_360',\n",
       "  'log_from_21_rate_30',\n",
       "  'log_from_21_rate_360',\n",
       "  'log_from_2_count_30',\n",
       "  'log_from_2_count_360',\n",
       "  'log_from_2_rate_30',\n",
       "  'log_from_2_rate_360',\n",
       "  'period_0_login_rate_30',\n",
       "  'period_0_login_rate_360',\n",
       "  'period_0_login_times_30',\n",
       "  'period_0_login_times_360',\n",
       "  'period_0_trade_rate_30',\n",
       "  'period_0_trade_rate_360',\n",
       "  'period_0_trade_times_30',\n",
       "  'period_0_trade_times_360',\n",
       "  'period_1_login_rate_30',\n",
       "  'period_1_login_rate_360',\n",
       "  'period_1_login_times_30',\n",
       "  'period_1_login_times_360',\n",
       "  'period_1_trade_rate_30',\n",
       "  'period_1_trade_rate_360',\n",
       "  'period_1_trade_times_30',\n",
       "  'period_1_trade_times_360',\n",
       "  'period_2_login_rate_30',\n",
       "  'period_2_login_rate_360',\n",
       "  'period_2_login_times_30',\n",
       "  'period_2_login_times_360',\n",
       "  'period_2_trade_rate_30',\n",
       "  'period_2_trade_rate_360',\n",
       "  'period_2_trade_times_30',\n",
       "  'period_2_trade_times_360',\n",
       "  'period_3_login_rate_30',\n",
       "  'period_3_login_rate_360',\n",
       "  'period_3_login_times_30',\n",
       "  'period_3_login_times_360',\n",
       "  'period_3_trade_rate_30',\n",
       "  'period_3_trade_rate_360',\n",
       "  'period_3_trade_times_30',\n",
       "  'period_3_trade_times_360',\n",
       "  'period_4_login_rate_30',\n",
       "  'period_4_login_rate_360',\n",
       "  'period_4_login_times_30',\n",
       "  'period_4_login_times_360',\n",
       "  'period_4_trade_rate_30',\n",
       "  'period_4_trade_rate_360',\n",
       "  'period_4_trade_times_30',\n",
       "  'period_4_trade_times_360',\n",
       "  'success_1_count_30',\n",
       "  'success_1_count_360',\n",
       "  'success_1_rate_30',\n",
       "  'success_1_rate_360',\n",
       "  'success_31_count_30',\n",
       "  'success_31_count_360',\n",
       "  'success_31_rate_30',\n",
       "  'success_31_rate_360',\n",
       "  'type_1_count_30',\n",
       "  'type_1_count_360',\n",
       "  'type_1_rate_30',\n",
       "  'type_1_rate_360',\n",
       "  'type_2_count_30',\n",
       "  'type_2_count_360',\n",
       "  'type_2_rate_30',\n",
       "  'type_2_rate_360',\n",
       "  'type_3_count_30',\n",
       "  'type_3_count_360',\n",
       "  'type_3_rate_30',\n",
       "  'type_3_rate_360'],\n",
       " 'login_detail_new_features': ['login_distance_0_al',\n",
       "  'login_distance_1_al',\n",
       "  'login_distance_2_al',\n",
       "  'mean_login_distance'],\n",
       " 'login_trade_hist_stats': ['after_fail_max_1',\n",
       "  'after_fail_max_15',\n",
       "  'after_fail_max_3',\n",
       "  'after_fail_max_30',\n",
       "  'after_fail_max_360',\n",
       "  'after_fail_max_7',\n",
       "  'after_fail_mean_1',\n",
       "  'after_fail_mean_15',\n",
       "  'after_fail_mean_3',\n",
       "  'after_fail_mean_30',\n",
       "  'after_fail_mean_360',\n",
       "  'after_fail_mean_7',\n",
       "  'after_fail_med_1',\n",
       "  'after_fail_med_15',\n",
       "  'after_fail_med_3',\n",
       "  'after_fail_med_30',\n",
       "  'after_fail_med_360',\n",
       "  'after_fail_med_7',\n",
       "  'after_fail_min_1',\n",
       "  'after_fail_min_15',\n",
       "  'after_fail_min_3',\n",
       "  'after_fail_min_30',\n",
       "  'after_fail_min_360',\n",
       "  'after_fail_min_7',\n",
       "  'after_fail_std_1',\n",
       "  'after_fail_std_15',\n",
       "  'after_fail_std_3',\n",
       "  'after_fail_std_30',\n",
       "  'after_fail_std_360',\n",
       "  'after_fail_std_7',\n",
       "  'login_fail_times_1',\n",
       "  'login_fail_times_15',\n",
       "  'login_fail_times_3',\n",
       "  'login_fail_times_30',\n",
       "  'login_fail_times_360',\n",
       "  'login_fail_times_7',\n",
       "  'login_success_rate_1',\n",
       "  'login_success_rate_15',\n",
       "  'login_success_rate_3',\n",
       "  'login_success_rate_30',\n",
       "  'login_success_rate_360',\n",
       "  'login_success_rate_7',\n",
       "  'login_success_times_1',\n",
       "  'login_success_times_15',\n",
       "  'login_success_times_3',\n",
       "  'login_success_times_30',\n",
       "  'login_success_times_360',\n",
       "  'login_success_times_7',\n",
       "  'login_times_1',\n",
       "  'login_times_15',\n",
       "  'login_times_3',\n",
       "  'login_times_30',\n",
       "  'login_times_360',\n",
       "  'login_times_7',\n",
       "  'multiple_fails_1',\n",
       "  'multiple_fails_15',\n",
       "  'multiple_fails_3',\n",
       "  'multiple_fails_30',\n",
       "  'multiple_fails_360',\n",
       "  'multiple_fails_7',\n",
       "  'timelong_max_1',\n",
       "  'timelong_max_15',\n",
       "  'timelong_max_3',\n",
       "  'timelong_max_30',\n",
       "  'timelong_max_360',\n",
       "  'timelong_max_7',\n",
       "  'timelong_mean_1',\n",
       "  'timelong_mean_15',\n",
       "  'timelong_mean_3',\n",
       "  'timelong_mean_30',\n",
       "  'timelong_mean_360',\n",
       "  'timelong_mean_7',\n",
       "  'timelong_med_1',\n",
       "  'timelong_med_15',\n",
       "  'timelong_med_3',\n",
       "  'timelong_med_30',\n",
       "  'timelong_med_360',\n",
       "  'timelong_med_7',\n",
       "  'timelong_min_1',\n",
       "  'timelong_min_15',\n",
       "  'timelong_min_3',\n",
       "  'timelong_min_30',\n",
       "  'timelong_min_360',\n",
       "  'timelong_min_7',\n",
       "  'timelong_std_1',\n",
       "  'timelong_std_15',\n",
       "  'timelong_std_3',\n",
       "  'timelong_std_30',\n",
       "  'timelong_std_360',\n",
       "  'timelong_std_7',\n",
       "  'trade_login_fail_rate_1',\n",
       "  'trade_login_fail_rate_15',\n",
       "  'trade_login_fail_rate_3',\n",
       "  'trade_login_fail_rate_30',\n",
       "  'trade_login_fail_rate_360',\n",
       "  'trade_login_fail_rate_7',\n",
       "  'trade_login_rate_1',\n",
       "  'trade_login_rate_15',\n",
       "  'trade_login_rate_3',\n",
       "  'trade_login_rate_30',\n",
       "  'trade_login_rate_360',\n",
       "  'trade_login_rate_7',\n",
       "  'trade_login_success_rate_1',\n",
       "  'trade_login_success_rate_15',\n",
       "  'trade_login_success_rate_3',\n",
       "  'trade_login_success_rate_30',\n",
       "  'trade_login_success_rate_360',\n",
       "  'trade_login_success_rate_7',\n",
       "  'trade_times_1',\n",
       "  'trade_times_15',\n",
       "  'trade_times_3',\n",
       "  'trade_times_30',\n",
       "  'trade_times_360',\n",
       "  'trade_times_7'],\n",
       " 'recent_login_detail': ['timelong_login_0',\n",
       "  'timelong_login_1',\n",
       "  'timelong_login_2',\n",
       "  'log_from_login_0',\n",
       "  'log_from_login_1',\n",
       "  'log_from_login_2',\n",
       "  'result_login_0',\n",
       "  'result_login_1',\n",
       "  'result_login_2',\n",
       "  'type_login_0',\n",
       "  'type_login_1',\n",
       "  'type_login_2',\n",
       "  'is_scan_login_0',\n",
       "  'is_scan_login_1',\n",
       "  'is_scan_login_2',\n",
       "  'day_login_0',\n",
       "  'day_login_1',\n",
       "  'day_login_2',\n",
       "  'weekday_login_0',\n",
       "  'weekday_login_1',\n",
       "  'weekday_login_2',\n",
       "  'hour_login_0',\n",
       "  'hour_login_1',\n",
       "  'hour_login_2',\n",
       "  'day_cycle_login_0',\n",
       "  'day_cycle_login_1',\n",
       "  'day_cycle_login_2',\n",
       "  'weekday_cycle_login_0',\n",
       "  'weekday_cycle_login_1',\n",
       "  'weekday_cycle_login_2',\n",
       "  'hour_cycle_login_0',\n",
       "  'hour_cycle_login_1',\n",
       "  'hour_cycle_login_2',\n",
       "  'has_trade_login_0',\n",
       "  'has_trade_login_1',\n",
       "  'has_trade_login_2',\n",
       "  'recent_login_number'],\n",
       " 'trade_and_recent_login_comparing': ['device_comparing_login_1',\n",
       "  'device_comparing_login_2',\n",
       "  'ip_comparing_login_1',\n",
       "  'ip_comparing_login_2',\n",
       "  'city_comparing_login_1',\n",
       "  'city_comparing_login_2',\n",
       "  'log_from_comparing_login_1',\n",
       "  'log_from_comparing_login_2',\n",
       "  'result_comparing_login_1',\n",
       "  'result_comparing_login_2',\n",
       "  'type_comparing_login_1',\n",
       "  'type_comparing_login_2',\n",
       "  'login_distance_0',\n",
       "  'login_distance_1',\n",
       "  'login_distance_2'],\n",
       " 'trade_detail_feature': ['day',\n",
       "  'weekday',\n",
       "  'hour',\n",
       "  'day_cycle',\n",
       "  'weekday_cycle',\n",
       "  'hour_cycle']}"
      ]
     },
     "execution_count": 3,
     "metadata": {},
     "output_type": "execute_result"
    }
   ],
   "source": [
    "config.feature_dict"
   ]
  },
  {
   "cell_type": "code",
   "execution_count": 4,
   "metadata": {
    "scrolled": true
   },
   "outputs": [
    {
     "data": {
      "text/plain": [
       "\"\\n#trade time generating and building cycles\\ntrade_tt['month'] = trade_tt['time'].apply(lambda x : x.month)\\ntrade_tt['day'] = trade_tt['time'].apply(lambda x : x.day)\\ntrade_tt['weekday'] = trade_tt['time'].apply(lambda x : x.weekday())\\ntrade_tt['hour'] = trade_tt['time'].apply(lambda x : x.hour)\\n\\n#trade_tt['month_cycle'] = trade_tt['month'].apply(lambda x : x + 6 if x + 6 < 12 else x-6)\\ntrade_tt['day_cycle'] = trade_tt['day'].apply(lambda x : x+15 if x + 15< 31 else x - 15)\\ntrade_tt['weekday_cycle'] = trade_tt['weekday'].apply(lambda x : x+3 if x +3 < 7 else x -3)\\ntrade_tt['hour_cycle'] = trade_tt['hour'].apply(lambda x : x + 12 if x + 12 < 23 else x - 12)\\n\\n\""
      ]
     },
     "execution_count": 4,
     "metadata": {},
     "output_type": "execute_result"
    }
   ],
   "source": [
    "login_tt = pd.read_csv(data_path+'login_tt.csv')\n",
    "#trade_tt = pd.read_csv(data_path+'trade_tt.csv')\n",
    "login_tt['time'] = login_tt['time'].apply(lambda x : datetime.datetime.strptime(x , '%Y-%m-%d %H:%M:%S'))\n",
    "#trade_tt['time'] = trade_tt['time'].apply(lambda x : datetime.datetime.strptime(x , '%Y-%m-%d %H:%M:%S'))\n",
    "\n",
    "#login_tt['time'] = login_tt['time'].apply(lambda x : datetime.datetime.strptime(x , '%Y-%m-%d %H:%M:%S'))\n",
    "\n",
    "#login time generating and building cycles\n",
    "login_tt['month'] = login_tt['time'].apply(lambda x : x.month)\n",
    "login_tt['day'] = login_tt['time'].apply(lambda x : x.day)\n",
    "login_tt['weekday'] = login_tt['time'].apply(lambda x : x.weekday())\n",
    "login_tt['hour'] = login_tt['time'].apply(lambda x : x.hour)\n",
    "\n",
    "#login_tt['month_cycle'] = login_tt['month'].apply(lambda x : x + 6 if x + 6 < 12 else x-6)\n",
    "login_tt['day_cycle'] = login_tt['day'].apply(lambda x : x+15 if x + 15< 31 else x - 15)\n",
    "login_tt['weekday_cycle'] = login_tt['weekday'].apply(lambda x : x+3 if x +3 < 7 else x -3)\n",
    "login_tt['hour_cycle'] = login_tt['hour'].apply(lambda x : x + 12 if x + 12 < 23 else x - 12)\n",
    "\n",
    "\"\"\"\n",
    "#trade time generating and building cycles\n",
    "trade_tt['month'] = trade_tt['time'].apply(lambda x : x.month)\n",
    "trade_tt['day'] = trade_tt['time'].apply(lambda x : x.day)\n",
    "trade_tt['weekday'] = trade_tt['time'].apply(lambda x : x.weekday())\n",
    "trade_tt['hour'] = trade_tt['time'].apply(lambda x : x.hour)\n",
    "\n",
    "#trade_tt['month_cycle'] = trade_tt['month'].apply(lambda x : x + 6 if x + 6 < 12 else x-6)\n",
    "trade_tt['day_cycle'] = trade_tt['day'].apply(lambda x : x+15 if x + 15< 31 else x - 15)\n",
    "trade_tt['weekday_cycle'] = trade_tt['weekday'].apply(lambda x : x+3 if x +3 < 7 else x -3)\n",
    "trade_tt['hour_cycle'] = trade_tt['hour'].apply(lambda x : x + 12 if x + 12 < 23 else x - 12)\n",
    "\n",
    "\"\"\""
   ]
  },
  {
   "cell_type": "code",
   "execution_count": 5,
   "metadata": {
    "collapsed": true,
    "scrolled": true
   },
   "outputs": [],
   "source": [
    "#trade_tt.to_csv(data_path+'trade_tt_with_recent_3_log_id.csv',index =False)\n",
    "trade_tt = pd.read_csv(data_path+'trade_tt_with_recent_3_log_id.csv')\n",
    "trade_tt['time'] = trade_tt['time'].apply(lambda x : datetime.datetime.strptime(x , '%Y-%m-%d %H:%M:%S'))"
   ]
  },
  {
   "cell_type": "code",
   "execution_count": 6,
   "metadata": {
    "collapsed": true,
    "scrolled": true
   },
   "outputs": [],
   "source": [
    "detail_info = ['timelong','log_from','city','result','type','is_scan',\n",
    "               'month','day','weekday','hour','day_cycle','weekday_cycle','hour_cycle']\n",
    "login_tt_detail = login_tt[['log_id','time','device','ip']+detail_info]"
   ]
  },
  {
   "cell_type": "code",
   "execution_count": 7,
   "metadata": {
    "collapsed": true,
    "scrolled": true
   },
   "outputs": [],
   "source": [
    "#merging\n",
    "trade_tt = trade_tt.merge(login_tt_detail.add_suffix('_login_0'),how = 'left',left_on ='recent_login_id_0',right_on = 'log_id_login_0',\n",
    "                          copy = False)\n",
    "trade_tt = trade_tt.merge(login_tt_detail.add_suffix('_login_1'),how = 'left',left_on ='recent_login_id_1',right_on = 'log_id_login_1',\n",
    "                         copy = False)\n",
    "trade_tt = trade_tt.merge(login_tt_detail.add_suffix('_login_2'),how = 'left',left_on ='recent_login_id_2',right_on = 'log_id_login_2',\n",
    "                          copy = False)"
   ]
  },
  {
   "cell_type": "code",
   "execution_count": 29,
   "metadata": {
    "collapsed": true,
    "scrolled": true
   },
   "outputs": [],
   "source": [
    "#getting the time distance \n",
    "trade_tt['login_distance_0']=trade_tt['time']-trade_tt['time_login_0']\n",
    "trade_tt['login_distance_1']=trade_tt['time']-trade_tt['time_login_1']\n",
    "trade_tt['login_distance_2']=trade_tt['time']-trade_tt['time_login_2']"
   ]
  },
  {
   "cell_type": "code",
   "execution_count": 30,
   "metadata": {
    "collapsed": true
   },
   "outputs": [],
   "source": [
    "trade_tt['login_distance_0'] = trade_tt['login_distance_0'].apply(lambda x : x.total_seconds())\n",
    "trade_tt['login_distance_1'] = trade_tt['login_distance_1'].apply(lambda x : x.total_seconds())\n",
    "trade_tt['login_distance_2'] = trade_tt['login_distance_2'].apply(lambda x : x.total_seconds())"
   ]
  },
  {
   "cell_type": "code",
   "execution_count": 10,
   "metadata": {},
   "outputs": [
    {
     "data": {
      "text/plain": [
       "Index(['rowkey', 'time', 'id', 'from', 'month', 'day', 'weekday', 'hour',\n",
       "       'day_cycle', 'weekday_cycle', 'hour_cycle', 'recent_login_id_0',\n",
       "       'recent_login_id_1', 'recent_login_id_2', 'log_id_login_0',\n",
       "       'time_login_0', 'device_login_0', 'ip_login_0', 'timelong_login_0',\n",
       "       'log_from_login_0', 'city_login_0', 'result_login_0', 'type_login_0',\n",
       "       'is_scan_login_0', 'month_login_0', 'day_login_0', 'weekday_login_0',\n",
       "       'hour_login_0', 'day_cycle_login_0', 'weekday_cycle_login_0',\n",
       "       'hour_cycle_login_0', 'log_id_login_1', 'time_login_1',\n",
       "       'device_login_1', 'ip_login_1', 'timelong_login_1', 'log_from_login_1',\n",
       "       'city_login_1', 'result_login_1', 'type_login_1', 'is_scan_login_1',\n",
       "       'month_login_1', 'day_login_1', 'weekday_login_1', 'hour_login_1',\n",
       "       'day_cycle_login_1', 'weekday_cycle_login_1', 'hour_cycle_login_1',\n",
       "       'log_id_login_2', 'time_login_2', 'device_login_2', 'ip_login_2',\n",
       "       'timelong_login_2', 'log_from_login_2', 'city_login_2',\n",
       "       'result_login_2', 'type_login_2', 'is_scan_login_2', 'month_login_2',\n",
       "       'day_login_2', 'weekday_login_2', 'hour_login_2', 'day_cycle_login_2',\n",
       "       'weekday_cycle_login_2', 'hour_cycle_login_2', 'login_distance_0',\n",
       "       'login_distance_1', 'login_distance_2'],\n",
       "      dtype='object')"
      ]
     },
     "execution_count": 10,
     "metadata": {},
     "output_type": "execute_result"
    }
   ],
   "source": [
    "trade_tt.columns"
   ]
  },
  {
   "cell_type": "markdown",
   "metadata": {},
   "source": [
    "### filling the login_distance_0/1/2"
   ]
  },
  {
   "cell_type": "markdown",
   "metadata": {},
   "source": [
    "Use following rules:\n",
    "   start_date datetime.datetime.strptime('2015-1-1','%Y-%m-%d')\n",
    "   - mean_login_distance, last login distance from start if no login, single login time from start or to final day if only one case\n",
    "   - for login_distance 0, return max(mean_login_distance,row distance from start_date)\n",
    "   - for login distance 1, return max(mean_login_distance+login_distance 0，row distance from start_date)\n",
    "   - if login_distance 0 don't exist then return mean_login_distance+login_distance 0 for login distance 1"
   ]
  },
  {
   "cell_type": "code",
   "execution_count": 11,
   "metadata": {
    "collapsed": true
   },
   "outputs": [],
   "source": [
    "\"\"\"\n",
    "works on spark\n",
    "\"\"\"\n",
    "\n",
    "import pyspark as spark\n",
    "date_range_list = [360,30,7]\n",
    "\n",
    "conf = spark.SparkConf().setAppName('jupyter_backend').setMaster('local[15]')\\\n",
    "        .set('spark.executor.memory','2g')\\\n",
    "        .set('spark.default.parallelism','112')\n",
    "sc = spark.SparkContext(conf=conf)\n"
   ]
  },
  {
   "cell_type": "code",
   "execution_count": 12,
   "metadata": {
    "collapsed": true
   },
   "outputs": [],
   "source": [
    "start_date = datetime.datetime.strptime('2015-1-1','%Y-%m-%d')\n",
    "end_date = datetime.datetime.strptime('2015-8-1','%Y-%m-%d')\n",
    "\n",
    "def get_id_mean_login_distance(user_id,login_table):\n",
    "    related_logins = login_table[login_table['id']==user_id].sort_values(by = 'time')\n",
    "    if len(related_logins) == 0:\n",
    "        return (end_date-start_date).total_seconds()\n",
    "    elif len(related_logins) ==1:\n",
    "        only_sample_time = related_logins.iloc[0].time\n",
    "        return min(end_date - only_sample_time,only_sample_time - start_date).total_seconds()\n",
    "    else:\n",
    "        delta_list = []\n",
    "        for i in range(len(related_logins)-1):\n",
    "            delta_list.append(related_logins.iloc[i+1].time - related_logins.iloc[i].time)\n",
    "        return np.mean(delta_list).total_seconds()"
   ]
  },
  {
   "cell_type": "code",
   "execution_count": 13,
   "metadata": {
    "collapsed": true,
    "scrolled": true
   },
   "outputs": [],
   "source": [
    "rdd_buffer = trade_tt['id'].unique()\n",
    "rdd = sc.parallelize(rdd_buffer)\n",
    "\n",
    "result_rdd = rdd.map(lambda x : (x,get_id_mean_login_distance(x,login_tt)))\n",
    "id_result_list = result_rdd.collect()\n",
    "\n",
    "id_mean_login_distacne  = pd.DataFrame(id_result_list,columns = ['id','mean_login_distance'])\n",
    "trade_tt = trade_tt.merge(id_mean_login_distacne,how = 'left', on = 'id')"
   ]
  },
  {
   "cell_type": "code",
   "execution_count": 14,
   "metadata": {
    "collapsed": true
   },
   "outputs": [],
   "source": [
    "def filling_the_login_distance(idx_row_tuple):\n",
    "    idx =  idx_row_tuple[0]\n",
    "    row =  idx_row_tuple[1]\n",
    "    result_dict = {}\n",
    "    if np.isnan(row.login_distance_0):\n",
    "        login_distance_0_al = max(row.mean_login_distance,(row.time - start_date).total_seconds())\n",
    "        login_distance_1_al = login_distance_0_al + row.mean_login_distance\n",
    "        login_distance_2_al= login_distance_1_al + row.mean_login_distance\n",
    "    elif np.isnan(row.login_distance_1):\n",
    "        login_distance_0_al = row.login_distance_0\n",
    "        login_distance_1_al = max(row.mean_login_distance+row.login_distance_0,(row.time - start_date).total_seconds())\n",
    "        login_distance_2_al= login_distance_1_al + row.mean_login_distance\n",
    "    elif np.isnan(row.login_distance_2):\n",
    "        login_distance_0_al = row.login_distance_0\n",
    "        login_distance_1_al = row.login_distance_1\n",
    "        login_distance_2_al= max(row.mean_login_distance+row.login_distance_1,(row.time - start_date).total_seconds())\n",
    "    else:\n",
    "        login_distance_0_al = row.login_distance_0\n",
    "        login_distance_1_al = row.login_distance_1\n",
    "        login_distance_2_al= row.login_distance_2\n",
    "    \n",
    "    return (idx,row.rowkey,login_distance_0_al,login_distance_1_al,login_distance_2_al)"
   ]
  },
  {
   "cell_type": "code",
   "execution_count": 15,
   "metadata": {
    "collapsed": true
   },
   "outputs": [],
   "source": [
    "# begin to filling the login_distance related features\n",
    "trade_tt_temp = trade_tt[['rowkey','mean_login_distance','login_distance_0',\n",
    "                         'login_distance_1','login_distance_2','time']]\n",
    "rdd_buffer = []\n",
    "for (idx,row) in trade_tt.iterrows():\n",
    "    rdd_buffer.append((idx,row))\n",
    "    \n",
    "rdd = sc.parallelize(rdd_buffer)\n",
    "\n",
    "result_rdd = rdd.map(lambda x : filling_the_login_distance(x))\n",
    "new_login_distance_result_dict = result_rdd.collect()"
   ]
  },
  {
   "cell_type": "code",
   "execution_count": 16,
   "metadata": {
    "collapsed": true
   },
   "outputs": [],
   "source": [
    "trade_tt_new_login_result = pd.DataFrame(new_login_distance_result_dict,columns = ['ori_id','rowkey','login_distance_0_al',\n",
    "                                        'login_distance_1_al','login_distance_2_al'])"
   ]
  },
  {
   "cell_type": "code",
   "execution_count": 17,
   "metadata": {
    "collapsed": true
   },
   "outputs": [],
   "source": [
    "assert (trade_tt_new_login_result['ori_id']==trade_tt.index).all\n",
    "assert (trade_tt_new_login_result['rowkey']==trade_tt['rowkey']).all"
   ]
  },
  {
   "cell_type": "code",
   "execution_count": 18,
   "metadata": {
    "collapsed": true
   },
   "outputs": [],
   "source": [
    "trade_tt['login_distance_0_al'] = np.log(trade_tt_new_login_result['login_distance_0_al'])\n",
    "trade_tt['login_distance_1_al'] = np.log(trade_tt_new_login_result['login_distance_1_al'])\n",
    "trade_tt['login_distance_2_al'] = np.log(trade_tt_new_login_result['login_distance_2_al'])"
   ]
  },
  {
   "cell_type": "markdown",
   "metadata": {},
   "source": [
    "### timelong % 1000 for whole second check \n",
    "\n",
    "### and get the distance of login distance"
   ]
  },
  {
   "cell_type": "code",
   "execution_count": 22,
   "metadata": {
    "scrolled": true
   },
   "outputs": [],
   "source": [
    "trade_tt['timelong_login_0_mod_1000'] = trade_tt['timelong_login_0'].apply(lambda x : 1000 - x%1000 if x%1000 >500 else x%1000)\n",
    "trade_tt['timelong_login_1_mod_1000'] = trade_tt['timelong_login_1'].apply(lambda x : 1000 - x%1000 if x%1000 >500 else x%1000)\n",
    "trade_tt['timelong_login_2_mod_1000'] = trade_tt['timelong_login_2'].apply(lambda x : 1000 - x%1000 if x%1000 >500 else x%1000)"
   ]
  },
  {
   "cell_type": "code",
   "execution_count": 31,
   "metadata": {
    "scrolled": true
   },
   "outputs": [],
   "source": [
    "trade_tt['login_distance_diff']=np.abs(trade_tt['login_distance_2'] + trade_tt['login_distance_0'] - \n",
    "                                 2*trade_tt['login_distance_1'])"
   ]
  },
  {
   "cell_type": "code",
   "execution_count": 33,
   "metadata": {},
   "outputs": [],
   "source": [
    "trade_tt = trade_tt.fillna(-10)"
   ]
  },
  {
   "cell_type": "code",
   "execution_count": 34,
   "metadata": {
    "collapsed": true
   },
   "outputs": [],
   "source": [
    "login_detail_new_features = ['login_distance_0_al','login_distance_1_al','login_distance_2_al','mean_login_distance',\n",
    "                             'timelong_login_0_mod_1000','timelong_login_1_mod_1000','timelong_login_2_mod_1000','login_distance_diff']\n",
    "config.feature_dict['login_detail_new_features'] = login_detail_new_features\n",
    "pd.to_pickle(config,'config.pkl')"
   ]
  },
  {
   "cell_type": "code",
   "execution_count": 35,
   "metadata": {
    "collapsed": true
   },
   "outputs": [],
   "source": [
    "for feature in login_detail_new_features:\n",
    "    pd.to_pickle(trade_tt[feature].values,feature_path+feature+'.pkl')"
   ]
  }
 ],
 "metadata": {
  "kernelspec": {
   "display_name": "Python 3",
   "language": "python",
   "name": "python3"
  },
  "language_info": {
   "codemirror_mode": {
    "name": "ipython",
    "version": 3
   },
   "file_extension": ".py",
   "mimetype": "text/x-python",
   "name": "python",
   "nbconvert_exporter": "python",
   "pygments_lexer": "ipython3",
   "version": "3.6.3"
  }
 },
 "nbformat": 4,
 "nbformat_minor": 2
}
