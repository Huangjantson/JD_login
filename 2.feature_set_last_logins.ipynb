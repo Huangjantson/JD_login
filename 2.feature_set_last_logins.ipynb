{
 "cells": [
  {
   "cell_type": "code",
   "execution_count": 1,
   "metadata": {
    "collapsed": true
   },
   "outputs": [],
   "source": [
    "import pandas as pd\n",
    "import numpy as np\n",
    "import seaborn as sns\n",
    "from matplotlib import pyplot as plt \n",
    "import datetime"
   ]
  },
  {
   "cell_type": "code",
   "execution_count": 2,
   "metadata": {
    "collapsed": true
   },
   "outputs": [],
   "source": [
    "class Config:\n",
    "    pass\n",
    "config = pd.read_pickle('config.pkl')"
   ]
  },
  {
   "cell_type": "code",
   "execution_count": 3,
   "metadata": {
    "collapsed": true
   },
   "outputs": [],
   "source": [
    "data_path = '../../kaggleData/JD_logging/'\n",
    "feature_path = '../../kaggleData/JD_logging/features/'"
   ]
  },
  {
   "cell_type": "code",
   "execution_count": 4,
   "metadata": {
    "collapsed": true
   },
   "outputs": [],
   "source": [
    "login_tt = pd.read_csv(data_path+'login_tt.csv')\n",
    "#trade_tt = pd.read_csv(data_path+'trade_tt.csv')"
   ]
  },
  {
   "cell_type": "code",
   "execution_count": 5,
   "metadata": {},
   "outputs": [],
   "source": [
    "login_tt['time'] = login_tt['time'].apply(lambda x : datetime.datetime.strptime(x , '%Y-%m-%d %H:%M:%S'))\n",
    "#trade_tt['time'] = trade_tt['time'].apply(lambda x : datetime.datetime.strptime(x , '%Y-%m-%d %H:%M:%S'))"
   ]
  },
  {
   "cell_type": "code",
   "execution_count": 6,
   "metadata": {},
   "outputs": [
    {
     "data": {
      "text/plain": [
       "\"\\n#trade time generating and building cycles\\ntrade_tt['month'] = trade_tt['time'].apply(lambda x : x.month)\\ntrade_tt['day'] = trade_tt['time'].apply(lambda x : x.day)\\ntrade_tt['weekday'] = trade_tt['time'].apply(lambda x : x.weekday())\\ntrade_tt['hour'] = trade_tt['time'].apply(lambda x : x.hour)\\n\\n#trade_tt['month_cycle'] = trade_tt['month'].apply(lambda x : x + 6 if x + 6 < 12 else x-6)\\ntrade_tt['day_cycle'] = trade_tt['day'].apply(lambda x : x+15 if x + 15< 31 else x - 15)\\ntrade_tt['weekday_cycle'] = trade_tt['weekday'].apply(lambda x : x+3 if x +3 < 7 else x -3)\\ntrade_tt['hour_cycle'] = trade_tt['hour'].apply(lambda x : x + 12 if x + 12 < 23 else x - 12)\\n\\n\""
      ]
     },
     "execution_count": 6,
     "metadata": {},
     "output_type": "execute_result"
    }
   ],
   "source": [
    "#login_tt['time'] = login_tt['time'].apply(lambda x : datetime.datetime.strptime(x , '%Y-%m-%d %H:%M:%S'))\n",
    "\n",
    "#login time generating and building cycles\n",
    "login_tt['month'] = login_tt['time'].apply(lambda x : x.month)\n",
    "login_tt['day'] = login_tt['time'].apply(lambda x : x.day)\n",
    "login_tt['weekday'] = login_tt['time'].apply(lambda x : x.weekday())\n",
    "login_tt['hour'] = login_tt['time'].apply(lambda x : x.hour)\n",
    "\n",
    "#login_tt['month_cycle'] = login_tt['month'].apply(lambda x : x + 6 if x + 6 < 12 else x-6)\n",
    "login_tt['day_cycle'] = login_tt['day'].apply(lambda x : x+15 if x + 15< 31 else x - 15)\n",
    "login_tt['weekday_cycle'] = login_tt['weekday'].apply(lambda x : x+3 if x +3 < 7 else x -3)\n",
    "login_tt['hour_cycle'] = login_tt['hour'].apply(lambda x : x + 12 if x + 12 < 23 else x - 12)\n",
    "\n",
    "\"\"\"\n",
    "#trade time generating and building cycles\n",
    "trade_tt['month'] = trade_tt['time'].apply(lambda x : x.month)\n",
    "trade_tt['day'] = trade_tt['time'].apply(lambda x : x.day)\n",
    "trade_tt['weekday'] = trade_tt['time'].apply(lambda x : x.weekday())\n",
    "trade_tt['hour'] = trade_tt['time'].apply(lambda x : x.hour)\n",
    "\n",
    "#trade_tt['month_cycle'] = trade_tt['month'].apply(lambda x : x + 6 if x + 6 < 12 else x-6)\n",
    "trade_tt['day_cycle'] = trade_tt['day'].apply(lambda x : x+15 if x + 15< 31 else x - 15)\n",
    "trade_tt['weekday_cycle'] = trade_tt['weekday'].apply(lambda x : x+3 if x +3 < 7 else x -3)\n",
    "trade_tt['hour_cycle'] = trade_tt['hour'].apply(lambda x : x + 12 if x + 12 < 23 else x - 12)\n",
    "\n",
    "\"\"\""
   ]
  },
  {
   "cell_type": "code",
   "execution_count": 7,
   "metadata": {},
   "outputs": [],
   "source": [
    "def find_related_logins_before(row,login_table,*args,**kw):\n",
    "    related_logins = login_table[login_table['id'] == row.id]\n",
    "    related_logins_before = related_logins[related_logins['time']<row.time]\n",
    "    return related_logins_before\n",
    "\n",
    "#when times is larger than all related login times, no errors return but only returning all past related ones, no null rows filled \n",
    "def related_logins_by_time(row,login_table,times):\n",
    "    related_logins_before = find_related_logins_before(row,login_table).sort_values(by = 'time',ascending = False)\n",
    "    return related_logins_before[:times]"
   ]
  },
  {
   "cell_type": "markdown",
   "metadata": {},
   "source": [
    "### finding the last logins"
   ]
  },
  {
   "cell_type": "code",
   "execution_count": 8,
   "metadata": {
    "collapsed": true
   },
   "outputs": [],
   "source": [
    "\"\"\"\n",
    "#trade_tt['recent_login_id'] = trade_tt.apply(lambda x : list(related_logins_by_time(x ,login_tt,3)['log_id']),axis=1)\n",
    "temp = []\n",
    "for row_tuple in trade_tt.iterrows():\n",
    "    row = row_tuple[1]\n",
    "    temp.append(related_logins_by_time(row ,login_tt,3)['log_id'])\n",
    "    \n",
    "trade_tt['recent_login_id'] = temp\n",
    "\n",
    "trade_tt['recent_login_id_0'] = trade_tt['recent_login_id'].apply(lambda x : x.iloc[0] if len(x)>0 else None)\n",
    "trade_tt['recent_login_id_1'] = trade_tt['recent_login_id'].apply(lambda x : x.iloc[1] if len(x)>1 else None)\n",
    "trade_tt['recent_login_id_2'] = trade_tt['recent_login_id'].apply(lambda x : x.iloc[2] if len(x)>2 else None)\n",
    "\n",
    "del trade_tt['recent_login_id']\n",
    "\"\"\"\n",
    "#trade_tt.to_csv(data_path+'trade_tt_with_recent_3_log_id.csv',index =False)\n",
    "trade_tt = pd.read_csv(data_path+'trade_tt_with_recent_3_log_id.csv')\n",
    "trade_tt['time'] = trade_tt['time'].apply(lambda x : datetime.datetime.strptime(x , '%Y-%m-%d %H:%M:%S'))"
   ]
  },
  {
   "cell_type": "markdown",
   "metadata": {},
   "source": [
    "### Making up additional detail information"
   ]
  },
  {
   "cell_type": "code",
   "execution_count": 9,
   "metadata": {},
   "outputs": [],
   "source": [
    "trade_tt['recent_login_number'] = trade_tt.apply(lambda x : 3 if not pd.isnull(x.recent_login_id_2)  else 2 if not pd.isnull(x.recent_login_id_1)\n",
    "                                                else 1 if not pd.isnull(x.recent_login_id_0) else 0, axis =1)"
   ]
  },
  {
   "cell_type": "code",
   "execution_count": 14,
   "metadata": {},
   "outputs": [],
   "source": [
    "#regenerated \n",
    "login_tt['has_trade'] = np.isnan(login_tt.merge(trade_tt,how = 'left',left_on = 'log_id',\n",
    "right_on = 'recent_login_id_0',suffixes = ['','_trade'])['recent_login_id_0'])"
   ]
  },
  {
   "cell_type": "markdown",
   "metadata": {},
   "source": [
    "### Combining the login info to the trade table  "
   ]
  },
  {
   "cell_type": "code",
   "execution_count": 14,
   "metadata": {
    "collapsed": true
   },
   "outputs": [],
   "source": [
    "detail_info = ['timelong','log_from','city','result','type','is_scan',\n",
    "               'month','day','weekday','hour','day_cycle','weekday_cycle','hour_cycle','has_trade']"
   ]
  },
  {
   "cell_type": "code",
   "execution_count": 15,
   "metadata": {},
   "outputs": [],
   "source": [
    "login_tt_detail = login_tt[['log_id','time','device','ip']+detail_info]"
   ]
  },
  {
   "cell_type": "code",
   "execution_count": 18,
   "metadata": {},
   "outputs": [],
   "source": [
    "#merging\n",
    "trade_tt = trade_tt.merge(login_tt_detail.add_suffix('_login_0'),how = 'left',left_on ='recent_login_id_0',right_on = 'log_id_login_0',\n",
    "                          copy = False)\n",
    "trade_tt = trade_tt.merge(login_tt_detail.add_suffix('_login_1'),how = 'left',left_on ='recent_login_id_1',right_on = 'log_id_login_1',\n",
    "                         copy = False)\n",
    "trade_tt = trade_tt.merge(login_tt_detail.add_suffix('_login_2'),how = 'left',left_on ='recent_login_id_2',right_on = 'log_id_login_2',\n",
    "                          copy = False)"
   ]
  },
  {
   "cell_type": "code",
   "execution_count": 17,
   "metadata": {},
   "outputs": [],
   "source": [
    "#getting the time distance \n",
    "trade_tt['login_distance_0']=trade_tt['time']-trade_tt['time_login_0']\n",
    "trade_tt['login_distance_1']=trade_tt['time']-trade_tt['time_login_1']\n",
    "trade_tt['login_distance_2']=trade_tt['time']-trade_tt['time_login_2']"
   ]
  },
  {
   "cell_type": "code",
   "execution_count": 34,
   "metadata": {},
   "outputs": [
    {
     "name": "stdout",
     "output_type": "stream",
     "text": [
      "('device', '_login_1')\n",
      "('device', '_login_2')\n",
      "('ip', '_login_1')\n",
      "('ip', '_login_2')\n",
      "('city', '_login_1')\n",
      "('city', '_login_2')\n",
      "('log_from', '_login_1')\n",
      "('log_from', '_login_2')\n",
      "('result', '_login_1')\n",
      "('result', '_login_2')\n",
      "('type', '_login_1')\n",
      "('type', '_login_2')\n"
     ]
    }
   ],
   "source": [
    "#getting if using the same device/ip\n",
    "suffixes = ['_login_1','_login_2']\n",
    "comparings = ['device','ip','city','log_from','result','type']\n",
    "\n",
    "comparing_result = []\n",
    "\n",
    "for comparing in comparings:\n",
    "    for suffix in suffixes:\n",
    "        print(comparing,suffix)\n",
    "        trade_tt[comparing+'_comparing'+suffix] = (trade_tt[comparing+'_login_0']==trade_tt[comparing+suffix])\n",
    "        comparing_result.append(comparing+'_comparing'+suffix)\n",
    "        \n",
    "comparing_result.extend(['login_distance_0','login_distance_1','login_distance_2'])"
   ]
  },
  {
   "cell_type": "code",
   "execution_count": 36,
   "metadata": {},
   "outputs": [
    {
     "data": {
      "text/plain": [
       "Index([u'rowkey', u'time', u'id', u'from', u'month', u'day', u'weekday',\n",
       "       u'hour', u'day_cycle', u'weekday_cycle', u'hour_cycle',\n",
       "       u'recent_login_id_0', u'recent_login_id_1', u'recent_login_id_2',\n",
       "       u'recent_login_number', u'log_id_login_0', u'time_login_0',\n",
       "       u'device_login_0', u'ip_login_0', u'timelong_login_0',\n",
       "       u'log_from_login_0', u'city_login_0', u'result_login_0',\n",
       "       u'type_login_0', u'is_scan_login_0', u'month_login_0', u'day_login_0',\n",
       "       u'weekday_login_0', u'hour_login_0', u'day_cycle_login_0',\n",
       "       u'weekday_cycle_login_0', u'hour_cycle_login_0', u'log_id_login_1',\n",
       "       u'time_login_1', u'device_login_1', u'ip_login_1', u'timelong_login_1',\n",
       "       u'log_from_login_1', u'city_login_1', u'result_login_1',\n",
       "       u'type_login_1', u'is_scan_login_1', u'month_login_1', u'day_login_1',\n",
       "       u'weekday_login_1', u'hour_login_1', u'day_cycle_login_1',\n",
       "       u'weekday_cycle_login_1', u'hour_cycle_login_1', u'log_id_login_2',\n",
       "       u'time_login_2', u'device_login_2', u'ip_login_2', u'timelong_login_2',\n",
       "       u'log_from_login_2', u'city_login_2', u'result_login_2',\n",
       "       u'type_login_2', u'is_scan_login_2', u'month_login_2', u'day_login_2',\n",
       "       u'weekday_login_2', u'hour_login_2', u'day_cycle_login_2',\n",
       "       u'weekday_cycle_login_2', u'hour_cycle_login_2', u'login_distance_0',\n",
       "       u'login_distance_1', u'login_distance_2', u'device_comparing_login_2',\n",
       "       u'ip_comparing_login_2', u'city_comparing_login_2',\n",
       "       u'log_from_comparing_login_2', u'result_comparing_login_2',\n",
       "       u'type_comparing_login_2', u'device_comparing_login_1',\n",
       "       u'ip_comparing_login_1', u'city_comparing_login_1',\n",
       "       u'log_from_comparing_login_1', u'result_comparing_login_1',\n",
       "       u'type_comparing_login_1'],\n",
       "      dtype='object')"
      ]
     },
     "execution_count": 36,
     "metadata": {},
     "output_type": "execute_result"
    }
   ],
   "source": [
    "trade_tt.columns"
   ]
  },
  {
   "cell_type": "markdown",
   "metadata": {},
   "source": [
    "### building the basic detail feature set"
   ]
  },
  {
   "cell_type": "code",
   "execution_count": 38,
   "metadata": {},
   "outputs": [],
   "source": [
    "trade_detail = ['month','day','weekday','hour','day_cycle','weekday_cycle','hour_cycle']\n",
    "\n",
    "login_detail = []\n",
    "suffixes = ['_login_0','_login_1','_login_2']\n",
    "for detail in detail_info:\n",
    "    for suffix in suffixes:\n",
    "        login_detail.append(detail+suffix)\n",
    "    \n",
    "trade_basic = trade_tt[trade_detail+login_detail+comparing_result+['recent_login_number']]"
   ]
  },
  {
   "cell_type": "markdown",
   "metadata": {},
   "source": [
    "## data cleaning"
   ]
  },
  {
   "cell_type": "markdown",
   "metadata": {},
   "source": [
    "### Normal int/float cleaning"
   ]
  },
  {
   "cell_type": "code",
   "execution_count": 41,
   "metadata": {
    "scrolled": true
   },
   "outputs": [
    {
     "name": "stdout",
     "output_type": "stream",
     "text": [
      "Index([u'month', u'day', u'weekday', u'hour', u'day_cycle', u'weekday_cycle',\n",
      "       u'hour_cycle', u'timelong_login_0', u'timelong_login_1',\n",
      "       u'timelong_login_2', u'log_from_login_0', u'log_from_login_1',\n",
      "       u'log_from_login_2', u'city_login_0', u'city_login_1', u'city_login_2',\n",
      "       u'result_login_0', u'result_login_1', u'result_login_2',\n",
      "       u'type_login_0', u'type_login_1', u'type_login_2', u'is_scan_login_0',\n",
      "       u'is_scan_login_1', u'is_scan_login_2', u'month_login_0',\n",
      "       u'month_login_1', u'month_login_2', u'day_login_0', u'day_login_1',\n",
      "       u'day_login_2', u'weekday_login_0', u'weekday_login_1',\n",
      "       u'weekday_login_2', u'hour_login_0', u'hour_login_1', u'hour_login_2',\n",
      "       u'day_cycle_login_0', u'day_cycle_login_1', u'day_cycle_login_2',\n",
      "       u'weekday_cycle_login_0', u'weekday_cycle_login_1',\n",
      "       u'weekday_cycle_login_2', u'hour_cycle_login_0', u'hour_cycle_login_1',\n",
      "       u'hour_cycle_login_2', u'device_comparing_login_1',\n",
      "       u'device_comparing_login_2', u'ip_comparing_login_1',\n",
      "       u'ip_comparing_login_2', u'city_comparing_login_1',\n",
      "       u'city_comparing_login_2', u'log_from_comparing_login_1',\n",
      "       u'log_from_comparing_login_2', u'result_comparing_login_1',\n",
      "       u'result_comparing_login_2', u'type_comparing_login_1',\n",
      "       u'type_comparing_login_2', u'login_distance_0', u'login_distance_1',\n",
      "       u'login_distance_2', u'recent_login_number'],\n",
      "      dtype='object')\n"
     ]
    }
   ],
   "source": [
    "print trade_basic.columns"
   ]
  },
  {
   "cell_type": "code",
   "execution_count": 42,
   "metadata": {
    "collapsed": true
   },
   "outputs": [],
   "source": [
    "#trade_basic.to_pickle(data_path+'trade_basic_temp.pkl')"
   ]
  },
  {
   "cell_type": "code",
   "execution_count": 38,
   "metadata": {
    "scrolled": true
   },
   "outputs": [],
   "source": [
    "#cleaning the data\n",
    "columns_with_null = []\n",
    "for column in  trade_basic.columns:\n",
    "    if np.sum(pd.isnull(trade_basic[column]))>0:\n",
    "        columns_with_null.append(column)"
   ]
  },
  {
   "cell_type": "code",
   "execution_count": 43,
   "metadata": {},
   "outputs": [
    {
     "name": "stderr",
     "output_type": "stream",
     "text": [
      "C:\\Users\\dell\\Anaconda2\\lib\\site-packages\\pandas\\core\\indexing.py:465: SettingWithCopyWarning: \n",
      "A value is trying to be set on a copy of a slice from a DataFrame.\n",
      "Try using .loc[row_indexer,col_indexer] = value instead\n",
      "\n",
      "See the caveats in the documentation: http://pandas.pydata.org/pandas-docs/stable/indexing.html#indexing-view-versus-copy\n",
      "  self.obj[item] = s\n"
     ]
    }
   ],
   "source": [
    "#fill the N/A values with a new certain mark\n",
    "#reset the login timelong to be certain minus value as -1\n",
    "#set all others to be -10,meaning value lost\n",
    "trade_basic.loc[trade_basic['timelong_login_0']<0,'timelong_login_0'] = -1\n",
    "trade_basic = trade_basic.fillna(-10)"
   ]
  },
  {
   "cell_type": "markdown",
   "metadata": {},
   "source": [
    "### Timedelta converting and cleaning"
   ]
  },
  {
   "cell_type": "code",
   "execution_count": 80,
   "metadata": {
    "scrolled": true
   },
   "outputs": [],
   "source": [
    "temp = trade_basic['login_distance_0']"
   ]
  },
  {
   "cell_type": "code",
   "execution_count": 99,
   "metadata": {
    "scrolled": true
   },
   "outputs": [
    {
     "data": {
      "image/png": "[encoded data removed]",
      "text/plain": [
       "<matplotlib.figure.Figure at 0x3e108ef0>"
      ]
     },
     "metadata": {},
     "output_type": "display_data"
    }
   ],
   "source": [
    "temp[temp == -10] = np.nan\n",
    "plt.hist(np.log(temp.dropna()))\n",
    "plt.show()"
   ]
  },
  {
   "cell_type": "code",
   "execution_count": 45,
   "metadata": {
    "collapsed": true
   },
   "outputs": [],
   "source": [
    "trade_basic['login_distance_0'] = trade_basic['login_distance_0'].apply(lambda x : np.log(x.total_seconds()))\n",
    "trade_basic['login_distance_1'] = trade_basic['login_distance_1'].apply(lambda x : np.log(x.total_seconds()))\n",
    "trade_basic['login_distance_2'] = trade_basic['login_distance_2'].apply(lambda x : np.log(x.total_seconds()))\n",
    "\n",
    "trade_basic = trade_basic.fillna(-10)"
   ]
  },
  {
   "cell_type": "code",
   "execution_count": 48,
   "metadata": {},
   "outputs": [
    {
     "data": {
      "text/plain": [
       "150594"
      ]
     },
     "execution_count": 48,
     "metadata": {},
     "output_type": "execute_result"
    }
   ],
   "source": [
    "len(trade_basic)"
   ]
  },
  {
   "cell_type": "markdown",
   "metadata": {},
   "source": [
    "### generating feature set"
   ]
  },
  {
   "cell_type": "code",
   "execution_count": 49,
   "metadata": {
    "collapsed": true
   },
   "outputs": [],
   "source": [
    "class Config():\n",
    "    pass"
   ]
  },
  {
   "cell_type": "code",
   "execution_count": 50,
   "metadata": {},
   "outputs": [],
   "source": [
    "config = pd.read_pickle('config.pkl')"
   ]
  },
  {
   "cell_type": "code",
   "execution_count": 51,
   "metadata": {},
   "outputs": [
    {
     "data": {
      "text/plain": [
       "['__doc__',\n",
       " '__module__',\n",
       " 'data_path',\n",
       " 'feature_dict',\n",
       " 'feature_path',\n",
       " 'trade_train_size']"
      ]
     },
     "execution_count": 51,
     "metadata": {},
     "output_type": "execute_result"
    }
   ],
   "source": [
    "dir(config)"
   ]
  },
  {
   "cell_type": "code",
   "execution_count": 53,
   "metadata": {
    "collapsed": true
   },
   "outputs": [],
   "source": [
    "#config.feature_dict = {}\n",
    "config.feature_dict['trade_detail_feature'] = trade_detail\n",
    "config.feature_dict['recent_login_detail'] = login_detail+['recent_login_number']\n",
    "config.feature_dict['trade_and_recent_login_comparing'] = comparing_result"
   ]
  },
  {
   "cell_type": "code",
   "execution_count": 54,
   "metadata": {
    "collapsed": true
   },
   "outputs": [],
   "source": [
    "pd.to_pickle(config,'config.pkl')"
   ]
  },
  {
   "cell_type": "code",
   "execution_count": 55,
   "metadata": {},
   "outputs": [
    {
     "data": {
      "text/plain": [
       "Index([u'month', u'day', u'weekday', u'hour', u'day_cycle', u'weekday_cycle',\n",
       "       u'hour_cycle', u'timelong_login_0', u'timelong_login_1',\n",
       "       u'timelong_login_2', u'log_from_login_0', u'log_from_login_1',\n",
       "       u'log_from_login_2', u'city_login_0', u'city_login_1', u'city_login_2',\n",
       "       u'result_login_0', u'result_login_1', u'result_login_2',\n",
       "       u'type_login_0', u'type_login_1', u'type_login_2', u'is_scan_login_0',\n",
       "       u'is_scan_login_1', u'is_scan_login_2', u'month_login_0',\n",
       "       u'month_login_1', u'month_login_2', u'day_login_0', u'day_login_1',\n",
       "       u'day_login_2', u'weekday_login_0', u'weekday_login_1',\n",
       "       u'weekday_login_2', u'hour_login_0', u'hour_login_1', u'hour_login_2',\n",
       "       u'day_cycle_login_0', u'day_cycle_login_1', u'day_cycle_login_2',\n",
       "       u'weekday_cycle_login_0', u'weekday_cycle_login_1',\n",
       "       u'weekday_cycle_login_2', u'hour_cycle_login_0', u'hour_cycle_login_1',\n",
       "       u'hour_cycle_login_2', u'device_comparing_login_1',\n",
       "       u'device_comparing_login_2', u'ip_comparing_login_1',\n",
       "       u'ip_comparing_login_2', u'city_comparing_login_1',\n",
       "       u'city_comparing_login_2', u'log_from_comparing_login_1',\n",
       "       u'log_from_comparing_login_2', u'result_comparing_login_1',\n",
       "       u'result_comparing_login_2', u'type_comparing_login_1',\n",
       "       u'type_comparing_login_2', u'login_distance_0', u'login_distance_1',\n",
       "       u'login_distance_2', u'recent_login_number'],\n",
       "      dtype='object')"
      ]
     },
     "execution_count": 55,
     "metadata": {},
     "output_type": "execute_result"
    }
   ],
   "source": [
    "trade_basic.columns"
   ]
  },
  {
   "cell_type": "code",
   "execution_count": 57,
   "metadata": {
    "collapsed": true
   },
   "outputs": [],
   "source": [
    "trade_basic.to_pickle(data_path+'trade_basic_and_recent_login.pkl')"
   ]
  },
  {
   "cell_type": "code",
   "execution_count": 58,
   "metadata": {
    "collapsed": true
   },
   "outputs": [],
   "source": [
    "for feature in list(trade_basic.columns):\n",
    "    pd.to_pickle(trade_basic[feature].values,feature_path+feature+'.pkl')"
   ]
  }
 ],
 "metadata": {
  "anaconda-cloud": {},
  "kernelspec": {
   "display_name": "Python 3",
   "language": "python",
   "name": "python3"
  },
  "language_info": {
   "codemirror_mode": {
    "name": "ipython",
    "version": 3
   },
   "file_extension": ".py",
   "mimetype": "text/x-python",
   "name": "python",
   "nbconvert_exporter": "python",
   "pygments_lexer": "ipython3",
   "version": "3.6.3"
  }
 },
 "nbformat": 4,
 "nbformat_minor": 1
}
