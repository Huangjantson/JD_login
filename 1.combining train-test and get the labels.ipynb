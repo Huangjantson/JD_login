{
 "cells": [
  {
   "cell_type": "code",
   "execution_count": 1,
   "metadata": {
    "collapsed": true
   },
   "outputs": [],
   "source": [
    "import pandas as pd\n",
    "import numpy as np\n",
    "import seaborn as sns\n",
    "from matplotlib import pyplot as plt \n",
    "import datetime"
   ]
  },
  {
   "cell_type": "code",
   "execution_count": 2,
   "metadata": {
    "collapsed": true
   },
   "outputs": [],
   "source": [
    "data_path = '../../kaggleData/JD_logging/'\n",
    "feature_path = '../../kaggleData/JD_logging/features/'"
   ]
  },
  {
   "cell_type": "code",
   "execution_count": 3,
   "metadata": {
    "collapsed": true
   },
   "outputs": [],
   "source": [
    "login_train = pd.read_csv(data_path+'t_login.csv')\n",
    "trade_train = pd.read_csv(data_path+'t_trade.csv')\n",
    "login_test = pd.read_csv(data_path+'t_login_test.csv')\n",
    "trade_test = pd.read_csv(data_path+'t_trade_test.csv')"
   ]
  },
  {
   "cell_type": "code",
   "execution_count": 4,
   "metadata": {
    "collapsed": true
   },
   "outputs": [],
   "source": [
    "class Config:\n",
    "    pass\n",
    "config = Config()"
   ]
  },
  {
   "cell_type": "code",
   "execution_count": 5,
   "metadata": {
    "collapsed": true
   },
   "outputs": [],
   "source": [
    "config.trade_train_size = trade_train.shape[0]"
   ]
  },
  {
   "cell_type": "code",
   "execution_count": 8,
   "metadata": {
    "collapsed": false
   },
   "outputs": [
    {
     "data": {
      "text/plain": [
       "132719"
      ]
     },
     "execution_count": 8,
     "metadata": {},
     "output_type": "execute_result"
    }
   ],
   "source": [
    "config.trade_train_size"
   ]
  },
  {
   "cell_type": "code",
   "execution_count": 10,
   "metadata": {
    "collapsed": false
   },
   "outputs": [],
   "source": [
    "login_train['from'] = 'train'\n",
    "login_test['from'] = 'test'\n",
    "trade_train['from'] = 'train'\n",
    "trade_test['from'] = 'test'"
   ]
  },
  {
   "cell_type": "code",
   "execution_count": 25,
   "metadata": {
    "collapsed": true
   },
   "outputs": [],
   "source": [
    "login_tt = pd.concat([login_train,login_test])\n",
    "trade_tt = pd.concat([trade_train.drop('is_risk',axis = 1),trade_test])\n",
    "trade_tt['time'] = trade_tt['time'].apply(lambda x : x[0:19])"
   ]
  },
  {
   "cell_type": "code",
   "execution_count": 13,
   "metadata": {
    "collapsed": true
   },
   "outputs": [],
   "source": [
    "trade_label = trade_train['is_risk']"
   ]
  },
  {
   "cell_type": "code",
   "execution_count": 17,
   "metadata": {
    "collapsed": false
   },
   "outputs": [
    {
     "name": "stderr",
     "output_type": "stream",
     "text": [
      "C:\\Users\\dell\\Anaconda2\\lib\\site-packages\\ipykernel\\__main__.py:3: SettingWithCopyWarning: \n",
      "A value is trying to be set on a copy of a slice from a DataFrame.\n",
      "Try using .loc[row_indexer,col_indexer] = value instead\n",
      "\n",
      "See the caveats in the documentation: http://pandas.pydata.org/pandas-docs/stable/indexing.html#indexing-view-versus-copy\n",
      "  app.launch_new_instance()\n"
     ]
    },
    {
     "name": "stdout",
     "output_type": "stream",
     "text": [
      "132719\n",
      "132719\n"
     ]
    }
   ],
   "source": [
    "#testing recombining\n",
    "trade_new_train = trade_tt.iloc[:config.trade_train_size,:]\n",
    "trade_new_train['is_risk'] = trade_label\n",
    "\n",
    "print trade_train.shape[0]\n",
    "print pd.concat([trade_new_train,trade_train]).drop_duplicates().shape[0]"
   ]
  },
  {
   "cell_type": "code",
   "execution_count": 26,
   "metadata": {
    "collapsed": true
   },
   "outputs": [],
   "source": [
    "trade_tt.to_csv(data_path+'trade_tt.csv',index = False)\n",
    "login_tt.to_csv(data_path+'login_tt.csv',index = False)\n",
    "trade_label.to_pickle(data_path+'trade_train_lable.pkl')"
   ]
  },
  {
   "cell_type": "code",
   "execution_count": 24,
   "metadata": {
    "collapsed": false
   },
   "outputs": [],
   "source": [
    "import pickle\n",
    "output = open('config.pkl', 'wb')\n",
    "pickle.dump(config,output)"
   ]
  },
  {
   "cell_type": "code",
   "execution_count": 28,
   "metadata": {
    "collapsed": false,
    "scrolled": true
   },
   "outputs": [
    {
     "data": {
      "text/plain": [
       "0            24\n",
       "1            37\n",
       "2            45\n",
       "3            46\n",
       "4            48\n",
       "5            49\n",
       "6            53\n",
       "7            54\n",
       "8            57\n",
       "9            65\n",
       "10           66\n",
       "11           74\n",
       "12          102\n",
       "13          121\n",
       "14          126\n",
       "15          127\n",
       "16          141\n",
       "17          162\n",
       "18          163\n",
       "19          194\n",
       "20          216\n",
       "21          217\n",
       "22          234\n",
       "23          250\n",
       "24          251\n",
       "25          255\n",
       "26          256\n",
       "27          262\n",
       "28          306\n",
       "29          311\n",
       "          ...  \n",
       "17845    175943\n",
       "17846    175980\n",
       "17847    175983\n",
       "17848    175985\n",
       "17849    176002\n",
       "17850    176011\n",
       "17851    176012\n",
       "17852    176020\n",
       "17853    176029\n",
       "17854    176031\n",
       "17855    176044\n",
       "17856    176057\n",
       "17857    176070\n",
       "17858    176073\n",
       "17859    176087\n",
       "17860    176091\n",
       "17861    176093\n",
       "17862    176100\n",
       "17863    176106\n",
       "17864    176109\n",
       "17865    176116\n",
       "17866    176149\n",
       "17867    176154\n",
       "17868    176176\n",
       "17869    176190\n",
       "17870    176212\n",
       "17871    176231\n",
       "17872    176243\n",
       "17873    176271\n",
       "17874    176288\n",
       "Name: rowkey, dtype: int64"
      ]
     },
     "execution_count": 28,
     "metadata": {},
     "output_type": "execute_result"
    }
   ],
   "source": [
    "trade_tt[config.trade_train_size:]['rowkey']"
   ]
  },
  {
   "cell_type": "code",
   "execution_count": 29,
   "metadata": {
    "collapsed": true
   },
   "outputs": [],
   "source": [
    "pd.to_pickle(trade_tt[config.trade_train_size:]['rowkey'],data_path+'trade_test_rowkey.pkl')"
   ]
  }
 ],
 "metadata": {
  "kernelspec": {
   "display_name": "Python [Root]",
   "language": "python",
   "name": "Python [Root]"
  },
  "language_info": {
   "codemirror_mode": {
    "name": "ipython",
    "version": 2
   },
   "file_extension": ".py",
   "mimetype": "text/x-python",
   "name": "python",
   "nbconvert_exporter": "python",
   "pygments_lexer": "ipython2",
   "version": "2.7.12"
  }
 },
 "nbformat": 4,
 "nbformat_minor": 0
}
