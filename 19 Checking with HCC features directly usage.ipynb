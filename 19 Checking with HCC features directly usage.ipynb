{
 "cells": [
  {
   "cell_type": "code",
   "execution_count": 1,
   "metadata": {
    "collapsed": true
   },
   "outputs": [],
   "source": [
    "import pandas as pd\n",
    "import numpy as np\n",
    "import seaborn as sns\n",
    "from matplotlib import pyplot as plt \n",
    "import datetime\n",
    "from sklearn.metrics import fbeta_score,roc_auc_score\n",
    "import lightgbm as lgb\n",
    "from mochi import runXGB,f_beta_01,runLGBM\n",
    "from sklearn.ensemble import RandomForestClassifier as RFC #sklearn 0.19"
   ]
  },
  {
   "cell_type": "code",
   "execution_count": 2,
   "metadata": {},
   "outputs": [
    {
     "name": "stdout",
     "output_type": "stream",
     "text": [
      "['__class__', '__delattr__', '__dict__', '__dir__', '__doc__', '__eq__', '__format__', '__ge__', '__getattribute__', '__gt__', '__hash__', '__init__', '__init_subclass__', '__le__', '__lt__', '__module__', '__ne__', '__new__', '__reduce__', '__reduce_ex__', '__repr__', '__setattr__', '__sizeof__', '__str__', '__subclasshook__', '__weakref__', 'chi_test_result', 'data_path', 'feature_dict', 'feature_path', 'model_features', 'normalized_features', 'normalized_path', 'numerical_features', 'result_path', 'single_module_validation_indice_set', 'trade_train_size', 'train_2_6_index']\n",
      "dict_keys(['trade_and_recent_login_comparing', 'recent_login_detail', 'trade_detail_feature', 'login_trade_hist_stats', 'llc_user_habbit', 'hcc_user_habbit', 'hcc_properties', 'hcc_target_encoding', 'login_detail_new_features', 'hcc_mult_target_encoding', 'hcc_user_trade_habbit', 'hcc_trade_properties'])\n"
     ]
    }
   ],
   "source": [
    "class Config:\n",
    "    pass\n",
    "config = pd.read_pickle('config.pkl')\n",
    "data_path = config.data_path\n",
    "feature_path = config.feature_path\n",
    "print(dir(config))\n",
    "print(config.feature_dict.keys())"
   ]
  },
  {
   "cell_type": "markdown",
   "metadata": {},
   "source": [
    "### building the original hcc features"
   ]
  },
  {
   "cell_type": "code",
   "execution_count": 3,
   "metadata": {
    "collapsed": true
   },
   "outputs": [],
   "source": [
    "login_tt = pd.read_csv(data_path+'login_tt.csv')\n",
    "trade_tt = pd.read_csv(data_path+'trade_tt.csv')\n",
    "trade_tt_with_recent_logins = pd.read_csv(data_path+'trade_tt_with_recent_3_log_id.csv')"
   ]
  },
  {
   "cell_type": "code",
   "execution_count": 4,
   "metadata": {
    "collapsed": true
   },
   "outputs": [],
   "source": [
    "trade_tt_with_recent_logins = trade_tt_with_recent_logins.merge(login_tt,how = 'left',left_on = 'recent_login_id_0',right_on = 'log_id'\n",
    "                                                               ,suffixes = ['','_login'])"
   ]
  },
  {
   "cell_type": "code",
   "execution_count": 5,
   "metadata": {
    "collapsed": true,
    "scrolled": true
   },
   "outputs": [],
   "source": [
    "trade_tt_hcc = trade_tt_with_recent_logins[['rowkey','id','city','ip','device']].fillna(-10)"
   ]
  },
  {
   "cell_type": "markdown",
   "metadata": {},
   "source": [
    "### Check Id distribution and determine the threshold"
   ]
  },
  {
   "cell_type": "code",
   "execution_count": 6,
   "metadata": {},
   "outputs": [
    {
     "data": {
      "image/png": "[encoded data removed]",
      "text/plain": [
       "<matplotlib.figure.Figure at 0x7fbb6ca922b0>"
      ]
     },
     "metadata": {},
     "output_type": "display_data"
    }
   ],
   "source": [
    "#id\n",
    "trade_tt_hcc_times = trade_tt_hcc[['id']].groupby('id').size()\n",
    "qt_trade_tt_hcc = trade_tt_hcc_times.quantile(.95)\n",
    "plt.hist(trade_tt_hcc_times[trade_tt_hcc_times< qt_trade_tt_hcc])\n",
    "plt.show()"
   ]
  },
  {
   "cell_type": "code",
   "execution_count": 7,
   "metadata": {
    "collapsed": true
   },
   "outputs": [],
   "source": [
    "#refill the id, change the small ones\n",
    "trade_tt_hcc_times =  trade_tt_hcc[['id']].groupby('id').size().reset_index().rename(columns = {0:'id_freq'})\n",
    "trade_tt_hcc = trade_tt_hcc.merge(trade_tt_hcc_times,on = 'id')\n",
    "trade_tt_hcc.loc[trade_tt_hcc['id_freq']<10,'id']=-5"
   ]
  },
  {
   "cell_type": "code",
   "execution_count": 8,
   "metadata": {},
   "outputs": [
    {
     "data": {
      "image/png": "[encoded data removed]",
      "text/plain": [
       "<matplotlib.figure.Figure at 0x7fbb3ae3cb38>"
      ]
     },
     "metadata": {},
     "output_type": "display_data"
    }
   ],
   "source": [
    "#ip\n",
    "trade_tt_hcc_times = trade_tt_hcc[['ip']].groupby('ip').size()\n",
    "qt_trade_tt_hcc = trade_tt_hcc_times.quantile(.99)\n",
    "plt.hist(trade_tt_hcc_times[trade_tt_hcc_times< qt_trade_tt_hcc])\n",
    "plt.show()"
   ]
  },
  {
   "cell_type": "code",
   "execution_count": 9,
   "metadata": {
    "collapsed": true
   },
   "outputs": [],
   "source": [
    "trade_tt_hcc_times =  trade_tt_hcc[['ip']].groupby('ip').size().reset_index().rename(columns = {0:'ip_freq'})\n",
    "trade_tt_hcc = trade_tt_hcc.merge(trade_tt_hcc_times,on = 'ip')\n",
    "trade_tt_hcc.loc[trade_tt_hcc['ip_freq']<6,'ip']=-5"
   ]
  },
  {
   "cell_type": "code",
   "execution_count": 10,
   "metadata": {},
   "outputs": [
    {
     "data": {
      "image/png": "[encoded data removed]",
      "text/plain": [
       "<matplotlib.figure.Figure at 0x7fbb3ae2df60>"
      ]
     },
     "metadata": {},
     "output_type": "display_data"
    }
   ],
   "source": [
    "#device\n",
    "trade_tt_hcc_times = trade_tt_hcc[['device']].groupby('device').size()\n",
    "qt_trade_tt_hcc = trade_tt_hcc_times.quantile(.99)\n",
    "plt.hist(trade_tt_hcc_times[trade_tt_hcc_times< qt_trade_tt_hcc])\n",
    "plt.show()"
   ]
  },
  {
   "cell_type": "code",
   "execution_count": 11,
   "metadata": {
    "collapsed": true
   },
   "outputs": [],
   "source": [
    "trade_tt_hcc_times =  trade_tt_hcc[['device']].groupby('device').size().reset_index().rename(columns = {0:'device_freq'})\n",
    "trade_tt_hcc = trade_tt_hcc.merge(trade_tt_hcc_times,on = 'device')\n",
    "trade_tt_hcc.loc[trade_tt_hcc['device_freq']<6,'device']=-5"
   ]
  },
  {
   "cell_type": "code",
   "execution_count": 12,
   "metadata": {},
   "outputs": [
    {
     "data": {
      "image/png": "[encoded data removed]",
      "text/plain": [
       "<matplotlib.figure.Figure at 0x7fbb341d3550>"
      ]
     },
     "metadata": {},
     "output_type": "display_data"
    }
   ],
   "source": [
    "#device\n",
    "trade_tt_hcc_times = trade_tt_hcc[['city']].groupby('city').size()\n",
    "qt_trade_tt_hcc = trade_tt_hcc_times.quantile(.99)\n",
    "plt.hist(trade_tt_hcc_times[trade_tt_hcc_times< qt_trade_tt_hcc])\n",
    "plt.show()"
   ]
  },
  {
   "cell_type": "code",
   "execution_count": 13,
   "metadata": {
    "collapsed": true
   },
   "outputs": [],
   "source": [
    "trade_tt_hcc_times =  trade_tt_hcc[['city']].groupby('city').size().reset_index().rename(columns = {0:'city_freq'})\n",
    "trade_tt_hcc = trade_tt_hcc.merge(trade_tt_hcc_times,on = 'city')\n",
    "trade_tt_hcc.loc[trade_tt_hcc['city_freq']<20,'city']=-5"
   ]
  },
  {
   "cell_type": "code",
   "execution_count": 19,
   "metadata": {
    "collapsed": true
   },
   "outputs": [],
   "source": [
    "for feature in ['id','city','ip','device']:\n",
    "    pd.to_pickle(trade_tt_hcc[feature].values,feature_path+feature+'.pkl')"
   ]
  },
  {
   "cell_type": "code",
   "execution_count": 15,
   "metadata": {
    "collapsed": true
   },
   "outputs": [],
   "source": [
    "config.feature_dict['ori_hcc_feature'] = ['id','city','ip','device']\n",
    "pd.to_pickle(config,'config.pkl')"
   ]
  },
  {
   "cell_type": "markdown",
   "metadata": {},
   "source": [
    "### testing"
   ]
  },
  {
   "cell_type": "code",
   "execution_count": 20,
   "metadata": {
    "collapsed": true
   },
   "outputs": [],
   "source": [
    "features =   (config.feature_dict['trade_detail_feature']+\n",
    "              config.feature_dict['recent_login_detail']+\n",
    "              config.feature_dict['trade_and_recent_login_comparing']+\n",
    "              config.feature_dict['login_trade_hist_stats']+\n",
    "              config.feature_dict['llc_user_habbit']+\n",
    "             config.feature_dict['hcc_user_habbit']+\n",
    "              config.feature_dict['hcc_properties']+\n",
    "            config.feature_dict['hcc_target_encoding']+\n",
    "                    config.feature_dict['login_detail_new_features']+\n",
    "              config.feature_dict['hcc_trade_properties']+\n",
    "              config.feature_dict['hcc_mult_target_encoding']+\n",
    "              config.feature_dict['hcc_user_trade_habbit']+\n",
    "              config.feature_dict['ori_hcc_feature']\n",
    "             )\n",
    "feature_sequence_list = []\n",
    "for feature in features:\n",
    "    feature_sequence_list.append(pd.read_pickle(feature_path+feature+'.pkl').reshape(-1,1))\n",
    "    \n",
    "trade_tt_mat = np.hstack(feature_sequence_list)\n",
    "#trade_tt_mat[trade_tt_mat==-10]=np.nan\n",
    "\n",
    "validation_tuple_list = config.single_module_validation_indice_set\n",
    "train_labels = pd.read_pickle(data_path+'trade_train_label.pkl')"
   ]
  },
  {
   "cell_type": "code",
   "execution_count": 28,
   "metadata": {
    "collapsed": true
   },
   "outputs": [],
   "source": [
    "lgbm_features = config.model_features['Lgbm_best_171']#\n",
    "lgbm_features_ori_index = [features.index(x) for x in lgbm_features]\n",
    "trade_tt_lgbm = trade_tt_mat[:,lgbm_features_ori_index]\n",
    "\n",
    "new_features = config.model_features['Lgbm_best_171']+config.feature_dict['ori_hcc_feature']\n",
    "new_features_ori_index = [features.index(x) for x in new_features]\n",
    "trade_tt_new = trade_tt_mat[:,new_features_ori_index]"
   ]
  },
  {
   "cell_type": "code",
   "execution_count": 26,
   "metadata": {
    "scrolled": true
   },
   "outputs": [
    {
     "name": "stderr",
     "output_type": "stream",
     "text": [
      "/home/ec2-user/anaconda3/lib/python3.6/site-packages/lightgbm/basic.py:648: LGBMDeprecationWarning: The `max_bin` parameter is deprecated and will be removed in 2.0.12 version. Please use `params` to pass this parameter.\n",
      "  'Please use `params` to pass this parameter.', LGBMDeprecationWarning)\n",
      "/home/ec2-user/anaconda3/lib/python3.6/site-packages/lightgbm/basic.py:642: UserWarning: max_bin keyword has been found in `params` and will be ignored. Please use max_bin argument of the Dataset constructor to pass this parameter.\n",
      "  'Please use {0} argument of the Dataset constructor to pass this parameter.'.format(key))\n"
     ]
    },
    {
     "name": "stdout",
     "output_type": "stream",
     "text": [
      "Training until validation scores don't improve for 100 rounds.\n",
      "[100]\ttrain's auc: 0.998539\ttest's auc: 0.989618\n",
      "[200]\ttrain's auc: 0.999741\ttest's auc: 0.990555\n",
      "Early stopping, best iteration is:\n",
      "[165]\ttrain's auc: 0.999403\ttest's auc: 0.990976\n",
      "f_beta score for the turn 1 is 0.914226855609\n",
      "Training until validation scores don't improve for 100 rounds.\n",
      "[100]\ttrain's auc: 0.999179\ttest's auc: 0.963289\n",
      "[200]\ttrain's auc: 0.999826\ttest's auc: 0.965382\n",
      "Early stopping, best iteration is:\n",
      "[152]\ttrain's auc: 0.999623\ttest's auc: 0.966053\n",
      "f_beta score for the turn 2 is 0.891423813489\n",
      "Training until validation scores don't improve for 100 rounds.\n",
      "[100]\ttrain's auc: 0.999297\ttest's auc: 0.986897\n",
      "[200]\ttrain's auc: 0.999889\ttest's auc: 0.988063\n",
      "[300]\ttrain's auc: 0.999997\ttest's auc: 0.988326\n",
      "Early stopping, best iteration is:\n",
      "[244]\ttrain's auc: 0.999968\ttest's auc: 0.988698\n",
      "f_beta score for the turn 3 is 0.925181726848\n",
      "Training until validation scores don't improve for 100 rounds.\n",
      "[100]\ttrain's auc: 0.998876\ttest's auc: 0.984348\n",
      "[200]\ttrain's auc: 0.99984\ttest's auc: 0.985139\n",
      "[300]\ttrain's auc: 0.999998\ttest's auc: 0.985993\n",
      "Early stopping, best iteration is:\n",
      "[291]\ttrain's auc: 0.999994\ttest's auc: 0.986066\n",
      "f_beta score for the turn 4 is 0.978567234292\n",
      "Training until validation scores don't improve for 100 rounds.\n",
      "[100]\ttrain's auc: 0.998991\ttest's auc: 0.986915\n",
      "[200]\ttrain's auc: 0.999777\ttest's auc: 0.988129\n",
      "[300]\ttrain's auc: 0.999997\ttest's auc: 0.98799\n",
      "[400]\ttrain's auc: 1\ttest's auc: 0.988898\n",
      "Early stopping, best iteration is:\n",
      "[336]\ttrain's auc: 1\ttest's auc: 0.988766\n",
      "f_beta score for the turn 5 is 0.882812012237\n",
      "Training until validation scores don't improve for 100 rounds.\n",
      "[100]\ttrain's auc: 0.998342\ttest's auc: 0.983164\n",
      "[200]\ttrain's auc: 0.999678\ttest's auc: 0.986069\n",
      "[300]\ttrain's auc: 0.999991\ttest's auc: 0.987083\n",
      "Early stopping, best iteration is:\n",
      "[252]\ttrain's auc: 0.999928\ttest's auc: 0.987844\n",
      "f_beta score for the turn 6 is 0.922901199315\n",
      "The mean of the cv_scores is: 0.919185473632\n"
     ]
    }
   ],
   "source": [
    "    cv_scores = []\n",
    "    cv_result = []\n",
    "    models = []\n",
    "    \n",
    "    i = 0\n",
    "    \n",
    "    for train_indice,val_indice in validation_tuple_list:\n",
    "        #print trade_train_val.iloc[train_indice]['month'].unique(),trade_train_val.iloc[val_indice]['month'].unique()\n",
    "        #print trade_train_val.iloc[train_indice].shape,trade_train_val.iloc[val_indice].shape\n",
    "        result_dict = {}\n",
    "        \n",
    "        #filter the features\n",
    "        dev_X, val_X = trade_tt_lgbm[train_indice], trade_tt_lgbm[val_indice]\n",
    "        dev_y, val_y = train_labels.iloc[train_indice].values, train_labels.iloc[val_indice].values\n",
    "    \n",
    "       \n",
    "        preds, model = runLGBM(dev_X, dev_y, val_X, val_y,feature_names=lgbm_features,verbose=100,eta=0.02,\n",
    "                              early_stop=100,num_rounds=10000,watch_dict=result_dict,feval = None,\n",
    "                              bagging_fraction=0.75,feature_fraction=0.25,num_leaves=64)\n",
    "        \"\"\"\n",
    "        preds, model = runXGB(dev_X, dev_y, val_X, val_y,feature_names=top_features,verbose_eval=100,eta=0.02,\n",
    "                              early_stop=None,num_rounds=500,cv_dict=result_dict,feval = f_beta_01_xgb ,max_depth =4)\n",
    "         \"\"\"\n",
    "        \n",
    "        #result_f_beta = f_beta_01(val_y.values, preds>0.5)\n",
    "        result_f_beta  = fbeta_score( val_y,preds > 0.5, 0.1)\n",
    "        \n",
    "        cv_scores.append(result_f_beta)\n",
    "        cv_result.append(result_dict)\n",
    "        models.append(model)\n",
    "        i+=1\n",
    "        print('f_beta score for the turn '+str(i)+' is '+str(result_f_beta))\n",
    "    \n",
    "    print('The mean of the cv_scores is:',np.mean(cv_scores))"
   ]
  },
  {
   "cell_type": "code",
   "execution_count": 29,
   "metadata": {
    "scrolled": true
   },
   "outputs": [
    {
     "name": "stderr",
     "output_type": "stream",
     "text": [
      "/home/ec2-user/anaconda3/lib/python3.6/site-packages/lightgbm/basic.py:648: LGBMDeprecationWarning: The `max_bin` parameter is deprecated and will be removed in 2.0.12 version. Please use `params` to pass this parameter.\n",
      "  'Please use `params` to pass this parameter.', LGBMDeprecationWarning)\n",
      "/home/ec2-user/anaconda3/lib/python3.6/site-packages/lightgbm/basic.py:642: UserWarning: max_bin keyword has been found in `params` and will be ignored. Please use max_bin argument of the Dataset constructor to pass this parameter.\n",
      "  'Please use {0} argument of the Dataset constructor to pass this parameter.'.format(key))\n"
     ]
    },
    {
     "name": "stdout",
     "output_type": "stream",
     "text": [
      "Training until validation scores don't improve for 100 rounds.\n",
      "[100]\ttrain's auc: 0.998492\ttest's auc: 0.987659\n",
      "[200]\ttrain's auc: 0.999784\ttest's auc: 0.991371\n",
      "Early stopping, best iteration is:\n",
      "[191]\ttrain's auc: 0.999711\ttest's auc: 0.991557\n",
      "f_beta score for the turn 1 is 0.918240604392\n",
      "Training until validation scores don't improve for 100 rounds.\n",
      "[100]\ttrain's auc: 0.999144\ttest's auc: 0.963391\n",
      "[200]\ttrain's auc: 0.999838\ttest's auc: 0.970357\n",
      "Early stopping, best iteration is:\n",
      "[180]\ttrain's auc: 0.99962\ttest's auc: 0.970548\n",
      "f_beta score for the turn 2 is 0.906519898391\n",
      "Training until validation scores don't improve for 100 rounds.\n",
      "[100]\ttrain's auc: 0.999357\ttest's auc: 0.986227\n",
      "[200]\ttrain's auc: 0.999901\ttest's auc: 0.986904\n",
      "[300]\ttrain's auc: 0.999997\ttest's auc: 0.98713\n",
      "Early stopping, best iteration is:\n",
      "[249]\ttrain's auc: 0.999974\ttest's auc: 0.987693\n",
      "f_beta score for the turn 3 is 0.909647249004\n",
      "Training until validation scores don't improve for 100 rounds.\n",
      "[100]\ttrain's auc: 0.998915\ttest's auc: 0.981752\n",
      "[200]\ttrain's auc: 0.999836\ttest's auc: 0.985363\n",
      "[300]\ttrain's auc: 0.999998\ttest's auc: 0.985933\n",
      "Early stopping, best iteration is:\n",
      "[269]\ttrain's auc: 0.999985\ttest's auc: 0.9868\n",
      "f_beta score for the turn 4 is 0.978567234292\n",
      "Training until validation scores don't improve for 100 rounds.\n",
      "[100]\ttrain's auc: 0.998724\ttest's auc: 0.985869\n",
      "[200]\ttrain's auc: 0.999752\ttest's auc: 0.98741\n",
      "[300]\ttrain's auc: 0.999998\ttest's auc: 0.987921\n",
      "[400]\ttrain's auc: 1\ttest's auc: 0.989126\n",
      "Early stopping, best iteration is:\n",
      "[321]\ttrain's auc: 1\ttest's auc: 0.988024\n",
      "f_beta score for the turn 5 is 0.877334491531\n",
      "Training until validation scores don't improve for 100 rounds.\n",
      "[100]\ttrain's auc: 0.99851\ttest's auc: 0.982735\n",
      "[200]\ttrain's auc: 0.999644\ttest's auc: 0.986036\n",
      "[300]\ttrain's auc: 0.999993\ttest's auc: 0.987499\n",
      "Early stopping, best iteration is:\n",
      "[277]\ttrain's auc: 0.999977\ttest's auc: 0.988375\n",
      "f_beta score for the turn 6 is 0.922901199315\n",
      "The mean of the cv_scores is: 0.918868446154\n"
     ]
    }
   ],
   "source": [
    "    cv_scores = []\n",
    "    cv_result = []\n",
    "    models = []\n",
    "    \n",
    "    i = 0\n",
    "    for train_indice,val_indice in validation_tuple_list:\n",
    "        #print trade_train_val.iloc[train_indice]['month'].unique(),trade_train_val.iloc[val_indice]['month'].unique()\n",
    "        #print trade_train_val.iloc[train_indice].shape,trade_train_val.iloc[val_indice].shape\n",
    "        result_dict = {}\n",
    "        \n",
    "        #filter the features\n",
    "        dev_X, val_X = trade_tt_new[train_indice], trade_tt_new[val_indice]\n",
    "        dev_y, val_y = train_labels.iloc[train_indice].values, train_labels.iloc[val_indice].values\n",
    "    \n",
    "       \n",
    "        preds, model = runLGBM(dev_X, dev_y, val_X, val_y,feature_names=new_features,verbose=100,eta=0.02,\n",
    "                              early_stop=100,num_rounds=10000,watch_dict=result_dict,feval = None,\n",
    "                              bagging_fraction=0.75,feature_fraction=0.25,num_leaves=64)\n",
    "        \"\"\"\n",
    "        preds, model = runXGB(dev_X, dev_y, val_X, val_y,feature_names=top_features,verbose_eval=100,eta=0.02,\n",
    "                              early_stop=None,num_rounds=500,cv_dict=result_dict,feval = f_beta_01_xgb ,max_depth =4)\n",
    "         \"\"\"\n",
    "        \n",
    "        #result_f_beta = f_beta_01(val_y.values, preds>0.5)\n",
    "        result_f_beta  = fbeta_score( val_y,preds > 0.5, 0.1)\n",
    "        \n",
    "        cv_scores.append(result_f_beta)\n",
    "        cv_result.append(result_dict)\n",
    "        models.append(model)\n",
    "        i+=1\n",
    "        print('f_beta score for the turn '+str(i)+' is '+str(result_f_beta))\n",
    "    \n",
    "    print('The mean of the cv_scores is:',np.mean(cv_scores))"
   ]
  }
 ],
 "metadata": {
  "kernelspec": {
   "display_name": "Python 3",
   "language": "python",
   "name": "python3"
  },
  "language_info": {
   "codemirror_mode": {
    "name": "ipython",
    "version": 3
   },
   "file_extension": ".py",
   "mimetype": "text/x-python",
   "name": "python",
   "nbconvert_exporter": "python",
   "pygments_lexer": "ipython3",
   "version": "3.6.3"
  }
 },
 "nbformat": 4,
 "nbformat_minor": 2
}
