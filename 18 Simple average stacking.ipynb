{
 "cells": [
  {
   "cell_type": "code",
   "execution_count": 1,
   "metadata": {
    "collapsed": true
   },
   "outputs": [],
   "source": [
    "import pandas as pd\n",
    "import numpy as np\n",
    "import seaborn as sns\n",
    "from matplotlib import pyplot as plt \n",
    "import datetime\n",
    "from sklearn.metrics import fbeta_score,roc_auc_score\n",
    "import lightgbm as lgb\n",
    "from mochi import runXGB,f_beta_01,runLGBM\n",
    "from sklearn.ensemble import RandomForestClassifier as RFC #sklearn 0.19"
   ]
  },
  {
   "cell_type": "code",
   "execution_count": 2,
   "metadata": {},
   "outputs": [
    {
     "name": "stdout",
     "output_type": "stream",
     "text": [
      "['__class__', '__delattr__', '__dict__', '__dir__', '__doc__', '__eq__', '__format__', '__ge__', '__getattribute__', '__gt__', '__hash__', '__init__', '__init_subclass__', '__le__', '__lt__', '__module__', '__ne__', '__new__', '__reduce__', '__reduce_ex__', '__repr__', '__setattr__', '__sizeof__', '__str__', '__subclasshook__', '__weakref__', 'chi_test_result', 'data_path', 'feature_dict', 'feature_path', 'model_features', 'result_path', 'single_module_validation_indice_set', 'trade_train_size', 'train_2_6_index']\n",
      "dict_keys(['trade_and_recent_login_comparing', 'recent_login_detail', 'trade_detail_feature', 'login_trade_hist_stats', 'llc_user_habbit', 'hcc_user_habbit', 'hcc_properties', 'hcc_target_encoding', 'login_detail_new_features', 'hcc_mult_target_encoding', 'hcc_user_trade_habbit', 'hcc_trade_properties'])\n"
     ]
    }
   ],
   "source": [
    "class Config:\n",
    "    pass\n",
    "config = pd.read_pickle('config.pkl')\n",
    "data_path = config.data_path\n",
    "feature_path = config.feature_path\n",
    "print(dir(config))\n",
    "print(config.feature_dict.keys())"
   ]
  },
  {
   "cell_type": "code",
   "execution_count": 3,
   "metadata": {
    "collapsed": true
   },
   "outputs": [],
   "source": [
    "features =   (config.feature_dict['trade_detail_feature']+\n",
    "              config.feature_dict['recent_login_detail']+\n",
    "              config.feature_dict['trade_and_recent_login_comparing']+\n",
    "              config.feature_dict['login_trade_hist_stats']+\n",
    "              config.feature_dict['llc_user_habbit']+\n",
    "             config.feature_dict['hcc_user_habbit']+\n",
    "              config.feature_dict['hcc_properties']+\n",
    "            config.feature_dict['hcc_target_encoding']+\n",
    "                    config.feature_dict['login_detail_new_features']+\n",
    "              config.feature_dict['hcc_trade_properties']+\n",
    "              config.feature_dict['hcc_mult_target_encoding']+\n",
    "              config.feature_dict['hcc_user_trade_habbit']\n",
    "             )\n",
    "feature_sequence_list = []\n",
    "for feature in features:\n",
    "    feature_sequence_list.append(pd.read_pickle(feature_path+feature+'.pkl').reshape(-1,1))\n",
    "    \n",
    "trade_tt_mat = np.hstack(feature_sequence_list)\n",
    "#trade_tt_mat[trade_tt_mat==-10]=np.nan\n",
    "\n",
    "validation_tuple_list = config.single_module_validation_indice_set\n",
    "train_labels = pd.read_pickle(data_path+'trade_train_label.pkl')"
   ]
  },
  {
   "cell_type": "code",
   "execution_count": 4,
   "metadata": {
    "collapsed": true
   },
   "outputs": [],
   "source": [
    "lgbm_features = config.model_features['Lgbm_best_171']\n",
    "rf_features = config.model_features['rf_best_361']"
   ]
  },
  {
   "cell_type": "code",
   "execution_count": 5,
   "metadata": {
    "collapsed": true
   },
   "outputs": [],
   "source": [
    "lgbm_features_ori_index = [features.index(x) for x in lgbm_features]\n",
    "trade_tt_lgbm = trade_tt_mat[:,lgbm_features_ori_index]"
   ]
  },
  {
   "cell_type": "code",
   "execution_count": 7,
   "metadata": {},
   "outputs": [],
   "source": [
    "rf_features_ori_index = [features.index(x) for x in rf_features]\n",
    "trade_tt_rf = trade_tt_mat[:,rf_features_ori_index]"
   ]
  },
  {
   "cell_type": "markdown",
   "metadata": {},
   "source": [
    "### find best para for lgbm on subsample,colsample_bytree,max_depth"
   ]
  },
  {
   "cell_type": "code",
   "execution_count": 8,
   "metadata": {
    "collapsed": true
   },
   "outputs": [],
   "source": [
    "def find_para_lgbm(bagging_fraction,feature_fraction,num_leaves):\n",
    "    cv_scores = []\n",
    "    cv_result = []\n",
    "    models = []\n",
    "    \n",
    "    i = 0\n",
    "    \n",
    "    for train_indice,val_indice in validation_tuple_list:\n",
    "        #print trade_train_val.iloc[train_indice]['month'].unique(),trade_train_val.iloc[val_indice]['month'].unique()\n",
    "        #print trade_train_val.iloc[train_indice].shape,trade_train_val.iloc[val_indice].shape\n",
    "        result_dict = {}\n",
    "        \n",
    "        #filter the features\n",
    "        dev_X, val_X = trade_tt_lgbm[train_indice], trade_tt_lgbm[val_indice]\n",
    "        dev_y, val_y = train_labels.iloc[train_indice].values, train_labels.iloc[val_indice].values\n",
    "    \n",
    "       \n",
    "        preds, model = runLGBM(dev_X, dev_y, val_X, val_y,feature_names=lgbm_features,verbose=100,eta=0.02,\n",
    "                              early_stop=100,num_rounds=10000,watch_dict=result_dict,feval = None,\n",
    "                              bagging_fraction=bagging_fraction,feature_fraction=feature_fraction,num_leaves=num_leaves)\n",
    "        \"\"\"\n",
    "        preds, model = runXGB(dev_X, dev_y, val_X, val_y,feature_names=top_features,verbose_eval=100,eta=0.02,\n",
    "                              early_stop=None,num_rounds=500,cv_dict=result_dict,feval = f_beta_01_xgb ,max_depth =4)\n",
    "         \"\"\"\n",
    "        \n",
    "        #result_f_beta = f_beta_01(val_y.values, preds>0.5)\n",
    "        result_f_beta  = fbeta_score( val_y,preds > 0.5, 0.1)\n",
    "        \n",
    "        cv_scores.append(result_f_beta)\n",
    "        cv_result.append(result_dict)\n",
    "        models.append(model)\n",
    "        i+=1\n",
    "        print('f_beta score for the turn '+str(i)+' is '+str(result_f_beta))\n",
    "    \n",
    "    print('The mean of the cv_scores is:',np.mean(cv_scores))\n",
    "    return np.mean(cv_scores)"
   ]
  },
  {
   "cell_type": "code",
   "execution_count": null,
   "metadata": {
    "scrolled": true
   },
   "outputs": [],
   "source": [
    "# find the best subsample and colsample_bytree \n",
    "subsample_list = [0.25,0.5,0.75]\n",
    "colsample_bytree_list = [0.25,0.5,0.75]\n",
    "\n",
    "searched_list = []\n",
    "\n",
    "for subsample in subsample_list:\n",
    "    for colsample_bytree in colsample_bytree_list:\n",
    "        searched_list.append((subsample,colsample_bytree,find_para_lgbm(subsample,colsample_bytree,16)))"
   ]
  },
  {
   "cell_type": "code",
   "execution_count": null,
   "metadata": {},
   "outputs": [],
   "source": [
    "searched_list"
   ]
  },
  {
   "cell_type": "code",
   "execution_count": null,
   "metadata": {},
   "outputs": [],
   "source": [
    "searched_list"
   ]
  },
  {
   "cell_type": "code",
   "execution_count": null,
   "metadata": {
    "scrolled": true
   },
   "outputs": [],
   "source": [
    "#find the best number of leaves\n",
    "num_of_leaves_list = [4,8,16,32,64]\n",
    "searched_list = []\n",
    "\n",
    "for nol in num_of_leaves_list:\n",
    "    searched_list.append((nol,find_para_lgbm(0.75,0.25,nol)))"
   ]
  },
  {
   "cell_type": "code",
   "execution_count": null,
   "metadata": {},
   "outputs": [],
   "source": [
    "searched_list"
   ]
  },
  {
   "cell_type": "code",
   "execution_count": null,
   "metadata": {
    "scrolled": true
   },
   "outputs": [],
   "source": [
    "find_para_lgbm(0.75,0.25,128)"
   ]
  },
  {
   "cell_type": "code",
   "execution_count": 9,
   "metadata": {
    "scrolled": true
   },
   "outputs": [
    {
     "name": "stderr",
     "output_type": "stream",
     "text": [
      "/home/ec2-user/anaconda3/lib/python3.6/site-packages/lightgbm/basic.py:648: LGBMDeprecationWarning: The `max_bin` parameter is deprecated and will be removed in 2.0.12 version. Please use `params` to pass this parameter.\n",
      "  'Please use `params` to pass this parameter.', LGBMDeprecationWarning)\n",
      "/home/ec2-user/anaconda3/lib/python3.6/site-packages/lightgbm/basic.py:642: UserWarning: max_bin keyword has been found in `params` and will be ignored. Please use max_bin argument of the Dataset constructor to pass this parameter.\n",
      "  'Please use {0} argument of the Dataset constructor to pass this parameter.'.format(key))\n"
     ]
    },
    {
     "name": "stdout",
     "output_type": "stream",
     "text": [
      "[100]\ttrain's auc: 0.998539\ttrain's fbeta_score_01: 0.955321\ttest's auc: 0.989618\ttest's fbeta_score_01: 0.903609\n",
      "[200]\ttrain's auc: 0.999741\ttrain's fbeta_score_01: 0.978745\ttest's auc: 0.990555\ttest's fbeta_score_01: 0.914821\n",
      "[300]\ttrain's auc: 0.999991\ttrain's fbeta_score_01: 0.997001\ttest's auc: 0.990099\ttest's fbeta_score_01: 0.915408\n",
      "[400]\ttrain's auc: 1\ttrain's fbeta_score_01: 0.999986\ttest's auc: 0.990209\ttest's fbeta_score_01: 0.926837\n",
      "f_beta score for the turn 1 is 0.926836881204\n",
      "[100]\ttrain's auc: 0.999179\ttrain's fbeta_score_01: 0.971124\ttest's auc: 0.963289\ttest's fbeta_score_01: 0.889416\n",
      "[200]\ttrain's auc: 0.999826\ttrain's fbeta_score_01: 0.985455\ttest's auc: 0.965382\ttest's fbeta_score_01: 0.90991\n",
      "[300]\ttrain's auc: 0.999999\ttrain's fbeta_score_01: 0.999947\ttest's auc: 0.965941\ttest's fbeta_score_01: 0.911523\n",
      "[400]\ttrain's auc: 1\ttrain's fbeta_score_01: 0.999987\ttest's auc: 0.967559\ttest's fbeta_score_01: 0.940728\n",
      "f_beta score for the turn 2 is 0.940728196444\n",
      "[100]\ttrain's auc: 0.999297\ttrain's fbeta_score_01: 0.976687\ttest's auc: 0.986897\ttest's fbeta_score_01: 0.935804\n",
      "[200]\ttrain's auc: 0.999889\ttrain's fbeta_score_01: 0.991723\ttest's auc: 0.988063\ttest's fbeta_score_01: 0.931151\n",
      "[300]\ttrain's auc: 0.999998\ttrain's fbeta_score_01: 0.994314\ttest's auc: 0.98843\ttest's fbeta_score_01: 0.926659\n",
      "[400]\ttrain's auc: 1\ttrain's fbeta_score_01: 1\ttest's auc: 0.988763\ttest's fbeta_score_01: 0.937548\n",
      "f_beta score for the turn 3 is 0.937547735151\n",
      "[100]\ttrain's auc: 0.998876\ttrain's fbeta_score_01: 0.971839\ttest's auc: 0.984348\ttest's fbeta_score_01: 0.961609\n",
      "[200]\ttrain's auc: 0.99984\ttrain's fbeta_score_01: 0.984118\ttest's auc: 0.985139\ttest's fbeta_score_01: 0.963051\n",
      "[300]\ttrain's auc: 0.999998\ttrain's fbeta_score_01: 0.999855\ttest's auc: 0.985992\ttest's fbeta_score_01: 0.978567\n",
      "[400]\ttrain's auc: 1\ttrain's fbeta_score_01: 1\ttest's auc: 0.984343\ttest's fbeta_score_01: 0.978567\n",
      "f_beta score for the turn 4 is 0.978567234292\n",
      "[100]\ttrain's auc: 0.998991\ttrain's fbeta_score_01: 0.957615\ttest's auc: 0.986909\ttest's fbeta_score_01: 0.875668\n",
      "[200]\ttrain's auc: 0.999777\ttrain's fbeta_score_01: 0.97349\ttest's auc: 0.988104\ttest's fbeta_score_01: 0.878153\n",
      "[300]\ttrain's auc: 0.999997\ttrain's fbeta_score_01: 0.996842\ttest's auc: 0.988095\ttest's fbeta_score_01: 0.882013\n",
      "[400]\ttrain's auc: 1\ttrain's fbeta_score_01: 1\ttest's auc: 0.988665\ttest's fbeta_score_01: 0.879554\n",
      "f_beta score for the turn 5 is 0.879554331818\n",
      "[100]\ttrain's auc: 0.998342\ttrain's fbeta_score_01: 0.961694\ttest's auc: 0.983164\ttest's fbeta_score_01: 0.92164\n",
      "[200]\ttrain's auc: 0.999678\ttrain's fbeta_score_01: 0.983683\ttest's auc: 0.986067\ttest's fbeta_score_01: 0.92164\n",
      "[300]\ttrain's auc: 0.999992\ttrain's fbeta_score_01: 0.999826\ttest's auc: 0.987032\ttest's fbeta_score_01: 0.924127\n",
      "[400]\ttrain's auc: 1\ttrain's fbeta_score_01: 1\ttest's auc: 0.986771\ttest's fbeta_score_01: 0.936269\n",
      "f_beta score for the turn 6 is 0.936268829664\n",
      "The mean of the cv_scores is: 0.933250534762\n"
     ]
    }
   ],
   "source": [
    "cv_scores = []\n",
    "cv_result = []\n",
    "models = []\n",
    "i = 0\n",
    "\n",
    "for train_indice,val_indice in validation_tuple_list:\n",
    "    #print trade_train_val.iloc[train_indice]['month'].unique(),trade_train_val.iloc[val_indice]['month'].unique()\n",
    "    #print trade_train_val.iloc[train_indice].shape,trade_train_val.iloc[val_indice].shape\n",
    "    result_dict = {}\n",
    "    \n",
    "    #filter the features\n",
    "    dev_X, val_X = trade_tt_lgbm[train_indice], trade_tt_lgbm[val_indice]\n",
    "    dev_y, val_y = train_labels.iloc[train_indice].values, train_labels.iloc[val_indice].values\n",
    "    \n",
    "       \n",
    "    preds, model = runLGBM(dev_X, dev_y, val_X, val_y,feature_names=lgbm_features,verbose=100,eta=0.02,\n",
    "                              early_stop=None,num_rounds=400,watch_dict=result_dict,feval = f_beta_01,\n",
    "                          bagging_fraction=0.75,feature_fraction=0.25,num_leaves=64)\n",
    "    \"\"\"\n",
    "    preds, model = runXGB(dev_X, dev_y, val_X, val_y,feature_names=top_features,verbose_eval=100,eta=0.02,\n",
    "                          early_stop=None,num_rounds=500,cv_dict=result_dict,feval = f_beta_01_xgb ,max_depth =4)\n",
    "     \"\"\"\n",
    "    \n",
    "    #result_f_beta = f_beta_01(val_y.values, preds>0.5)\n",
    "    result_f_beta  = fbeta_score( val_y,preds > 0.5, 0.1)\n",
    "    \n",
    "    cv_scores.append(result_f_beta)\n",
    "    cv_result.append(result_dict)\n",
    "    models.append(model)\n",
    "    i+=1\n",
    "    print('f_beta score for the turn '+str(i)+' is '+str(result_f_beta))\n",
    "\n",
    "print('The mean of the cv_scores is:',np.mean(cv_scores))"
   ]
  },
  {
   "cell_type": "code",
   "execution_count": 35,
   "metadata": {
    "scrolled": true
   },
   "outputs": [
    {
     "name": "stdout",
     "output_type": "stream",
     "text": [
      "348\n",
      "398\n"
     ]
    }
   ],
   "source": [
    "#finding the best iteration\n",
    "pd_list = []\n",
    "for dic in cv_result:\n",
    "    pd_list.append(pd.DataFrame(dic['test']))\n",
    "    \n",
    "for i in range(len(pd_list)):\n",
    "    pd_list[i].columns = pd_list[i].columns+'_'+str(i)\n",
    "validation_result = pd.concat(pd_list,axis = 1)\n",
    "validation_result['auc_avg'] = validation_result.apply(lambda x : np.mean([x.auc_0,x.auc_1,x.auc_2,x.auc_3,x.auc_4]),axis = 1)\n",
    "\n",
    "validation_result['fbeta_avg'] = validation_result.apply(lambda x : np.mean([x.fbeta_score_01_0,x.fbeta_score_01_1,\n",
    "                                                                     x.fbeta_score_01_2,x.fbeta_score_01_3,\n",
    "                                                                    x.fbeta_score_01_4]),axis=1)\n",
    "\n",
    "print(validation_result['auc_avg'].idxmax())\n",
    "print(validation_result['fbeta_avg'].idxmax())"
   ]
  },
  {
   "cell_type": "code",
   "execution_count": 9,
   "metadata": {},
   "outputs": [
    {
     "name": "stderr",
     "output_type": "stream",
     "text": [
      "/home/ec2-user/anaconda3/lib/python3.6/site-packages/lightgbm/basic.py:648: LGBMDeprecationWarning: The `max_bin` parameter is deprecated and will be removed in 2.0.12 version. Please use `params` to pass this parameter.\n",
      "  'Please use `params` to pass this parameter.', LGBMDeprecationWarning)\n"
     ]
    },
    {
     "name": "stdout",
     "output_type": "stream",
     "text": [
      "(17875, 2)\n"
     ]
    }
   ],
   "source": [
    "train_X = trade_tt_lgbm[config.train_2_6_index]\n",
    "test_X = trade_tt_lgbm[config.trade_train_size:]\n",
    "train_y = train_labels[config.train_2_6_index]\n",
    "\n",
    "preds, _ = runLGBM(train_X, train_y, test_X,feature_names=lgbm_features,verbose=100,eta=0.02,\n",
    "                              early_stop=None,num_rounds=390,watch_dict=None,feval = f_beta_01,\n",
    "                          bagging_fraction=0.75,feature_fraction=0.25,num_leaves=64)\n",
    "\n",
    "result_path = '../../kaggleData/JD_logging/result/'\n",
    "test_rowkey = pd.read_pickle(data_path+'trade_test_rowkey.pkl')\n",
    "pred_label = pd.Series(preds > 0.5)\n",
    "result_set = pd.DataFrame(test_rowkey)\n",
    "result_set['is_risk'] = pred_label.astype(int)\n",
    "\n",
    "print(result_set.shape)\n",
    "\n",
    "pd.to_pickle(pred_label,result_path+'test_overfit_400.pkl')\n",
    "result_set.to_csv(result_path+'test_overfit_400.csv',index=False,header=False)"
   ]
  },
  {
   "cell_type": "code",
   "execution_count": 11,
   "metadata": {},
   "outputs": [
    {
     "name": "stdout",
     "output_type": "stream",
     "text": [
      "(17875,)\n"
     ]
    }
   ],
   "source": [
    "preds_lgbm = preds\n",
    "print(preds.shape)"
   ]
  },
  {
   "cell_type": "code",
   "execution_count": 14,
   "metadata": {},
   "outputs": [
    {
     "data": {
      "image/png": "[encoded data removed]",
      "text/plain": [
       "<matplotlib.figure.Figure at 0x7f2e50e8bb00>"
      ]
     },
     "metadata": {},
     "output_type": "display_data"
    }
   ],
   "source": [
    "plt.hist(preds_lgbm[preds_lgbm>0.1])\n",
    "plt.show()"
   ]
  },
  {
   "cell_type": "markdown",
   "metadata": {},
   "source": [
    "### find the best para for random forest"
   ]
  },
  {
   "cell_type": "code",
   "execution_count": 23,
   "metadata": {
    "collapsed": true
   },
   "outputs": [],
   "source": [
    "def find_para_rf(max_depth,max_features):\n",
    "   \n",
    "\n",
    "    fbetas = []\n",
    "    auc_results = []\n",
    "    \n",
    "    for train_indice,val_indice in validation_tuple_list:\n",
    "        \n",
    "        #filter the validation values\n",
    "        dev_X, val_X = trade_tt_rf[train_indice], trade_tt_rf[val_indice]\n",
    "        dev_y, val_y = train_labels.iloc[train_indice].values, train_labels.iloc[val_indice].values\n",
    "    \n",
    "        classifier = RFC(500,class_weight='balanced',random_state =33,n_jobs = -1,max_depth = max_depth,\n",
    "                        max_features = max_features)\n",
    "        \n",
    "        classifier.fit(dev_X,dev_y)\n",
    "        \n",
    "        #feature_importance += classifier.feature_importances_\n",
    "        \n",
    "        preds = classifier.predict(val_X)\n",
    "            \n",
    "        fbetas.append(fbeta_score(val_y, preds > 0.5, 0.1)) \n",
    "    \n",
    "        auc_results.append(roc_auc_score(val_y,preds))\n",
    "        \n",
    "        print('turn passed')\n",
    "    \n",
    "    return np.mean(fbetas)"
   ]
  },
  {
   "cell_type": "code",
   "execution_count": 17,
   "metadata": {},
   "outputs": [
    {
     "data": {
      "text/plain": [
       "361"
      ]
     },
     "execution_count": 17,
     "metadata": {},
     "output_type": "execute_result"
    }
   ],
   "source": [
    "len(rf_features)"
   ]
  },
  {
   "cell_type": "code",
   "execution_count": null,
   "metadata": {
    "collapsed": true
   },
   "outputs": [
    {
     "name": "stdout",
     "output_type": "stream",
     "text": [
      "turn passed\n",
      "turn passed\n",
      "turn passed\n",
      "turn passed\n",
      "turn passed\n",
      "turn passed\n",
      "turn passed\n",
      "turn passed\n",
      "turn passed\n",
      "turn passed\n",
      "turn passed\n",
      "turn passed\n",
      "turn passed\n",
      "turn passed\n",
      "turn passed\n",
      "turn passed\n",
      "turn passed\n",
      "turn passed\n",
      "turn passed\n",
      "turn passed\n",
      "turn passed\n",
      "turn passed\n",
      "turn passed\n",
      "turn passed\n",
      "turn passed\n",
      "turn passed\n",
      "turn passed\n",
      "turn passed\n",
      "turn passed\n",
      "turn passed\n",
      "turn passed\n",
      "turn passed\n",
      "turn passed\n",
      "turn passed\n",
      "turn passed\n",
      "turn passed\n",
      "turn passed\n",
      "turn passed\n",
      "turn passed\n",
      "turn passed\n",
      "turn passed\n",
      "turn passed\n",
      "turn passed\n",
      "turn passed\n",
      "turn passed\n",
      "turn passed\n",
      "turn passed\n",
      "turn passed\n",
      "turn passed\n",
      "turn passed\n",
      "turn passed\n",
      "turn passed\n",
      "turn passed\n",
      "turn passed\n",
      "turn passed\n",
      "turn passed\n",
      "turn passed\n",
      "turn passed\n",
      "turn passed\n",
      "turn passed\n",
      "turn passed\n",
      "turn passed\n",
      "turn passed\n",
      "turn passed\n",
      "turn passed\n",
      "turn passed\n",
      "turn passed\n",
      "turn passed\n",
      "turn passed\n",
      "turn passed\n",
      "turn passed\n",
      "turn passed\n",
      "turn passed\n",
      "turn passed\n",
      "turn passed\n",
      "turn passed\n",
      "turn passed\n",
      "turn passed\n",
      "turn passed\n",
      "turn passed\n",
      "turn passed\n",
      "turn passed\n",
      "turn passed\n",
      "turn passed\n",
      "turn passed\n",
      "turn passed\n",
      "turn passed\n",
      "turn passed\n",
      "turn passed\n",
      "turn passed\n",
      "turn passed\n"
     ]
    },
    {
     "ename": "KeyboardInterrupt",
     "evalue": "",
     "output_type": "error",
     "traceback": [
      "\u001b[0;31m---------------------------------------------------------------------------\u001b[0m",
      "\u001b[0;31mKeyboardInterrupt\u001b[0m                         Traceback (most recent call last)",
      "\u001b[0;32m<ipython-input-26-886f3073399d>\u001b[0m in \u001b[0;36m<module>\u001b[0;34m()\u001b[0m\n\u001b[1;32m      7\u001b[0m \u001b[0;32mfor\u001b[0m \u001b[0mmax_depth\u001b[0m \u001b[0;32min\u001b[0m \u001b[0mmd_list\u001b[0m\u001b[0;34m:\u001b[0m\u001b[0;34m\u001b[0m\u001b[0m\n\u001b[1;32m      8\u001b[0m     \u001b[0;32mfor\u001b[0m \u001b[0mmax_feature\u001b[0m \u001b[0;32min\u001b[0m \u001b[0mmf_list\u001b[0m\u001b[0;34m:\u001b[0m\u001b[0;34m\u001b[0m\u001b[0m\n\u001b[0;32m----> 9\u001b[0;31m         \u001b[0msearched_list\u001b[0m\u001b[0;34m.\u001b[0m\u001b[0mappend\u001b[0m\u001b[0;34m(\u001b[0m\u001b[0;34m(\u001b[0m\u001b[0mmax_depth\u001b[0m\u001b[0;34m,\u001b[0m\u001b[0mmax_feature\u001b[0m\u001b[0;34m,\u001b[0m\u001b[0mfind_para_rf\u001b[0m\u001b[0;34m(\u001b[0m\u001b[0mmax_depth\u001b[0m\u001b[0;34m,\u001b[0m\u001b[0mmax_feature\u001b[0m\u001b[0;34m)\u001b[0m\u001b[0;34m)\u001b[0m\u001b[0;34m)\u001b[0m\u001b[0;34m\u001b[0m\u001b[0m\n\u001b[0m",
      "\u001b[0;32m<ipython-input-23-878194c073cb>\u001b[0m in \u001b[0;36mfind_para_rf\u001b[0;34m(max_depth, max_features)\u001b[0m\n\u001b[1;32m     14\u001b[0m                         max_features = max_features)\n\u001b[1;32m     15\u001b[0m \u001b[0;34m\u001b[0m\u001b[0m\n\u001b[0;32m---> 16\u001b[0;31m         \u001b[0mclassifier\u001b[0m\u001b[0;34m.\u001b[0m\u001b[0mfit\u001b[0m\u001b[0;34m(\u001b[0m\u001b[0mdev_X\u001b[0m\u001b[0;34m,\u001b[0m\u001b[0mdev_y\u001b[0m\u001b[0;34m)\u001b[0m\u001b[0;34m\u001b[0m\u001b[0m\n\u001b[0m\u001b[1;32m     17\u001b[0m \u001b[0;34m\u001b[0m\u001b[0m\n\u001b[1;32m     18\u001b[0m         \u001b[0;31m#feature_importance += classifier.feature_importances_\u001b[0m\u001b[0;34m\u001b[0m\u001b[0;34m\u001b[0m\u001b[0m\n",
      "\u001b[0;32m~/anaconda3/lib/python3.6/site-packages/sklearn/ensemble/forest.py\u001b[0m in \u001b[0;36mfit\u001b[0;34m(self, X, y, sample_weight)\u001b[0m\n\u001b[1;32m    326\u001b[0m                     \u001b[0mt\u001b[0m\u001b[0;34m,\u001b[0m \u001b[0mself\u001b[0m\u001b[0;34m,\u001b[0m \u001b[0mX\u001b[0m\u001b[0;34m,\u001b[0m \u001b[0my\u001b[0m\u001b[0;34m,\u001b[0m \u001b[0msample_weight\u001b[0m\u001b[0;34m,\u001b[0m \u001b[0mi\u001b[0m\u001b[0;34m,\u001b[0m \u001b[0mlen\u001b[0m\u001b[0;34m(\u001b[0m\u001b[0mtrees\u001b[0m\u001b[0;34m)\u001b[0m\u001b[0;34m,\u001b[0m\u001b[0;34m\u001b[0m\u001b[0m\n\u001b[1;32m    327\u001b[0m                     verbose=self.verbose, class_weight=self.class_weight)\n\u001b[0;32m--> 328\u001b[0;31m                 for i, t in enumerate(trees))\n\u001b[0m\u001b[1;32m    329\u001b[0m \u001b[0;34m\u001b[0m\u001b[0m\n\u001b[1;32m    330\u001b[0m             \u001b[0;31m# Collect newly grown trees\u001b[0m\u001b[0;34m\u001b[0m\u001b[0;34m\u001b[0m\u001b[0m\n",
      "\u001b[0;32m~/anaconda3/lib/python3.6/site-packages/sklearn/externals/joblib/parallel.py\u001b[0m in \u001b[0;36m__call__\u001b[0;34m(self, iterable)\u001b[0m\n\u001b[1;32m    787\u001b[0m                 \u001b[0;31m# consumption.\u001b[0m\u001b[0;34m\u001b[0m\u001b[0;34m\u001b[0m\u001b[0m\n\u001b[1;32m    788\u001b[0m                 \u001b[0mself\u001b[0m\u001b[0;34m.\u001b[0m\u001b[0m_iterating\u001b[0m \u001b[0;34m=\u001b[0m \u001b[0;32mFalse\u001b[0m\u001b[0;34m\u001b[0m\u001b[0m\n\u001b[0;32m--> 789\u001b[0;31m             \u001b[0mself\u001b[0m\u001b[0;34m.\u001b[0m\u001b[0mretrieve\u001b[0m\u001b[0;34m(\u001b[0m\u001b[0;34m)\u001b[0m\u001b[0;34m\u001b[0m\u001b[0m\n\u001b[0m\u001b[1;32m    790\u001b[0m             \u001b[0;31m# Make sure that we get a last message telling us we are done\u001b[0m\u001b[0;34m\u001b[0m\u001b[0;34m\u001b[0m\u001b[0m\n\u001b[1;32m    791\u001b[0m             \u001b[0melapsed_time\u001b[0m \u001b[0;34m=\u001b[0m \u001b[0mtime\u001b[0m\u001b[0;34m.\u001b[0m\u001b[0mtime\u001b[0m\u001b[0;34m(\u001b[0m\u001b[0;34m)\u001b[0m \u001b[0;34m-\u001b[0m \u001b[0mself\u001b[0m\u001b[0;34m.\u001b[0m\u001b[0m_start_time\u001b[0m\u001b[0;34m\u001b[0m\u001b[0m\n",
      "\u001b[0;32m~/anaconda3/lib/python3.6/site-packages/sklearn/externals/joblib/parallel.py\u001b[0m in \u001b[0;36mretrieve\u001b[0;34m(self)\u001b[0m\n\u001b[1;32m    697\u001b[0m             \u001b[0;32mtry\u001b[0m\u001b[0;34m:\u001b[0m\u001b[0;34m\u001b[0m\u001b[0m\n\u001b[1;32m    698\u001b[0m                 \u001b[0;32mif\u001b[0m \u001b[0mgetattr\u001b[0m\u001b[0;34m(\u001b[0m\u001b[0mself\u001b[0m\u001b[0;34m.\u001b[0m\u001b[0m_backend\u001b[0m\u001b[0;34m,\u001b[0m \u001b[0;34m'supports_timeout'\u001b[0m\u001b[0;34m,\u001b[0m \u001b[0;32mFalse\u001b[0m\u001b[0;34m)\u001b[0m\u001b[0;34m:\u001b[0m\u001b[0;34m\u001b[0m\u001b[0m\n\u001b[0;32m--> 699\u001b[0;31m                     \u001b[0mself\u001b[0m\u001b[0;34m.\u001b[0m\u001b[0m_output\u001b[0m\u001b[0;34m.\u001b[0m\u001b[0mextend\u001b[0m\u001b[0;34m(\u001b[0m\u001b[0mjob\u001b[0m\u001b[0;34m.\u001b[0m\u001b[0mget\u001b[0m\u001b[0;34m(\u001b[0m\u001b[0mtimeout\u001b[0m\u001b[0;34m=\u001b[0m\u001b[0mself\u001b[0m\u001b[0;34m.\u001b[0m\u001b[0mtimeout\u001b[0m\u001b[0;34m)\u001b[0m\u001b[0;34m)\u001b[0m\u001b[0;34m\u001b[0m\u001b[0m\n\u001b[0m\u001b[1;32m    700\u001b[0m                 \u001b[0;32melse\u001b[0m\u001b[0;34m:\u001b[0m\u001b[0;34m\u001b[0m\u001b[0m\n\u001b[1;32m    701\u001b[0m                     \u001b[0mself\u001b[0m\u001b[0;34m.\u001b[0m\u001b[0m_output\u001b[0m\u001b[0;34m.\u001b[0m\u001b[0mextend\u001b[0m\u001b[0;34m(\u001b[0m\u001b[0mjob\u001b[0m\u001b[0;34m.\u001b[0m\u001b[0mget\u001b[0m\u001b[0;34m(\u001b[0m\u001b[0;34m)\u001b[0m\u001b[0;34m)\u001b[0m\u001b[0;34m\u001b[0m\u001b[0m\n",
      "\u001b[0;32m~/anaconda3/lib/python3.6/multiprocessing/pool.py\u001b[0m in \u001b[0;36mget\u001b[0;34m(self, timeout)\u001b[0m\n\u001b[1;32m    636\u001b[0m \u001b[0;34m\u001b[0m\u001b[0m\n\u001b[1;32m    637\u001b[0m     \u001b[0;32mdef\u001b[0m \u001b[0mget\u001b[0m\u001b[0;34m(\u001b[0m\u001b[0mself\u001b[0m\u001b[0;34m,\u001b[0m \u001b[0mtimeout\u001b[0m\u001b[0;34m=\u001b[0m\u001b[0;32mNone\u001b[0m\u001b[0;34m)\u001b[0m\u001b[0;34m:\u001b[0m\u001b[0;34m\u001b[0m\u001b[0m\n\u001b[0;32m--> 638\u001b[0;31m         \u001b[0mself\u001b[0m\u001b[0;34m.\u001b[0m\u001b[0mwait\u001b[0m\u001b[0;34m(\u001b[0m\u001b[0mtimeout\u001b[0m\u001b[0;34m)\u001b[0m\u001b[0;34m\u001b[0m\u001b[0m\n\u001b[0m\u001b[1;32m    639\u001b[0m         \u001b[0;32mif\u001b[0m \u001b[0;32mnot\u001b[0m \u001b[0mself\u001b[0m\u001b[0;34m.\u001b[0m\u001b[0mready\u001b[0m\u001b[0;34m(\u001b[0m\u001b[0;34m)\u001b[0m\u001b[0;34m:\u001b[0m\u001b[0;34m\u001b[0m\u001b[0m\n\u001b[1;32m    640\u001b[0m             \u001b[0;32mraise\u001b[0m \u001b[0mTimeoutError\u001b[0m\u001b[0;34m\u001b[0m\u001b[0m\n",
      "\u001b[0;32m~/anaconda3/lib/python3.6/multiprocessing/pool.py\u001b[0m in \u001b[0;36mwait\u001b[0;34m(self, timeout)\u001b[0m\n\u001b[1;32m    633\u001b[0m \u001b[0;34m\u001b[0m\u001b[0m\n\u001b[1;32m    634\u001b[0m     \u001b[0;32mdef\u001b[0m \u001b[0mwait\u001b[0m\u001b[0;34m(\u001b[0m\u001b[0mself\u001b[0m\u001b[0;34m,\u001b[0m \u001b[0mtimeout\u001b[0m\u001b[0;34m=\u001b[0m\u001b[0;32mNone\u001b[0m\u001b[0;34m)\u001b[0m\u001b[0;34m:\u001b[0m\u001b[0;34m\u001b[0m\u001b[0m\n\u001b[0;32m--> 635\u001b[0;31m         \u001b[0mself\u001b[0m\u001b[0;34m.\u001b[0m\u001b[0m_event\u001b[0m\u001b[0;34m.\u001b[0m\u001b[0mwait\u001b[0m\u001b[0;34m(\u001b[0m\u001b[0mtimeout\u001b[0m\u001b[0;34m)\u001b[0m\u001b[0;34m\u001b[0m\u001b[0m\n\u001b[0m\u001b[1;32m    636\u001b[0m \u001b[0;34m\u001b[0m\u001b[0m\n\u001b[1;32m    637\u001b[0m     \u001b[0;32mdef\u001b[0m \u001b[0mget\u001b[0m\u001b[0;34m(\u001b[0m\u001b[0mself\u001b[0m\u001b[0;34m,\u001b[0m \u001b[0mtimeout\u001b[0m\u001b[0;34m=\u001b[0m\u001b[0;32mNone\u001b[0m\u001b[0;34m)\u001b[0m\u001b[0;34m:\u001b[0m\u001b[0;34m\u001b[0m\u001b[0m\n",
      "\u001b[0;32m~/anaconda3/lib/python3.6/threading.py\u001b[0m in \u001b[0;36mwait\u001b[0;34m(self, timeout)\u001b[0m\n\u001b[1;32m    549\u001b[0m             \u001b[0msignaled\u001b[0m \u001b[0;34m=\u001b[0m \u001b[0mself\u001b[0m\u001b[0;34m.\u001b[0m\u001b[0m_flag\u001b[0m\u001b[0;34m\u001b[0m\u001b[0m\n\u001b[1;32m    550\u001b[0m             \u001b[0;32mif\u001b[0m \u001b[0;32mnot\u001b[0m \u001b[0msignaled\u001b[0m\u001b[0;34m:\u001b[0m\u001b[0;34m\u001b[0m\u001b[0m\n\u001b[0;32m--> 551\u001b[0;31m                 \u001b[0msignaled\u001b[0m \u001b[0;34m=\u001b[0m \u001b[0mself\u001b[0m\u001b[0;34m.\u001b[0m\u001b[0m_cond\u001b[0m\u001b[0;34m.\u001b[0m\u001b[0mwait\u001b[0m\u001b[0;34m(\u001b[0m\u001b[0mtimeout\u001b[0m\u001b[0;34m)\u001b[0m\u001b[0;34m\u001b[0m\u001b[0m\n\u001b[0m\u001b[1;32m    552\u001b[0m             \u001b[0;32mreturn\u001b[0m \u001b[0msignaled\u001b[0m\u001b[0;34m\u001b[0m\u001b[0m\n\u001b[1;32m    553\u001b[0m \u001b[0;34m\u001b[0m\u001b[0m\n",
      "\u001b[0;32m~/anaconda3/lib/python3.6/threading.py\u001b[0m in \u001b[0;36mwait\u001b[0;34m(self, timeout)\u001b[0m\n\u001b[1;32m    293\u001b[0m         \u001b[0;32mtry\u001b[0m\u001b[0;34m:\u001b[0m    \u001b[0;31m# restore state no matter what (e.g., KeyboardInterrupt)\u001b[0m\u001b[0;34m\u001b[0m\u001b[0m\n\u001b[1;32m    294\u001b[0m             \u001b[0;32mif\u001b[0m \u001b[0mtimeout\u001b[0m \u001b[0;32mis\u001b[0m \u001b[0;32mNone\u001b[0m\u001b[0;34m:\u001b[0m\u001b[0;34m\u001b[0m\u001b[0m\n\u001b[0;32m--> 295\u001b[0;31m                 \u001b[0mwaiter\u001b[0m\u001b[0;34m.\u001b[0m\u001b[0macquire\u001b[0m\u001b[0;34m(\u001b[0m\u001b[0;34m)\u001b[0m\u001b[0;34m\u001b[0m\u001b[0m\n\u001b[0m\u001b[1;32m    296\u001b[0m                 \u001b[0mgotit\u001b[0m \u001b[0;34m=\u001b[0m \u001b[0;32mTrue\u001b[0m\u001b[0;34m\u001b[0m\u001b[0m\n\u001b[1;32m    297\u001b[0m             \u001b[0;32melse\u001b[0m\u001b[0;34m:\u001b[0m\u001b[0;34m\u001b[0m\u001b[0m\n",
      "\u001b[0;31mKeyboardInterrupt\u001b[0m: "
     ]
    }
   ],
   "source": [
    "# find the best subsample and colsample_bytree \n",
    "md_list = [None,16,32,64,128]\n",
    "mf_list = ['auto','log2',None,0.3,0.5,0.7]\n",
    "\n",
    "searched_list = []\n",
    "\n",
    "for max_depth in md_list:\n",
    "    for max_feature in mf_list:\n",
    "        print('running parameters are',max_depth,max_feature)\n",
    "        searched_list.append((max_depth,max_feature,find_para_rf(max_depth,max_feature)))"
   ]
  },
  {
   "cell_type": "code",
   "execution_count": 29,
   "metadata": {
    "scrolled": true
   },
   "outputs": [
    {
     "data": {
      "text/plain": [
       "[(32, 'log2', 0.95665674074676321),\n",
       " (None, 'log2', 0.956507904571681),\n",
       " (64, 'log2', 0.956507904571681),\n",
       " (32, 'auto', 0.9522667639052752),\n",
       " (None, 'auto', 0.9519876425979007),\n",
       " (64, 'auto', 0.9519876425979007),\n",
       " (None, 0.3, 0.94548860845559679),\n",
       " (64, 0.3, 0.94548860845559679),\n",
       " (32, 0.3, 0.94282717913181491),\n",
       " (None, 0.5, 0.93019149420747305),\n",
       " (64, 0.5, 0.93019149420747305),\n",
       " (16, 'auto', 0.93016481698103293),\n",
       " (None, 0.7, 0.92660387979309988),\n",
       " (32, 0.5, 0.92633383101805844),\n",
       " (16, 0.3, 0.9252307575428258),\n",
       " (16, 'log2', 0.92220236680174128),\n",
       " (32, 0.7, 0.92180864047072397),\n",
       " (16, 0.5, 0.90751640990414117),\n",
       " (32, None, 0.90020676134758248),\n",
       " (None, None, 0.89858219792700622),\n",
       " (64, None, 0.89858219792700622),\n",
       " (16, 0.7, 0.89110991727867084),\n",
       " (16, None, 0.85132848860918686)]"
      ]
     },
     "execution_count": 29,
     "metadata": {},
     "output_type": "execute_result"
    }
   ],
   "source": [
    "sorted(searched_list,key = lambda x :x[2],reverse = True)"
   ]
  },
  {
   "cell_type": "code",
   "execution_count": 27,
   "metadata": {},
   "outputs": [
    {
     "name": "stdout",
     "output_type": "stream",
     "text": [
      "test\n"
     ]
    }
   ],
   "source": [
    "print('test')"
   ]
  },
  {
   "cell_type": "code",
   "execution_count": 49,
   "metadata": {
    "collapsed": true
   },
   "outputs": [],
   "source": [
    "train_X = trade_tt_lgbm[config.train_2_6_index]\n",
    "test_X = trade_tt_lgbm[config.trade_train_size:]\n",
    "train_y = train_labels[config.train_2_6_index]\n",
    "\n",
    "classifier = RFC(1000,class_weight='balanced',random_state =33,n_jobs = -1,max_depth = None,\n",
    "                        max_features = 'log2')\n",
    "\n",
    "classifier.fit(train_X,train_y)\n",
    "\n",
    "preds_rf = classifier.predict(test_X)"
   ]
  },
  {
   "cell_type": "code",
   "execution_count": 50,
   "metadata": {
    "collapsed": true
   },
   "outputs": [],
   "source": [
    "result_path = '../../kaggleData/JD_logging/result/'\n",
    "test_rowkey = pd.read_pickle(data_path+'trade_test_rowkey.pkl')\n",
    "\n",
    "#combine preds_rf and preds_lgbm by simple averaging"
   ]
  },
  {
   "cell_type": "code",
   "execution_count": 51,
   "metadata": {
    "collapsed": true
   },
   "outputs": [],
   "source": [
    "preds = 0.3*preds_rf + 0.7*preds_lgbm\n"
   ]
  },
  {
   "cell_type": "code",
   "execution_count": 52,
   "metadata": {},
   "outputs": [
    {
     "name": "stdout",
     "output_type": "stream",
     "text": [
      "24\n",
      "156\n",
      "81\n"
     ]
    }
   ],
   "source": [
    "print(np.sum(preds_rf>0.5))\n",
    "print(np.sum(preds_lgbm>0.5))\n",
    "print(np.sum(preds>0.5))"
   ]
  },
  {
   "cell_type": "code",
   "execution_count": 53,
   "metadata": {},
   "outputs": [
    {
     "data": {
      "image/png": "[encoded data removed]",
      "text/plain": [
       "<matplotlib.figure.Figure at 0x7f2dbda67898>"
      ]
     },
     "metadata": {},
     "output_type": "display_data"
    }
   ],
   "source": [
    "plt.hist(preds[preds>0.1])\n",
    "plt.show()"
   ]
  },
  {
   "cell_type": "code",
   "execution_count": 54,
   "metadata": {},
   "outputs": [
    {
     "name": "stdout",
     "output_type": "stream",
     "text": [
      "(17875, 2)\n"
     ]
    }
   ],
   "source": [
    "pred_label = pd.Series(preds > 0.5)\n",
    "result_set = pd.DataFrame(test_rowkey)\n",
    "result_set['is_risk'] = pred_label.astype(int)\n",
    "\n",
    "print(result_set.shape)\n",
    "\n",
    "pd.to_pickle(pred_label,result_path+'test_add_rf_3_7_400.pkl')\n",
    "result_set.to_csv(result_path+'test_add_rf_3_7_400.csv',index=False,header=False)"
   ]
  }
 ],
 "metadata": {
  "kernelspec": {
   "display_name": "Python 3",
   "language": "python",
   "name": "python3"
  },
  "language_info": {
   "codemirror_mode": {
    "name": "ipython",
    "version": 3
   },
   "file_extension": ".py",
   "mimetype": "text/x-python",
   "name": "python",
   "nbconvert_exporter": "python",
   "pygments_lexer": "ipython3",
   "version": "3.6.3"
  }
 },
 "nbformat": 4,
 "nbformat_minor": 2
}
