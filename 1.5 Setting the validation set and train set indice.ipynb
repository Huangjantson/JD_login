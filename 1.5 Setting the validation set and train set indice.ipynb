{
 "cells": [
  {
   "cell_type": "code",
   "execution_count": 1,
   "metadata": {
    "collapsed": true
   },
   "outputs": [],
   "source": [
    "import pandas as pd\n",
    "import numpy as np\n",
    "import seaborn as sns\n",
    "from matplotlib import pyplot as plt \n",
    "import datetime"
   ]
  },
  {
   "cell_type": "code",
   "execution_count": 2,
   "metadata": {
    "collapsed": false
   },
   "outputs": [
    {
     "name": "stdout",
     "output_type": "stream",
     "text": [
      "['__doc__', '__module__', 'data_path', 'feature_dict', 'feature_path', 'result_path', 'single_module_validation_indice_set', 'trade_train_size']\n"
     ]
    }
   ],
   "source": [
    "class Config:\n",
    "    pass\n",
    "config = pd.read_pickle('config.pkl')\n",
    "data_path = config.data_path\n",
    "feature_path = config.feature_path\n",
    "print dir(config)"
   ]
  },
  {
   "cell_type": "code",
   "execution_count": 4,
   "metadata": {
    "collapsed": true
   },
   "outputs": [],
   "source": [
    "trade_tt = pd.read_csv(data_path+'trade_tt_with_recent_3_log_id.csv')"
   ]
  },
  {
   "cell_type": "code",
   "execution_count": 45,
   "metadata": {
    "collapsed": false
   },
   "outputs": [
    {
     "data": {
      "text/plain": [
       "Index([u'rowkey', u'time', u'id', u'from', u'month', u'day', u'weekday',\n",
       "       u'hour', u'day_cycle', u'weekday_cycle', u'hour_cycle',\n",
       "       u'recent_login_id_0', u'recent_login_id_1', u'recent_login_id_2'],\n",
       "      dtype='object')"
      ]
     },
     "execution_count": 45,
     "metadata": {},
     "output_type": "execute_result"
    }
   ],
   "source": [
    "trade_tt.columns"
   ]
  },
  {
   "cell_type": "code",
   "execution_count": 46,
   "metadata": {
    "collapsed": false
   },
   "outputs": [
    {
     "name": "stdout",
     "output_type": "stream",
     "text": [
      "6\n"
     ]
    }
   ],
   "source": [
    "#set the seed\n",
    "np.random.seed(314)\n",
    "def get_certain_part(sequence,numerator,denominator):\n",
    "    return sequence[(len(sequence)*(numerator-1)/denominator):(len(sequence)*numerator/denominator)]\n",
    "\n",
    "#get the indice in the certain month and shuffle\n",
    "trade_tt_2_4_index = list(trade_tt[(trade_tt['month']>1)&(trade_tt['month']<5)].index)\n",
    "trade_tt_3_5_index = list(trade_tt[(trade_tt['month']>2)&(trade_tt['month']<6)].index)\n",
    "trade_tt_5_index = list(trade_tt[trade_tt['month']==5].index)\n",
    "trade_tt_6_index =list(trade_tt[trade_tt['month']==6].index)\n",
    "\n",
    "np.random.shuffle(trade_tt_2_4_index)\n",
    "np.random.shuffle(trade_tt_3_5_index)\n",
    "np.random.shuffle(trade_tt_5_index)\n",
    "np.random.shuffle(trade_tt_6_index)\n",
    "\n",
    "#randomly split the indice into 3 parts and making tuple for each train/validation set\n",
    "validation_indice_tuple_list = []\n",
    "\n",
    "for i in range(3):\n",
    "    validation_indice_tuple_list.append((get_certain_part(trade_tt_2_4_index,i+1,3),get_certain_part(trade_tt_5_index,i+1,3)))\n",
    "    validation_indice_tuple_list.append((get_certain_part(trade_tt_3_5_index,i+1,3),get_certain_part(trade_tt_6_index,i+1,3)))\n",
    "print len(validation_indice_tuple_list)"
   ]
  },
  {
   "cell_type": "code",
   "execution_count": 47,
   "metadata": {
    "collapsed": false
   },
   "outputs": [],
   "source": [
    "trade_tt_2_6_index = list(trade_tt[(trade_tt['month']>1)&(trade_tt['month']<7)].index)\n",
    "config.train_2_6_index = trade_tt_2_6_index\n",
    "config.single_module_validation_indice_set = validation_indice_tuple_list\n",
    "pd.to_pickle(config,'config.pkl')"
   ]
  }
 ],
 "metadata": {
  "anaconda-cloud": {},
  "kernelspec": {
   "display_name": "Python [Root]",
   "language": "python",
   "name": "Python [Root]"
  },
  "language_info": {
   "codemirror_mode": {
    "name": "ipython",
    "version": 2
   },
   "file_extension": ".py",
   "mimetype": "text/x-python",
   "name": "python",
   "nbconvert_exporter": "python",
   "pygments_lexer": "ipython2",
   "version": "2.7.12"
  }
 },
 "nbformat": 4,
 "nbformat_minor": 0
}
