{
 "cells": [
  {
   "cell_type": "code",
   "execution_count": 4,
   "metadata": {
    "collapsed": true
   },
   "outputs": [],
   "source": [
    "import pandas as pd\n",
    "import numpy as np"
   ]
  },
  {
   "cell_type": "code",
   "execution_count": 5,
   "metadata": {
    "collapsed": true
   },
   "outputs": [],
   "source": [
    "class Config:\n",
    "    pass\n",
    "config = pd.read_pickle('config.pkl')\n",
    "data_path = config.data_path\n",
    "feature_path = config.feature_path\n",
    "normalized_path = config.normalized_path"
   ]
  },
  {
   "cell_type": "code",
   "execution_count": 6,
   "metadata": {
    "collapsed": true
   },
   "outputs": [],
   "source": [
    "to_stack_path = '../../kaggleData/JD_logging/to_stack/'\n",
    "config.to_stack_feature_dict={}"
   ]
  },
  {
   "cell_type": "code",
   "execution_count": 7,
   "metadata": {},
   "outputs": [
    {
     "data": {
      "text/plain": [
       "Index(['rowkey', 'time', 'id', 'from', 'month', 'day', 'weekday', 'hour',\n",
       "       'day_cycle', 'weekday_cycle', 'hour_cycle', 'recent_login_id_0',\n",
       "       'recent_login_id_1', 'recent_login_id_2'],\n",
       "      dtype='object')"
      ]
     },
     "execution_count": 7,
     "metadata": {},
     "output_type": "execute_result"
    }
   ],
   "source": [
    "trade_tt = pd.read_csv(data_path+'trade_tt_with_recent_3_log_id.csv')\n",
    "trade_tt.columns"
   ]
  },
  {
   "cell_type": "code",
   "execution_count": 8,
   "metadata": {
    "collapsed": true
   },
   "outputs": [],
   "source": [
    "config.test_7_index = list(trade_tt[trade_tt['month']==7].index)\n",
    "pd.to_pickle(config,'config.pkl')"
   ]
  },
  {
   "cell_type": "code",
   "execution_count": 9,
   "metadata": {
    "collapsed": true
   },
   "outputs": [],
   "source": [
    "config.test_start_stacking = len(config.train_2_6_index)\n",
    "pd.to_pickle(config,'config.pkl')"
   ]
  },
  {
   "cell_type": "code",
   "execution_count": 10,
   "metadata": {
    "collapsed": true
   },
   "outputs": [],
   "source": [
    "feature_sequence = []\n",
    "for feature in config.numerical_features:\n",
    "    feature_sequence.append(pd.read_pickle(normalized_path+feature+'.pkl').reshape(-1,1))\n",
    "numerical_mat = np.hstack(feature_sequence)[config.train_2_6_index+config.test_7_index]\n",
    "\n",
    "\n",
    "trade_numerical_features = pd.DataFrame(numerical_mat,columns = config.numerical_features)"
   ]
  },
  {
   "cell_type": "markdown",
   "metadata": {},
   "source": [
    "### 3sigma method"
   ]
  },
  {
   "cell_type": "code",
   "execution_count": 11,
   "metadata": {
    "collapsed": true
   },
   "outputs": [],
   "source": [
    "_3sigma_features = []\n",
    "for feature in config.numerical_features:\n",
    "    mean = trade_numerical_features[feature].mean()\n",
    "    std = trade_numerical_features[feature].std()\n",
    "    upper = mean+3*std\n",
    "    lower = mean-3*std\n",
    "    trade_numerical_features[feature+'_3sigma'] = trade_numerical_features[feature].apply(lambda x : 1 if x> upper else (-1 if x<lower else 0))\n",
    "    _3sigma_features.append(feature+'_3sigma')"
   ]
  },
  {
   "cell_type": "code",
   "execution_count": 12,
   "metadata": {
    "collapsed": true
   },
   "outputs": [],
   "source": [
    "config.to_stack_feature_dict['3sigma_detect'] = _3sigma_features"
   ]
  },
  {
   "cell_type": "code",
   "execution_count": 13,
   "metadata": {
    "collapsed": true
   },
   "outputs": [],
   "source": [
    "for feature in _3sigma_features:\n",
    "    pd.to_pickle(trade_numerical_features[feature],to_stack_path+feature+'.pkl')"
   ]
  },
  {
   "cell_type": "markdown",
   "metadata": {},
   "source": [
    "### Tukey method"
   ]
  },
  {
   "cell_type": "code",
   "execution_count": 14,
   "metadata": {
    "collapsed": true
   },
   "outputs": [],
   "source": [
    "tukey_features = []\n",
    "for feature in config.numerical_features:\n",
    "    up_quan = np.percentile(trade_numerical_features[feature],0.75)\n",
    "    low_quan = np.percentile(trade_numerical_features[feature],0.25)\n",
    "    iqr = up_quan - low_quan\n",
    "    upper = up_quan + 1.5*iqr\n",
    "    lower = low_quan - 1.5*iqr\n",
    "    trade_numerical_features[feature+'_tukey'] = trade_numerical_features[feature].apply(lambda x : 1 if x> upper else (-1 if x<lower else 0))\n",
    "    tukey_features.append(feature+'_tukey')"
   ]
  },
  {
   "cell_type": "code",
   "execution_count": 15,
   "metadata": {
    "collapsed": true
   },
   "outputs": [],
   "source": [
    "config.to_stack_feature_dict['tukey_detect']  = tukey_features"
   ]
  },
  {
   "cell_type": "code",
   "execution_count": 41,
   "metadata": {
    "collapsed": true
   },
   "outputs": [],
   "source": [
    "for feature in tukey_features:\n",
    "    pd.to_pickle(trade_numerical_features[feature],to_stack_path+feature+'.pkl')"
   ]
  },
  {
   "cell_type": "markdown",
   "metadata": {},
   "source": [
    "### features for unsupervised outlier detectors"
   ]
  },
  {
   "cell_type": "code",
   "execution_count": 19,
   "metadata": {
    "collapsed": true
   },
   "outputs": [],
   "source": [
    "feature_sequence = []\n",
    "for feature in config.normalized_features:\n",
    "    feature_sequence.append(pd.read_pickle(normalized_path+feature+'.pkl').reshape(-1,1))\n",
    "normalized_mat = np.hstack(feature_sequence)[config.train_2_6_index+config.test_7_index]\n",
    "\n",
    "trade_normalized_features = pd.DataFrame(normalized_mat,columns = config.normalized_features)"
   ]
  },
  {
   "cell_type": "markdown",
   "metadata": {},
   "source": [
    "### isolation forest"
   ]
  },
  {
   "cell_type": "code",
   "execution_count": 44,
   "metadata": {
    "collapsed": true
   },
   "outputs": [],
   "source": [
    "from sklearn.ensemble import IsolationForest"
   ]
  },
  {
   "cell_type": "code",
   "execution_count": 45,
   "metadata": {
    "collapsed": true
   },
   "outputs": [],
   "source": [
    "if_detector = IsolationForest(n_estimators = 200, contamination = 0.05, max_features = 0.75,n_jobs = 7,random_state =552)\n",
    "if_detector.fit(normalized_mat)\n",
    "trade_normalized_features['if_outlier_detect'] = if_detector.predict(normalized_mat)"
   ]
  },
  {
   "cell_type": "markdown",
   "metadata": {},
   "source": [
    "### Local Outlier Factor(LOF)"
   ]
  },
  {
   "cell_type": "code",
   "execution_count": 46,
   "metadata": {
    "collapsed": true
   },
   "outputs": [],
   "source": [
    "from sklearn.neighbors import LocalOutlierFactor "
   ]
  },
  {
   "cell_type": "code",
   "execution_count": 47,
   "metadata": {
    "collapsed": true
   },
   "outputs": [],
   "source": [
    "lof_detector = LocalOutlierFactor(contamination = 0.05,n_jobs = 7)\n",
    "trade_normalized_features['lof_outlier_detect'] = lof_detector.fit_predict(normalized_mat)"
   ]
  },
  {
   "cell_type": "markdown",
   "metadata": {},
   "source": [
    "### one-class svm"
   ]
  },
  {
   "cell_type": "code",
   "execution_count": 20,
   "metadata": {
    "collapsed": true
   },
   "outputs": [],
   "source": [
    "from sklearn.svm import OneClassSVM"
   ]
  },
  {
   "cell_type": "code",
   "execution_count": null,
   "metadata": {},
   "outputs": [
    {
     "name": "stdout",
     "output_type": "stream",
     "text": [
      "[LibSVM]"
     ]
    }
   ],
   "source": [
    "one_way_svm_detector= OneClassSVM(random_state =552,verbose=True)\n",
    "one_way_svm_detector.fit(normalized_mat)\n",
    "trade_normalized_features['svm_1_detect'] = one_way_svm_detector.predict(normalized_mat,random_state=552)"
   ]
  },
  {
   "cell_type": "markdown",
   "metadata": {},
   "source": [
    "### save the unsupervised outlier detector results"
   ]
  },
  {
   "cell_type": "code",
   "execution_count": 16,
   "metadata": {
    "scrolled": true
   },
   "outputs": [
    {
     "ename": "NameError",
     "evalue": "name 'trade_normalized_features' is not defined",
     "output_type": "error",
     "traceback": [
      "\u001b[0;31m---------------------------------------------------------------------------\u001b[0m",
      "\u001b[0;31mNameError\u001b[0m                                 Traceback (most recent call last)",
      "\u001b[0;32m<ipython-input-16-85bc83051441>\u001b[0m in \u001b[0;36m<module>\u001b[0;34m()\u001b[0m\n\u001b[1;32m      1\u001b[0m \u001b[0mconfig\u001b[0m\u001b[0;34m.\u001b[0m\u001b[0mto_stack_feature_dict\u001b[0m\u001b[0;34m[\u001b[0m\u001b[0;34m'unsupervised_detect'\u001b[0m\u001b[0;34m]\u001b[0m  \u001b[0;34m=\u001b[0m \u001b[0;34m[\u001b[0m\u001b[0;34m'if_outlier_detect'\u001b[0m\u001b[0;34m,\u001b[0m\u001b[0;34m'lof_outlier_detect'\u001b[0m\u001b[0;34m,\u001b[0m\u001b[0;34m'svm_1_detect'\u001b[0m\u001b[0;34m]\u001b[0m\u001b[0;34m\u001b[0m\u001b[0m\n\u001b[1;32m      2\u001b[0m \u001b[0;32mfor\u001b[0m \u001b[0mfeature\u001b[0m \u001b[0;32min\u001b[0m \u001b[0mconfig\u001b[0m\u001b[0;34m.\u001b[0m\u001b[0mto_stack_feature_dict\u001b[0m\u001b[0;34m[\u001b[0m\u001b[0;34m'unsupervised_detect'\u001b[0m\u001b[0;34m]\u001b[0m\u001b[0;34m:\u001b[0m\u001b[0;34m\u001b[0m\u001b[0m\n\u001b[0;32m----> 3\u001b[0;31m     \u001b[0mpd\u001b[0m\u001b[0;34m.\u001b[0m\u001b[0mto_pickle\u001b[0m\u001b[0;34m(\u001b[0m\u001b[0mtrade_normalized_features\u001b[0m\u001b[0;34m[\u001b[0m\u001b[0mfeature\u001b[0m\u001b[0;34m]\u001b[0m\u001b[0;34m,\u001b[0m\u001b[0mto_stack_path\u001b[0m\u001b[0;34m+\u001b[0m\u001b[0mfeature\u001b[0m\u001b[0;34m+\u001b[0m\u001b[0;34m'.pkl'\u001b[0m\u001b[0;34m)\u001b[0m\u001b[0;34m\u001b[0m\u001b[0m\n\u001b[0m",
      "\u001b[0;31mNameError\u001b[0m: name 'trade_normalized_features' is not defined"
     ]
    }
   ],
   "source": [
    "#config.to_stack_feature_dict['unsupervised_detect']  = ['if_outlier_detect','lof_outlier_detect','svm_1_detect']\n",
    "#for feature in config.to_stack_feature_dict['unsupervised_detect']:\n",
    "#    pd.to_pickle(trade_normalized_features[feature],to_stack_path+feature+'.pkl')"
   ]
  },
  {
   "cell_type": "code",
   "execution_count": 17,
   "metadata": {
    "collapsed": true
   },
   "outputs": [],
   "source": [
    "config.to_stack_feature_dict['unsupervised_detect']  = ['if_outlier_detect','lof_outlier_detect']\n",
    "pd.to_pickle(config,'config.pkl')"
   ]
  }
 ],
 "metadata": {
  "kernelspec": {
   "display_name": "Python 3",
   "language": "python",
   "name": "python3"
  },
  "language_info": {
   "codemirror_mode": {
    "name": "ipython",
    "version": 3
   },
   "file_extension": ".py",
   "mimetype": "text/x-python",
   "name": "python",
   "nbconvert_exporter": "python",
   "pygments_lexer": "ipython3",
   "version": "3.6.3"
  }
 },
 "nbformat": 4,
 "nbformat_minor": 2
}
