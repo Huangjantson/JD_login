{
 "cells": [
  {
   "cell_type": "code",
   "execution_count": 1,
   "metadata": {
    "collapsed": false
   },
   "outputs": [],
   "source": [
    "import pandas as pd\n",
    "import numpy as np\n",
    "import seaborn as sns\n",
    "from matplotlib import pyplot as plt \n",
    "import datetime"
   ]
  },
  {
   "cell_type": "code",
   "execution_count": 2,
   "metadata": {
    "collapsed": true
   },
   "outputs": [],
   "source": [
    "data_path = '../../kaggleData/JD_logging/'\n",
    "feature_path = '../../kaggleData/JD_logging/features/'"
   ]
  },
  {
   "cell_type": "code",
   "execution_count": 7,
   "metadata": {
    "collapsed": false
   },
   "outputs": [],
   "source": [
    "login_train = pd.read_csv(data_path+'t_login.csv')\n",
    "trade_train = pd.read_csv(data_path+'t_trade.csv')"
   ]
  },
  {
   "cell_type": "code",
   "execution_count": 4,
   "metadata": {
    "collapsed": false,
    "scrolled": true
   },
   "outputs": [
    {
     "data": {
      "text/html": [
       "<div>\n",
       "<table border=\"1\" class=\"dataframe\">\n",
       "  <thead>\n",
       "    <tr style=\"text-align: right;\">\n",
       "      <th></th>\n",
       "      <th>log_id</th>\n",
       "      <th>timelong</th>\n",
       "      <th>device</th>\n",
       "      <th>log_from</th>\n",
       "      <th>ip</th>\n",
       "      <th>city</th>\n",
       "      <th>result</th>\n",
       "      <th>timestamp</th>\n",
       "      <th>type</th>\n",
       "      <th>id</th>\n",
       "      <th>is_scan</th>\n",
       "      <th>is_sec</th>\n",
       "      <th>time</th>\n",
       "    </tr>\n",
       "  </thead>\n",
       "  <tbody>\n",
       "    <tr>\n",
       "      <th>0</th>\n",
       "      <td>2.618369e+15</td>\n",
       "      <td>5.0</td>\n",
       "      <td>879361</td>\n",
       "      <td>10</td>\n",
       "      <td>1026491</td>\n",
       "      <td>194</td>\n",
       "      <td>1</td>\n",
       "      <td>1.428642e+09</td>\n",
       "      <td>1</td>\n",
       "      <td>116825</td>\n",
       "      <td>True</td>\n",
       "      <td>False</td>\n",
       "      <td>2015-04-10 12:54:19</td>\n",
       "    </tr>\n",
       "    <tr>\n",
       "      <th>1</th>\n",
       "      <td>9.969739e+14</td>\n",
       "      <td>16124.0</td>\n",
       "      <td>835072</td>\n",
       "      <td>1</td>\n",
       "      <td>1026491</td>\n",
       "      <td>194</td>\n",
       "      <td>1</td>\n",
       "      <td>1.428809e+09</td>\n",
       "      <td>1</td>\n",
       "      <td>109987</td>\n",
       "      <td>False</td>\n",
       "      <td>False</td>\n",
       "      <td>2015-04-12 11:20:45</td>\n",
       "    </tr>\n",
       "    <tr>\n",
       "      <th>2</th>\n",
       "      <td>8.123343e+15</td>\n",
       "      <td>5.0</td>\n",
       "      <td>879361</td>\n",
       "      <td>10</td>\n",
       "      <td>1026491</td>\n",
       "      <td>194</td>\n",
       "      <td>1</td>\n",
       "      <td>1.427705e+09</td>\n",
       "      <td>1</td>\n",
       "      <td>116825</td>\n",
       "      <td>True</td>\n",
       "      <td>False</td>\n",
       "      <td>2015-03-30 16:38:20</td>\n",
       "    </tr>\n",
       "    <tr>\n",
       "      <th>3</th>\n",
       "      <td>3.265677e+14</td>\n",
       "      <td>6.0</td>\n",
       "      <td>879361</td>\n",
       "      <td>10</td>\n",
       "      <td>1026491</td>\n",
       "      <td>194</td>\n",
       "      <td>1</td>\n",
       "      <td>1.428309e+09</td>\n",
       "      <td>1</td>\n",
       "      <td>116825</td>\n",
       "      <td>True</td>\n",
       "      <td>False</td>\n",
       "      <td>2015-04-06 16:22:18</td>\n",
       "    </tr>\n",
       "    <tr>\n",
       "      <th>4</th>\n",
       "      <td>6.684659e+15</td>\n",
       "      <td>4.0</td>\n",
       "      <td>879361</td>\n",
       "      <td>10</td>\n",
       "      <td>1026491</td>\n",
       "      <td>194</td>\n",
       "      <td>1</td>\n",
       "      <td>1.428221e+09</td>\n",
       "      <td>1</td>\n",
       "      <td>116825</td>\n",
       "      <td>True</td>\n",
       "      <td>False</td>\n",
       "      <td>2015-04-05 15:55:01</td>\n",
       "    </tr>\n",
       "    <tr>\n",
       "      <th>5</th>\n",
       "      <td>8.828481e+15</td>\n",
       "      <td>5.0</td>\n",
       "      <td>736541</td>\n",
       "      <td>10</td>\n",
       "      <td>1026491</td>\n",
       "      <td>194</td>\n",
       "      <td>1</td>\n",
       "      <td>1.428220e+09</td>\n",
       "      <td>1</td>\n",
       "      <td>116825</td>\n",
       "      <td>True</td>\n",
       "      <td>False</td>\n",
       "      <td>2015-04-05 15:48:07</td>\n",
       "    </tr>\n",
       "    <tr>\n",
       "      <th>6</th>\n",
       "      <td>6.071119e+15</td>\n",
       "      <td>13000.0</td>\n",
       "      <td>979465</td>\n",
       "      <td>2</td>\n",
       "      <td>1026491</td>\n",
       "      <td>194</td>\n",
       "      <td>1</td>\n",
       "      <td>1.431851e+09</td>\n",
       "      <td>3</td>\n",
       "      <td>116825</td>\n",
       "      <td>False</td>\n",
       "      <td>False</td>\n",
       "      <td>2015-05-17 16:27:55</td>\n",
       "    </tr>\n",
       "    <tr>\n",
       "      <th>7</th>\n",
       "      <td>8.525176e+15</td>\n",
       "      <td>17627.0</td>\n",
       "      <td>765534</td>\n",
       "      <td>1</td>\n",
       "      <td>1026491</td>\n",
       "      <td>194</td>\n",
       "      <td>1</td>\n",
       "      <td>1.426584e+09</td>\n",
       "      <td>1</td>\n",
       "      <td>109987</td>\n",
       "      <td>False</td>\n",
       "      <td>False</td>\n",
       "      <td>2015-03-17 17:19:04</td>\n",
       "    </tr>\n",
       "    <tr>\n",
       "      <th>8</th>\n",
       "      <td>3.120145e+15</td>\n",
       "      <td>12000.0</td>\n",
       "      <td>12239</td>\n",
       "      <td>2</td>\n",
       "      <td>1026491</td>\n",
       "      <td>194</td>\n",
       "      <td>1</td>\n",
       "      <td>1.427789e+09</td>\n",
       "      <td>3</td>\n",
       "      <td>116825</td>\n",
       "      <td>False</td>\n",
       "      <td>False</td>\n",
       "      <td>2015-03-31 15:58:48</td>\n",
       "    </tr>\n",
       "    <tr>\n",
       "      <th>9</th>\n",
       "      <td>5.367905e+15</td>\n",
       "      <td>9146.0</td>\n",
       "      <td>556157</td>\n",
       "      <td>1</td>\n",
       "      <td>1026491</td>\n",
       "      <td>194</td>\n",
       "      <td>31</td>\n",
       "      <td>1.431252e+09</td>\n",
       "      <td>1</td>\n",
       "      <td>109987</td>\n",
       "      <td>False</td>\n",
       "      <td>False</td>\n",
       "      <td>2015-05-10 18:06:52</td>\n",
       "    </tr>\n",
       "  </tbody>\n",
       "</table>\n",
       "</div>"
      ],
      "text/plain": [
       "         log_id  timelong  device  log_from       ip  city  result  \\\n",
       "0  2.618369e+15       5.0  879361        10  1026491   194       1   \n",
       "1  9.969739e+14   16124.0  835072         1  1026491   194       1   \n",
       "2  8.123343e+15       5.0  879361        10  1026491   194       1   \n",
       "3  3.265677e+14       6.0  879361        10  1026491   194       1   \n",
       "4  6.684659e+15       4.0  879361        10  1026491   194       1   \n",
       "5  8.828481e+15       5.0  736541        10  1026491   194       1   \n",
       "6  6.071119e+15   13000.0  979465         2  1026491   194       1   \n",
       "7  8.525176e+15   17627.0  765534         1  1026491   194       1   \n",
       "8  3.120145e+15   12000.0   12239         2  1026491   194       1   \n",
       "9  5.367905e+15    9146.0  556157         1  1026491   194      31   \n",
       "\n",
       "      timestamp  type      id is_scan is_sec                 time  \n",
       "0  1.428642e+09     1  116825    True  False  2015-04-10 12:54:19  \n",
       "1  1.428809e+09     1  109987   False  False  2015-04-12 11:20:45  \n",
       "2  1.427705e+09     1  116825    True  False  2015-03-30 16:38:20  \n",
       "3  1.428309e+09     1  116825    True  False  2015-04-06 16:22:18  \n",
       "4  1.428221e+09     1  116825    True  False  2015-04-05 15:55:01  \n",
       "5  1.428220e+09     1  116825    True  False  2015-04-05 15:48:07  \n",
       "6  1.431851e+09     3  116825   False  False  2015-05-17 16:27:55  \n",
       "7  1.426584e+09     1  109987   False  False  2015-03-17 17:19:04  \n",
       "8  1.427789e+09     3  116825   False  False  2015-03-31 15:58:48  \n",
       "9  1.431252e+09     1  109987   False  False  2015-05-10 18:06:52  "
      ]
     },
     "execution_count": 4,
     "metadata": {},
     "output_type": "execute_result"
    }
   ],
   "source": [
    "login_train.head(10)"
   ]
  },
  {
   "cell_type": "code",
   "execution_count": 5,
   "metadata": {
    "collapsed": false,
    "scrolled": true
   },
   "outputs": [
    {
     "data": {
      "text/html": [
       "<div>\n",
       "<table border=\"1\" class=\"dataframe\">\n",
       "  <thead>\n",
       "    <tr style=\"text-align: right;\">\n",
       "      <th></th>\n",
       "      <th>rowkey</th>\n",
       "      <th>time</th>\n",
       "      <th>id</th>\n",
       "      <th>is_risk</th>\n",
       "    </tr>\n",
       "  </thead>\n",
       "  <tbody>\n",
       "    <tr>\n",
       "      <th>0</th>\n",
       "      <td>3</td>\n",
       "      <td>2015-01-01 00:00:41.0</td>\n",
       "      <td>27863</td>\n",
       "      <td>0</td>\n",
       "    </tr>\n",
       "    <tr>\n",
       "      <th>1</th>\n",
       "      <td>6</td>\n",
       "      <td>2015-01-01 00:00:46.0</td>\n",
       "      <td>115201</td>\n",
       "      <td>0</td>\n",
       "    </tr>\n",
       "    <tr>\n",
       "      <th>2</th>\n",
       "      <td>13</td>\n",
       "      <td>2015-01-01 00:01:02.0</td>\n",
       "      <td>143711</td>\n",
       "      <td>0</td>\n",
       "    </tr>\n",
       "    <tr>\n",
       "      <th>3</th>\n",
       "      <td>32</td>\n",
       "      <td>2015-01-01 00:03:00.0</td>\n",
       "      <td>172699</td>\n",
       "      <td>0</td>\n",
       "    </tr>\n",
       "    <tr>\n",
       "      <th>4</th>\n",
       "      <td>43</td>\n",
       "      <td>2015-01-01 00:03:52.0</td>\n",
       "      <td>53265</td>\n",
       "      <td>0</td>\n",
       "    </tr>\n",
       "    <tr>\n",
       "      <th>5</th>\n",
       "      <td>67</td>\n",
       "      <td>2015-01-01 00:05:51.0</td>\n",
       "      <td>18231</td>\n",
       "      <td>0</td>\n",
       "    </tr>\n",
       "    <tr>\n",
       "      <th>6</th>\n",
       "      <td>94</td>\n",
       "      <td>2015-01-01 00:10:12.0</td>\n",
       "      <td>147174</td>\n",
       "      <td>0</td>\n",
       "    </tr>\n",
       "    <tr>\n",
       "      <th>7</th>\n",
       "      <td>98</td>\n",
       "      <td>2015-01-01 00:10:48.0</td>\n",
       "      <td>141674</td>\n",
       "      <td>0</td>\n",
       "    </tr>\n",
       "    <tr>\n",
       "      <th>8</th>\n",
       "      <td>116</td>\n",
       "      <td>2015-01-01 00:13:16.0</td>\n",
       "      <td>105324</td>\n",
       "      <td>0</td>\n",
       "    </tr>\n",
       "    <tr>\n",
       "      <th>9</th>\n",
       "      <td>147</td>\n",
       "      <td>2015-01-01 00:19:07.0</td>\n",
       "      <td>168749</td>\n",
       "      <td>0</td>\n",
       "    </tr>\n",
       "    <tr>\n",
       "      <th>10</th>\n",
       "      <td>198</td>\n",
       "      <td>2015-01-01 00:25:51.0</td>\n",
       "      <td>139034</td>\n",
       "      <td>0</td>\n",
       "    </tr>\n",
       "    <tr>\n",
       "      <th>11</th>\n",
       "      <td>282</td>\n",
       "      <td>2015-01-01 00:48:11.0</td>\n",
       "      <td>157472</td>\n",
       "      <td>0</td>\n",
       "    </tr>\n",
       "    <tr>\n",
       "      <th>12</th>\n",
       "      <td>287</td>\n",
       "      <td>2015-01-01 00:49:40.0</td>\n",
       "      <td>144195</td>\n",
       "      <td>0</td>\n",
       "    </tr>\n",
       "    <tr>\n",
       "      <th>13</th>\n",
       "      <td>293</td>\n",
       "      <td>2015-01-01 00:50:41.0</td>\n",
       "      <td>164198</td>\n",
       "      <td>0</td>\n",
       "    </tr>\n",
       "    <tr>\n",
       "      <th>14</th>\n",
       "      <td>320</td>\n",
       "      <td>2015-01-01 00:58:28.0</td>\n",
       "      <td>115201</td>\n",
       "      <td>0</td>\n",
       "    </tr>\n",
       "    <tr>\n",
       "      <th>15</th>\n",
       "      <td>343</td>\n",
       "      <td>2015-01-01 01:05:47.0</td>\n",
       "      <td>87482</td>\n",
       "      <td>0</td>\n",
       "    </tr>\n",
       "    <tr>\n",
       "      <th>16</th>\n",
       "      <td>344</td>\n",
       "      <td>2015-01-01 01:05:55.0</td>\n",
       "      <td>64543</td>\n",
       "      <td>0</td>\n",
       "    </tr>\n",
       "    <tr>\n",
       "      <th>17</th>\n",
       "      <td>380</td>\n",
       "      <td>2015-01-01 01:17:51.0</td>\n",
       "      <td>53933</td>\n",
       "      <td>0</td>\n",
       "    </tr>\n",
       "    <tr>\n",
       "      <th>18</th>\n",
       "      <td>393</td>\n",
       "      <td>2015-01-01 01:22:20.0</td>\n",
       "      <td>174789</td>\n",
       "      <td>0</td>\n",
       "    </tr>\n",
       "    <tr>\n",
       "      <th>19</th>\n",
       "      <td>419</td>\n",
       "      <td>2015-01-01 01:28:08.0</td>\n",
       "      <td>162466</td>\n",
       "      <td>0</td>\n",
       "    </tr>\n",
       "    <tr>\n",
       "      <th>20</th>\n",
       "      <td>440</td>\n",
       "      <td>2015-01-01 01:40:30.0</td>\n",
       "      <td>24002</td>\n",
       "      <td>0</td>\n",
       "    </tr>\n",
       "    <tr>\n",
       "      <th>21</th>\n",
       "      <td>464</td>\n",
       "      <td>2015-01-01 01:48:43.0</td>\n",
       "      <td>59616</td>\n",
       "      <td>0</td>\n",
       "    </tr>\n",
       "    <tr>\n",
       "      <th>22</th>\n",
       "      <td>472</td>\n",
       "      <td>2015-01-01 01:51:10.0</td>\n",
       "      <td>120026</td>\n",
       "      <td>0</td>\n",
       "    </tr>\n",
       "    <tr>\n",
       "      <th>23</th>\n",
       "      <td>476</td>\n",
       "      <td>2015-01-01 01:52:28.0</td>\n",
       "      <td>120026</td>\n",
       "      <td>0</td>\n",
       "    </tr>\n",
       "    <tr>\n",
       "      <th>24</th>\n",
       "      <td>478</td>\n",
       "      <td>2015-01-01 01:52:39.0</td>\n",
       "      <td>30357</td>\n",
       "      <td>0</td>\n",
       "    </tr>\n",
       "    <tr>\n",
       "      <th>25</th>\n",
       "      <td>503</td>\n",
       "      <td>2015-01-01 02:06:44.0</td>\n",
       "      <td>48831</td>\n",
       "      <td>0</td>\n",
       "    </tr>\n",
       "    <tr>\n",
       "      <th>26</th>\n",
       "      <td>506</td>\n",
       "      <td>2015-01-01 02:08:51.0</td>\n",
       "      <td>61579</td>\n",
       "      <td>0</td>\n",
       "    </tr>\n",
       "    <tr>\n",
       "      <th>27</th>\n",
       "      <td>528</td>\n",
       "      <td>2015-01-01 02:33:32.0</td>\n",
       "      <td>85435</td>\n",
       "      <td>0</td>\n",
       "    </tr>\n",
       "    <tr>\n",
       "      <th>28</th>\n",
       "      <td>536</td>\n",
       "      <td>2015-01-01 02:39:07.0</td>\n",
       "      <td>72922</td>\n",
       "      <td>0</td>\n",
       "    </tr>\n",
       "    <tr>\n",
       "      <th>29</th>\n",
       "      <td>555</td>\n",
       "      <td>2015-01-01 03:02:01.0</td>\n",
       "      <td>18138</td>\n",
       "      <td>1</td>\n",
       "    </tr>\n",
       "    <tr>\n",
       "      <th>...</th>\n",
       "      <td>...</td>\n",
       "      <td>...</td>\n",
       "      <td>...</td>\n",
       "      <td>...</td>\n",
       "    </tr>\n",
       "    <tr>\n",
       "      <th>132689</th>\n",
       "      <td>950365</td>\n",
       "      <td>2015-06-30 22:31:39.0</td>\n",
       "      <td>168845</td>\n",
       "      <td>0</td>\n",
       "    </tr>\n",
       "    <tr>\n",
       "      <th>132690</th>\n",
       "      <td>950366</td>\n",
       "      <td>2015-06-30 22:31:46.0</td>\n",
       "      <td>34934</td>\n",
       "      <td>0</td>\n",
       "    </tr>\n",
       "    <tr>\n",
       "      <th>132691</th>\n",
       "      <td>950387</td>\n",
       "      <td>2015-06-30 22:35:40.0</td>\n",
       "      <td>116080</td>\n",
       "      <td>0</td>\n",
       "    </tr>\n",
       "    <tr>\n",
       "      <th>132692</th>\n",
       "      <td>950401</td>\n",
       "      <td>2015-06-30 22:37:52.0</td>\n",
       "      <td>64345</td>\n",
       "      <td>0</td>\n",
       "    </tr>\n",
       "    <tr>\n",
       "      <th>132693</th>\n",
       "      <td>950418</td>\n",
       "      <td>2015-06-30 22:40:05.0</td>\n",
       "      <td>69954</td>\n",
       "      <td>0</td>\n",
       "    </tr>\n",
       "    <tr>\n",
       "      <th>132694</th>\n",
       "      <td>950433</td>\n",
       "      <td>2015-06-30 22:43:32.0</td>\n",
       "      <td>158245</td>\n",
       "      <td>0</td>\n",
       "    </tr>\n",
       "    <tr>\n",
       "      <th>132695</th>\n",
       "      <td>950461</td>\n",
       "      <td>2015-06-30 22:49:28.0</td>\n",
       "      <td>78179</td>\n",
       "      <td>0</td>\n",
       "    </tr>\n",
       "    <tr>\n",
       "      <th>132696</th>\n",
       "      <td>950495</td>\n",
       "      <td>2015-06-30 22:55:56.0</td>\n",
       "      <td>159008</td>\n",
       "      <td>0</td>\n",
       "    </tr>\n",
       "    <tr>\n",
       "      <th>132697</th>\n",
       "      <td>950512</td>\n",
       "      <td>2015-06-30 22:58:03.0</td>\n",
       "      <td>32497</td>\n",
       "      <td>0</td>\n",
       "    </tr>\n",
       "    <tr>\n",
       "      <th>132698</th>\n",
       "      <td>950527</td>\n",
       "      <td>2015-06-30 22:59:17.0</td>\n",
       "      <td>65838</td>\n",
       "      <td>0</td>\n",
       "    </tr>\n",
       "    <tr>\n",
       "      <th>132699</th>\n",
       "      <td>950532</td>\n",
       "      <td>2015-06-30 23:00:55.0</td>\n",
       "      <td>48280</td>\n",
       "      <td>0</td>\n",
       "    </tr>\n",
       "    <tr>\n",
       "      <th>132700</th>\n",
       "      <td>950534</td>\n",
       "      <td>2015-06-30 23:01:41.0</td>\n",
       "      <td>15112</td>\n",
       "      <td>0</td>\n",
       "    </tr>\n",
       "    <tr>\n",
       "      <th>132701</th>\n",
       "      <td>950536</td>\n",
       "      <td>2015-06-30 23:02:27.0</td>\n",
       "      <td>57462</td>\n",
       "      <td>0</td>\n",
       "    </tr>\n",
       "    <tr>\n",
       "      <th>132702</th>\n",
       "      <td>950559</td>\n",
       "      <td>2015-06-30 23:09:30.0</td>\n",
       "      <td>57462</td>\n",
       "      <td>0</td>\n",
       "    </tr>\n",
       "    <tr>\n",
       "      <th>132703</th>\n",
       "      <td>950565</td>\n",
       "      <td>2015-06-30 23:10:44.0</td>\n",
       "      <td>119417</td>\n",
       "      <td>0</td>\n",
       "    </tr>\n",
       "    <tr>\n",
       "      <th>132704</th>\n",
       "      <td>950573</td>\n",
       "      <td>2015-06-30 23:14:41.0</td>\n",
       "      <td>82440</td>\n",
       "      <td>0</td>\n",
       "    </tr>\n",
       "    <tr>\n",
       "      <th>132705</th>\n",
       "      <td>950585</td>\n",
       "      <td>2015-06-30 23:17:56.0</td>\n",
       "      <td>152510</td>\n",
       "      <td>0</td>\n",
       "    </tr>\n",
       "    <tr>\n",
       "      <th>132706</th>\n",
       "      <td>950587</td>\n",
       "      <td>2015-06-30 23:18:12.0</td>\n",
       "      <td>152510</td>\n",
       "      <td>0</td>\n",
       "    </tr>\n",
       "    <tr>\n",
       "      <th>132707</th>\n",
       "      <td>950599</td>\n",
       "      <td>2015-06-30 23:19:17.0</td>\n",
       "      <td>70824</td>\n",
       "      <td>0</td>\n",
       "    </tr>\n",
       "    <tr>\n",
       "      <th>132708</th>\n",
       "      <td>950615</td>\n",
       "      <td>2015-06-30 23:21:39.0</td>\n",
       "      <td>144435</td>\n",
       "      <td>0</td>\n",
       "    </tr>\n",
       "    <tr>\n",
       "      <th>132709</th>\n",
       "      <td>950648</td>\n",
       "      <td>2015-06-30 23:32:04.0</td>\n",
       "      <td>92497</td>\n",
       "      <td>0</td>\n",
       "    </tr>\n",
       "    <tr>\n",
       "      <th>132710</th>\n",
       "      <td>950654</td>\n",
       "      <td>2015-06-30 23:32:48.0</td>\n",
       "      <td>82440</td>\n",
       "      <td>0</td>\n",
       "    </tr>\n",
       "    <tr>\n",
       "      <th>132711</th>\n",
       "      <td>950664</td>\n",
       "      <td>2015-06-30 23:35:42.0</td>\n",
       "      <td>93970</td>\n",
       "      <td>0</td>\n",
       "    </tr>\n",
       "    <tr>\n",
       "      <th>132712</th>\n",
       "      <td>950665</td>\n",
       "      <td>2015-06-30 23:35:43.0</td>\n",
       "      <td>93970</td>\n",
       "      <td>0</td>\n",
       "    </tr>\n",
       "    <tr>\n",
       "      <th>132713</th>\n",
       "      <td>950667</td>\n",
       "      <td>2015-06-30 23:36:07.0</td>\n",
       "      <td>49360</td>\n",
       "      <td>0</td>\n",
       "    </tr>\n",
       "    <tr>\n",
       "      <th>132714</th>\n",
       "      <td>950697</td>\n",
       "      <td>2015-06-30 23:45:17.0</td>\n",
       "      <td>39176</td>\n",
       "      <td>0</td>\n",
       "    </tr>\n",
       "    <tr>\n",
       "      <th>132715</th>\n",
       "      <td>950703</td>\n",
       "      <td>2015-06-30 23:46:07.0</td>\n",
       "      <td>61280</td>\n",
       "      <td>0</td>\n",
       "    </tr>\n",
       "    <tr>\n",
       "      <th>132716</th>\n",
       "      <td>950714</td>\n",
       "      <td>2015-06-30 23:49:32.0</td>\n",
       "      <td>72429</td>\n",
       "      <td>0</td>\n",
       "    </tr>\n",
       "    <tr>\n",
       "      <th>132717</th>\n",
       "      <td>950720</td>\n",
       "      <td>2015-06-30 23:51:08.0</td>\n",
       "      <td>106040</td>\n",
       "      <td>0</td>\n",
       "    </tr>\n",
       "    <tr>\n",
       "      <th>132718</th>\n",
       "      <td>950727</td>\n",
       "      <td>2015-06-30 23:53:19.0</td>\n",
       "      <td>72429</td>\n",
       "      <td>0</td>\n",
       "    </tr>\n",
       "  </tbody>\n",
       "</table>\n",
       "<p>132719 rows × 4 columns</p>\n",
       "</div>"
      ],
      "text/plain": [
       "        rowkey                   time      id  is_risk\n",
       "0            3  2015-01-01 00:00:41.0   27863        0\n",
       "1            6  2015-01-01 00:00:46.0  115201        0\n",
       "2           13  2015-01-01 00:01:02.0  143711        0\n",
       "3           32  2015-01-01 00:03:00.0  172699        0\n",
       "4           43  2015-01-01 00:03:52.0   53265        0\n",
       "5           67  2015-01-01 00:05:51.0   18231        0\n",
       "6           94  2015-01-01 00:10:12.0  147174        0\n",
       "7           98  2015-01-01 00:10:48.0  141674        0\n",
       "8          116  2015-01-01 00:13:16.0  105324        0\n",
       "9          147  2015-01-01 00:19:07.0  168749        0\n",
       "10         198  2015-01-01 00:25:51.0  139034        0\n",
       "11         282  2015-01-01 00:48:11.0  157472        0\n",
       "12         287  2015-01-01 00:49:40.0  144195        0\n",
       "13         293  2015-01-01 00:50:41.0  164198        0\n",
       "14         320  2015-01-01 00:58:28.0  115201        0\n",
       "15         343  2015-01-01 01:05:47.0   87482        0\n",
       "16         344  2015-01-01 01:05:55.0   64543        0\n",
       "17         380  2015-01-01 01:17:51.0   53933        0\n",
       "18         393  2015-01-01 01:22:20.0  174789        0\n",
       "19         419  2015-01-01 01:28:08.0  162466        0\n",
       "20         440  2015-01-01 01:40:30.0   24002        0\n",
       "21         464  2015-01-01 01:48:43.0   59616        0\n",
       "22         472  2015-01-01 01:51:10.0  120026        0\n",
       "23         476  2015-01-01 01:52:28.0  120026        0\n",
       "24         478  2015-01-01 01:52:39.0   30357        0\n",
       "25         503  2015-01-01 02:06:44.0   48831        0\n",
       "26         506  2015-01-01 02:08:51.0   61579        0\n",
       "27         528  2015-01-01 02:33:32.0   85435        0\n",
       "28         536  2015-01-01 02:39:07.0   72922        0\n",
       "29         555  2015-01-01 03:02:01.0   18138        1\n",
       "...        ...                    ...     ...      ...\n",
       "132689  950365  2015-06-30 22:31:39.0  168845        0\n",
       "132690  950366  2015-06-30 22:31:46.0   34934        0\n",
       "132691  950387  2015-06-30 22:35:40.0  116080        0\n",
       "132692  950401  2015-06-30 22:37:52.0   64345        0\n",
       "132693  950418  2015-06-30 22:40:05.0   69954        0\n",
       "132694  950433  2015-06-30 22:43:32.0  158245        0\n",
       "132695  950461  2015-06-30 22:49:28.0   78179        0\n",
       "132696  950495  2015-06-30 22:55:56.0  159008        0\n",
       "132697  950512  2015-06-30 22:58:03.0   32497        0\n",
       "132698  950527  2015-06-30 22:59:17.0   65838        0\n",
       "132699  950532  2015-06-30 23:00:55.0   48280        0\n",
       "132700  950534  2015-06-30 23:01:41.0   15112        0\n",
       "132701  950536  2015-06-30 23:02:27.0   57462        0\n",
       "132702  950559  2015-06-30 23:09:30.0   57462        0\n",
       "132703  950565  2015-06-30 23:10:44.0  119417        0\n",
       "132704  950573  2015-06-30 23:14:41.0   82440        0\n",
       "132705  950585  2015-06-30 23:17:56.0  152510        0\n",
       "132706  950587  2015-06-30 23:18:12.0  152510        0\n",
       "132707  950599  2015-06-30 23:19:17.0   70824        0\n",
       "132708  950615  2015-06-30 23:21:39.0  144435        0\n",
       "132709  950648  2015-06-30 23:32:04.0   92497        0\n",
       "132710  950654  2015-06-30 23:32:48.0   82440        0\n",
       "132711  950664  2015-06-30 23:35:42.0   93970        0\n",
       "132712  950665  2015-06-30 23:35:43.0   93970        0\n",
       "132713  950667  2015-06-30 23:36:07.0   49360        0\n",
       "132714  950697  2015-06-30 23:45:17.0   39176        0\n",
       "132715  950703  2015-06-30 23:46:07.0   61280        0\n",
       "132716  950714  2015-06-30 23:49:32.0   72429        0\n",
       "132717  950720  2015-06-30 23:51:08.0  106040        0\n",
       "132718  950727  2015-06-30 23:53:19.0   72429        0\n",
       "\n",
       "[132719 rows x 4 columns]"
      ]
     },
     "execution_count": 5,
     "metadata": {},
     "output_type": "execute_result"
    }
   ],
   "source": [
    "trade_train"
   ]
  },
  {
   "cell_type": "code",
   "execution_count": null,
   "metadata": {
    "collapsed": false
   },
   "outputs": [
    {
     "name": "stdout",
     "output_type": "stream",
     "text": [
      "(595645, 13)\n",
      "(132719, 4)\n"
     ]
    }
   ],
   "source": [
    "print login_train.shape\n",
    "print trade_train.shape"
   ]
  },
  {
   "cell_type": "code",
   "execution_count": 46,
   "metadata": {
    "collapsed": false
   },
   "outputs": [
    {
     "name": "stdout",
     "output_type": "stream",
     "text": [
      "(87748, 13)\n",
      "(17875, 3)\n"
     ]
    }
   ],
   "source": [
    "login_test = pd.read_csv(data_path+'t_login_test.csv')\n",
    "trade_test = pd.read_csv(data_path+'t_trade_test.csv')\n",
    "print login_test.shape\n",
    "print trade_test.shape"
   ]
  },
  {
   "cell_type": "code",
   "execution_count": null,
   "metadata": {
    "collapsed": true
   },
   "outputs": [],
   "source": [
    "login_train['from'] = 'train'\n",
    "login_test['from'] = 'test'\n",
    "trade_train['from'] = 'train'\n",
    "trade_test['from'] = 'test'"
   ]
  },
  {
   "cell_type": "code",
   "execution_count": null,
   "metadata": {
    "collapsed": true
   },
   "outputs": [],
   "source": [
    "login_tt = pd.concat([login_train,login_test])\n",
    "trade_tt = pd.concat([trade_train.drop('is_risk',axis = 1),trade_test])"
   ]
  },
  {
   "cell_type": "code",
   "execution_count": 3,
   "metadata": {
    "collapsed": false
   },
   "outputs": [],
   "source": [
    "#trade_tt.to_csv(data_path+'trade_tt.csv')\n",
    "#login_tt.to_csv(data_path+'login_tt.csv')\n",
    "login_tt = pd.read_csv(data_path+'login_tt.csv')\n",
    "trade_tt = pd.read_csv(data_path+'trade_tt.csv')"
   ]
  },
  {
   "cell_type": "markdown",
   "metadata": {},
   "source": [
    "# trade表 "
   ]
  },
  {
   "cell_type": "markdown",
   "metadata": {},
   "source": [
    "## label比例"
   ]
  },
  {
   "cell_type": "code",
   "execution_count": 11,
   "metadata": {
    "collapsed": false
   },
   "outputs": [
    {
     "name": "stdout",
     "output_type": "stream",
     "text": [
      "安全交易数量、比例： 129076 0.972551028865\n",
      "异常交易数量、比例： 3643 0.0274489711345\n"
     ]
    }
   ],
   "source": [
    "safe_num = trade_train.shape[0] - trade_train['is_risk'].sum()\n",
    "at_risk_num = trade_train['is_risk'].sum()\n",
    "print u\"安全交易数量、比例：\",safe_num, safe_num*1.0/trade_train.shape[0]\n",
    "print u\"异常交易数量、比例：\",at_risk_num , at_risk_num*1.0/trade_train.shape[0]"
   ]
  },
  {
   "cell_type": "code",
   "execution_count": 12,
   "metadata": {
    "collapsed": false
   },
   "outputs": [
    {
     "name": "stdout",
     "output_type": "stream",
     "text": [
      "安全交易数量、比例： 129076 0.972551028865\n",
      "异常交易数量、比例： 3643 0.0274489711345\n"
     ]
    }
   ],
   "source": [
    "safe_num = trade_train.shape[0] - trade_train['is_risk'].sum()\n",
    "at_risk_num = trade_train['is_risk'].sum()\n",
    "print u\"安全交易数量、比例：\",safe_num, safe_num*1.0/trade_train.shape[0]\n",
    "print u\"异常交易数量、比例：\",at_risk_num , at_risk_num*1.0/trade_train.shape[0]"
   ]
  },
  {
   "cell_type": "markdown",
   "metadata": {},
   "source": [
    "## ID重复"
   ]
  },
  {
   "cell_type": "code",
   "execution_count": 13,
   "metadata": {
    "collapsed": false
   },
   "outputs": [
    {
     "name": "stdout",
     "output_type": "stream",
     "text": [
      "26044 7272 28065\n",
      "number for IDs in train but not in test in train 20793\n",
      "train中后续不再出现的 0.798379665182\n",
      "test中未出现过的 0.277915291529\n"
     ]
    }
   ],
   "source": [
    "unique_in_train = trade_train['id'].unique().shape[0]\n",
    "unique_in_test =  trade_test['id'].unique().shape[0]\n",
    "unique_in_tt = trade_tt['id'].unique().shape[0]\n",
    "print unique_in_train,unique_in_test,unique_in_tt\n",
    "print  \"number for IDs in train but not in test in train\",(unique_in_tt - unique_in_test)\n",
    "print u\"train中后续不再出现的\",(unique_in_tt - unique_in_test)*1.0/(unique_in_train)\n",
    "print u\"test中未在train中出现过的占test的比例\",(unique_in_tt - unique_in_train)*1.0/(unique_in_test)"
   ]
  },
  {
   "cell_type": "markdown",
   "metadata": {},
   "source": [
    "## ID出现次数的分布 "
   ]
  },
  {
   "cell_type": "code",
   "execution_count": 26,
   "metadata": {
    "collapsed": true
   },
   "outputs": [],
   "source": [
    "trade_train_id_times = trade_train[['id']].groupby('id').size()\n",
    "trade_test_id_times = trade_test[['id']].groupby('id').size()"
   ]
  },
  {
   "cell_type": "code",
   "execution_count": 79,
   "metadata": {
    "collapsed": false
   },
   "outputs": [
    {
     "data": {
      "text/plain": [
       "(array([ 14189.,   4520.,   1325.,   1767.,    604.,    801.,    626.,\n",
       "           258.,    356.,    270.]),\n",
       " array([  1. ,   2.6,   4.2,   5.8,   7.4,   9. ,  10.6,  12.2,  13.8,\n",
       "         15.4,  17. ]),\n",
       " <a list of 10 Patch objects>)"
      ]
     },
     "execution_count": 79,
     "metadata": {},
     "output_type": "execute_result"
    },
    {
     "data": {
      "image/png": "[encoded data removed]",
      "text/plain": [
       "<matplotlib.figure.Figure at 0x24531be0>"
      ]
     },
     "metadata": {},
     "output_type": "display_data"
    }
   ],
   "source": [
    "#login_id_times = login_tt[['id']].groupby('id').size()\n",
    "qt_trade_train = trade_train_id_times.quantile(.95)\n",
    "plt.hist(trade_train_id_times[trade_train_id_times< qt_trade_train])"
   ]
  },
  {
   "cell_type": "code",
   "execution_count": 80,
   "metadata": {
    "collapsed": false
   },
   "outputs": [
    {
     "data": {
      "text/plain": [
       "(array([ 3712.,     0.,  1529.,     0.,   756.,     0.,   420.,     0.,\n",
       "          277.,   150.]),\n",
       " array([ 1. ,  1.5,  2. ,  2.5,  3. ,  3.5,  4. ,  4.5,  5. ,  5.5,  6. ]),\n",
       " <a list of 10 Patch objects>)"
      ]
     },
     "execution_count": 80,
     "metadata": {},
     "output_type": "execute_result"
    },
    {
     "data": {
      "image/png": "[encoded data removed]",
      "text/plain": [
       "<matplotlib.figure.Figure at 0x24910860>"
      ]
     },
     "metadata": {},
     "output_type": "display_data"
    }
   ],
   "source": [
    "qt = trade_test_id_times.quantile(.95)\n",
    "plt.hist(trade_test_id_times[trade_test_id_times< qt])"
   ]
  },
  {
   "cell_type": "code",
   "execution_count": 40,
   "metadata": {
    "collapsed": false
   },
   "outputs": [
    {
     "name": "stdout",
     "output_type": "stream",
     "text": [
      "in train count    26044.000000\n",
      "mean         5.095953\n",
      "std         13.336597\n",
      "min          1.000000\n",
      "25%          1.000000\n",
      "50%          2.000000\n",
      "75%          5.000000\n",
      "max       1095.000000\n",
      "dtype: float64\n",
      "in test count    7272.000000\n",
      "mean        2.458058\n",
      "std         3.288352\n",
      "min         1.000000\n",
      "25%         1.000000\n",
      "50%         1.000000\n",
      "75%         3.000000\n",
      "max       125.000000\n",
      "dtype: float64\n"
     ]
    }
   ],
   "source": [
    "print \"in train\",trade_train_id_times.describe()\n",
    "print \"in test\",trade_test_id_times.describe()"
   ]
  },
  {
   "cell_type": "code",
   "execution_count": 176,
   "metadata": {
    "collapsed": false
   },
   "outputs": [
    {
     "data": {
      "text/plain": [
       "<Container object of 28065 artists>"
      ]
     },
     "execution_count": 176,
     "metadata": {},
     "output_type": "execute_result"
    },
    {
     "data": {
      "image/png": "[encoded data removed]",
      "text/plain": [
       "<matplotlib.figure.Figure at 0x2b8cb668>"
      ]
     },
     "metadata": {},
     "output_type": "display_data"
    }
   ],
   "source": [
    "trade_id_times = trade_tt[['id']].groupby('id').size()\n",
    "x = trade_id_times.sort_values(ascending = False).cumsum()\n",
    "plt.bar(range(len(x)),x)"
   ]
  },
  {
   "cell_type": "code",
   "execution_count": 63,
   "metadata": {
    "collapsed": true
   },
   "outputs": [],
   "source": [
    "trade_id_times = trade_tt[['id']].groupby('id').size()"
   ]
  },
  {
   "cell_type": "code",
   "execution_count": 183,
   "metadata": {
    "collapsed": false
   },
   "outputs": [
    {
     "data": {
      "text/plain": [
       "4"
      ]
     },
     "execution_count": 183,
     "metadata": {},
     "output_type": "execute_result"
    }
   ],
   "source": [
    "t = trade_test_id_times.sort_values(ascending = False)\n",
    "t.iloc[10000]"
   ]
  },
  {
   "cell_type": "markdown",
   "metadata": {},
   "source": [
    "## 异常值中同一ID的次数分布"
   ]
  },
  {
   "cell_type": "code",
   "execution_count": 62,
   "metadata": {
    "collapsed": false
   },
   "outputs": [
    {
     "data": {
      "text/plain": [
       "(array([ 969.,   81.,   25.,    8.,    2.,    0.,    0.,    0.,    0.,    1.]),\n",
       " array([  1. ,   7.2,  13.4,  19.6,  25.8,  32. ,  38.2,  44.4,  50.6,\n",
       "         56.8,  63. ]),\n",
       " <a list of 10 Patch objects>)"
      ]
     },
     "execution_count": 62,
     "metadata": {},
     "output_type": "execute_result"
    }
   ],
   "source": [
    "risk_id_count =trade_train[trade_train['is_risk']==1].groupby('id').size()\n",
    "plt.hist(risk_id_count)"
   ]
  },
  {
   "cell_type": "code",
   "execution_count": 169,
   "metadata": {
    "collapsed": false
   },
   "outputs": [
    {
     "data": {
      "text/plain": [
       "<Container object of 1086 artists>"
      ]
     },
     "execution_count": 169,
     "metadata": {},
     "output_type": "execute_result"
    },
    {
     "data": {
      "image/png": "[encoded data removed]",
      "text/plain": [
       "<matplotlib.figure.Figure at 0x33ea4160>"
      ]
     },
     "metadata": {},
     "output_type": "display_data"
    }
   ],
   "source": [
    "#显示从大到小的cumsum，看是否存在明显的8020\n",
    "x = risk_id_count.sort_values(ascending = False).cumsum()\n",
    "plt.bar(range(len(x)),x)"
   ]
  },
  {
   "cell_type": "code",
   "execution_count": 174,
   "metadata": {
    "collapsed": false
   },
   "outputs": [
    {
     "data": {
      "text/plain": [
       "5"
      ]
     },
     "execution_count": 174,
     "metadata": {},
     "output_type": "execute_result"
    }
   ],
   "source": [
    "risk_id_count.sort_values(ascending = False).iloc[200]"
   ]
  },
  {
   "cell_type": "markdown",
   "metadata": {},
   "source": [
    "## ID异常比例情况"
   ]
  },
  {
   "cell_type": "markdown",
   "metadata": {},
   "source": [
    "使用此前的trade_id_times，risk_id_count"
   ]
  },
  {
   "cell_type": "code",
   "execution_count": 73,
   "metadata": {
    "collapsed": false
   },
   "outputs": [],
   "source": [
    "risk_id_count = risk_id_count.rename('risk_count')"
   ]
  },
  {
   "cell_type": "code",
   "execution_count": 75,
   "metadata": {
    "collapsed": false
   },
   "outputs": [],
   "source": [
    "trade_id_df = trade_id_times.reset_index().rename(columns = {0:'trade_counts'}).join(risk_id_count,on = 'id').fillna(0.0)"
   ]
  },
  {
   "cell_type": "code",
   "execution_count": 77,
   "metadata": {
    "collapsed": false
   },
   "outputs": [],
   "source": [
    "trade_id_df['risk_portion'] = trade_id_df['risk_count']/ trade_id_df['trade_counts']"
   ]
  },
  {
   "cell_type": "code",
   "execution_count": 79,
   "metadata": {
    "collapsed": true
   },
   "outputs": [],
   "source": [
    "mult_trade_id_df = trade_id_df[trade_id_df['trade_counts']>1]"
   ]
  },
  {
   "cell_type": "code",
   "execution_count": 80,
   "metadata": {
    "collapsed": false
   },
   "outputs": [
    {
     "name": "stdout",
     "output_type": "stream",
     "text": [
      "trading id numbers, mult-times trading id numbers, trading_times, mult-time-trade id trading times \n",
      "28065 17632 150594 140161\n"
     ]
    }
   ],
   "source": [
    "print \"trading id numbers, mult-times trading id numbers, trading_times, mult-time-trade id trading times \"\n",
    "print trade_id_df.shape[0],mult_trade_id_df.shape[0],trade_id_df['trade_counts'].sum(),mult_trade_id_df['trade_counts'].sum()"
   ]
  },
  {
   "cell_type": "markdown",
   "metadata": {},
   "source": [
    "显然多次交易的账号占交易次数的大多数"
   ]
  },
  {
   "cell_type": "code",
   "execution_count": 84,
   "metadata": {
    "collapsed": false,
    "scrolled": true
   },
   "outputs": [],
   "source": [
    "#top n\n",
    "top_risk = trade_id_df[trade_id_df['trade_counts'] > 1].sort_values(by = ['risk_portion','risk_count'],ascending = False)"
   ]
  },
  {
   "cell_type": "code",
   "execution_count": 85,
   "metadata": {
    "collapsed": true
   },
   "outputs": [],
   "source": [
    "top_risk = top_risk[top_risk['risk_portion']>0]"
   ]
  },
  {
   "cell_type": "code",
   "execution_count": 90,
   "metadata": {
    "collapsed": false,
    "scrolled": true
   },
   "outputs": [
    {
     "data": {
      "text/plain": [
       "1727     1.000000\n",
       "23229    1.000000\n",
       "19040    1.000000\n",
       "27188    1.000000\n",
       "2286     1.000000\n",
       "28007    1.000000\n",
       "25996    1.000000\n",
       "1640     1.000000\n",
       "2409     1.000000\n",
       "7562     1.000000\n",
       "8911     1.000000\n",
       "14652    1.000000\n",
       "15498    1.000000\n",
       "15740    1.000000\n",
       "20848    1.000000\n",
       "23441    1.000000\n",
       "27753    1.000000\n",
       "5282     1.000000\n",
       "8801     1.000000\n",
       "9565     1.000000\n",
       "590      1.000000\n",
       "20397    1.000000\n",
       "25694    1.000000\n",
       "24       1.000000\n",
       "527      1.000000\n",
       "2830     1.000000\n",
       "7992     1.000000\n",
       "8323     1.000000\n",
       "13068    1.000000\n",
       "19764    1.000000\n",
       "           ...   \n",
       "23210    0.083333\n",
       "7406     0.076923\n",
       "24904    0.076923\n",
       "4327     0.071429\n",
       "16053    0.071429\n",
       "21043    0.071429\n",
       "11031    0.066667\n",
       "3918     0.066667\n",
       "10456    0.066667\n",
       "16254    0.066667\n",
       "14467    0.064516\n",
       "9038     0.062500\n",
       "7407     0.061538\n",
       "25399    0.058824\n",
       "27611    0.055556\n",
       "27776    0.050000\n",
       "16406    0.041667\n",
       "7073     0.040000\n",
       "25463    0.040000\n",
       "18481    0.038462\n",
       "19561    0.038462\n",
       "9263     0.037037\n",
       "17963    0.037037\n",
       "12511    0.035714\n",
       "14889    0.034483\n",
       "26947    0.033333\n",
       "7802     0.030303\n",
       "7748     0.023256\n",
       "635      0.021277\n",
       "26639    0.015152\n",
       "Name: risk_portion, dtype: float64"
      ]
     },
     "execution_count": 90,
     "metadata": {},
     "output_type": "execute_result"
    }
   ],
   "source": [
    "top_risk['risk_portion']"
   ]
  },
  {
   "cell_type": "code",
   "execution_count": 95,
   "metadata": {
    "collapsed": false
   },
   "outputs": [
    {
     "data": {
      "image/png": "[encoded data removed]",
      "text/plain": [
       "<matplotlib.figure.Figure at 0x20f6c4a8>"
      ]
     },
     "metadata": {},
     "output_type": "display_data"
    }
   ],
   "source": [
    "%matplotlib inline\n",
    "p = plt.hist(np.array(top_risk['risk_portion']))\n",
    "#plt.show()"
   ]
  },
  {
   "cell_type": "code",
   "execution_count": 103,
   "metadata": {
    "collapsed": false
   },
   "outputs": [
    {
     "data": {
      "text/plain": [
       "array([  50.,   54.,   45.,   74.,   99.,   23.,   45.,   39.,   37.,  352.])"
      ]
     },
     "execution_count": 103,
     "metadata": {},
     "output_type": "execute_result"
    }
   ],
   "source": [
    "p[0]"
   ]
  },
  {
   "cell_type": "code",
   "execution_count": 104,
   "metadata": {
    "collapsed": false
   },
   "outputs": [
    {
     "data": {
      "text/plain": [
       "array([ 0.01515152,  0.11363636,  0.21212121,  0.31060606,  0.40909091,\n",
       "        0.50757576,  0.60606061,  0.70454545,  0.8030303 ,  0.90151515,  1.        ])"
      ]
     },
     "execution_count": 104,
     "metadata": {},
     "output_type": "execute_result"
    }
   ],
   "source": [
    "p[1]"
   ]
  },
  {
   "cell_type": "code",
   "execution_count": 108,
   "metadata": {
    "collapsed": false
   },
   "outputs": [],
   "source": [
    "q=[]\n",
    "for i in range(10):\n",
    "    q.append(p[1][i]+p[1][i+1])\n",
    "x = np.array(q).dot(p[0])/2/(p[0].sum())"
   ]
  },
  {
   "cell_type": "markdown",
   "metadata": {},
   "source": [
    "## Time重叠情况"
   ]
  },
  {
   "cell_type": "code",
   "execution_count": 4,
   "metadata": {
    "collapsed": false,
    "scrolled": true
   },
   "outputs": [],
   "source": [
    "trade_tt['time'] = trade_tt['time'].apply(lambda x : x[0:19]).apply(lambda x : datetime.datetime.strptime(x,'%Y-%m-%d %H:%M:%S'))"
   ]
  },
  {
   "cell_type": "code",
   "execution_count": 42,
   "metadata": {
    "collapsed": false
   },
   "outputs": [
    {
     "name": "stdout",
     "output_type": "stream",
     "text": [
      "('2015-01-01 00:00:40.0', '2015-06-30 23:56:39.0')\n",
      "('2015-07-01 00:04:41.0', '2015-07-31 23:58:30.0')\n"
     ]
    }
   ],
   "source": [
    "print(trade_train['time'].min(),trade_train['time'].max())\n",
    "print(trade_test['time'].min(),trade_test['time'].max())"
   ]
  },
  {
   "cell_type": "markdown",
   "metadata": {},
   "source": [
    "## Time按不同时间范围分布"
   ]
  },
  {
   "cell_type": "code",
   "execution_count": 103,
   "metadata": {
    "collapsed": false
   },
   "outputs": [],
   "source": [
    "trade_tt['time_day'] = trade_tt['time'].apply(lambda x : x.day)"
   ]
  },
  {
   "cell_type": "code",
   "execution_count": 114,
   "metadata": {
    "collapsed": true
   },
   "outputs": [],
   "source": [
    "trade_tt['time_month'] = trade_tt['time'].apply(lambda x : x.month)"
   ]
  },
  {
   "cell_type": "code",
   "execution_count": 107,
   "metadata": {
    "collapsed": false
   },
   "outputs": [
    {
     "data": {
      "text/plain": [
       "<Container object of 31 artists>"
      ]
     },
     "execution_count": 107,
     "metadata": {},
     "output_type": "execute_result"
    },
    {
     "data": {
      "image/png": "[encoded data removed]",
      "text/plain": [
       "<matplotlib.figure.Figure at 0x209ce128>"
      ]
     },
     "metadata": {},
     "output_type": "display_data"
    }
   ],
   "source": [
    "plt.bar(range(1,32,1),trade_tt.groupby('time_day').size())"
   ]
  },
  {
   "cell_type": "code",
   "execution_count": 118,
   "metadata": {
    "collapsed": false
   },
   "outputs": [
    {
     "data": {
      "text/plain": [
       "<Container object of 31 artists>"
      ]
     },
     "execution_count": 118,
     "metadata": {},
     "output_type": "execute_result"
    },
    {
     "data": {
      "image/png": "[encoded data removed]",
      "text/plain": [
       "<matplotlib.figure.Figure at 0x20ffb1d0>"
      ]
     },
     "metadata": {},
     "output_type": "display_data"
    }
   ],
   "source": [
    "#查看test在7月的分布\n",
    "plt.bar(range(1,32,1),trade_tt[trade_tt['from']=='test'].groupby('time_day').size())"
   ]
  },
  {
   "cell_type": "code",
   "execution_count": 120,
   "metadata": {
    "collapsed": false,
    "scrolled": true
   },
   "outputs": [
    {
     "data": {
      "text/html": [
       "<div>\n",
       "<table border=\"1\" class=\"dataframe\">\n",
       "  <thead>\n",
       "    <tr style=\"text-align: right;\">\n",
       "      <th></th>\n",
       "      <th>time_day</th>\n",
       "      <th>time_month</th>\n",
       "      <th>0</th>\n",
       "    </tr>\n",
       "  </thead>\n",
       "  <tbody>\n",
       "    <tr>\n",
       "      <th>5</th>\n",
       "      <td>1</td>\n",
       "      <td>6</td>\n",
       "      <td>1213</td>\n",
       "    </tr>\n",
       "    <tr>\n",
       "      <th>12</th>\n",
       "      <td>2</td>\n",
       "      <td>6</td>\n",
       "      <td>895</td>\n",
       "    </tr>\n",
       "    <tr>\n",
       "      <th>19</th>\n",
       "      <td>3</td>\n",
       "      <td>6</td>\n",
       "      <td>871</td>\n",
       "    </tr>\n",
       "    <tr>\n",
       "      <th>26</th>\n",
       "      <td>4</td>\n",
       "      <td>6</td>\n",
       "      <td>664</td>\n",
       "    </tr>\n",
       "    <tr>\n",
       "      <th>33</th>\n",
       "      <td>5</td>\n",
       "      <td>6</td>\n",
       "      <td>812</td>\n",
       "    </tr>\n",
       "    <tr>\n",
       "      <th>40</th>\n",
       "      <td>6</td>\n",
       "      <td>6</td>\n",
       "      <td>1032</td>\n",
       "    </tr>\n",
       "    <tr>\n",
       "      <th>47</th>\n",
       "      <td>7</td>\n",
       "      <td>6</td>\n",
       "      <td>963</td>\n",
       "    </tr>\n",
       "    <tr>\n",
       "      <th>54</th>\n",
       "      <td>8</td>\n",
       "      <td>6</td>\n",
       "      <td>898</td>\n",
       "    </tr>\n",
       "    <tr>\n",
       "      <th>61</th>\n",
       "      <td>9</td>\n",
       "      <td>6</td>\n",
       "      <td>1275</td>\n",
       "    </tr>\n",
       "    <tr>\n",
       "      <th>68</th>\n",
       "      <td>10</td>\n",
       "      <td>6</td>\n",
       "      <td>883</td>\n",
       "    </tr>\n",
       "    <tr>\n",
       "      <th>75</th>\n",
       "      <td>11</td>\n",
       "      <td>6</td>\n",
       "      <td>935</td>\n",
       "    </tr>\n",
       "    <tr>\n",
       "      <th>82</th>\n",
       "      <td>12</td>\n",
       "      <td>6</td>\n",
       "      <td>1047</td>\n",
       "    </tr>\n",
       "    <tr>\n",
       "      <th>89</th>\n",
       "      <td>13</td>\n",
       "      <td>6</td>\n",
       "      <td>1050</td>\n",
       "    </tr>\n",
       "    <tr>\n",
       "      <th>96</th>\n",
       "      <td>14</td>\n",
       "      <td>6</td>\n",
       "      <td>1180</td>\n",
       "    </tr>\n",
       "    <tr>\n",
       "      <th>103</th>\n",
       "      <td>15</td>\n",
       "      <td>6</td>\n",
       "      <td>888</td>\n",
       "    </tr>\n",
       "    <tr>\n",
       "      <th>110</th>\n",
       "      <td>16</td>\n",
       "      <td>6</td>\n",
       "      <td>1015</td>\n",
       "    </tr>\n",
       "    <tr>\n",
       "      <th>117</th>\n",
       "      <td>17</td>\n",
       "      <td>6</td>\n",
       "      <td>1330</td>\n",
       "    </tr>\n",
       "    <tr>\n",
       "      <th>124</th>\n",
       "      <td>18</td>\n",
       "      <td>6</td>\n",
       "      <td>3556</td>\n",
       "    </tr>\n",
       "    <tr>\n",
       "      <th>131</th>\n",
       "      <td>19</td>\n",
       "      <td>6</td>\n",
       "      <td>971</td>\n",
       "    </tr>\n",
       "    <tr>\n",
       "      <th>138</th>\n",
       "      <td>20</td>\n",
       "      <td>6</td>\n",
       "      <td>964</td>\n",
       "    </tr>\n",
       "    <tr>\n",
       "      <th>145</th>\n",
       "      <td>21</td>\n",
       "      <td>6</td>\n",
       "      <td>568</td>\n",
       "    </tr>\n",
       "    <tr>\n",
       "      <th>152</th>\n",
       "      <td>22</td>\n",
       "      <td>6</td>\n",
       "      <td>595</td>\n",
       "    </tr>\n",
       "    <tr>\n",
       "      <th>159</th>\n",
       "      <td>23</td>\n",
       "      <td>6</td>\n",
       "      <td>577</td>\n",
       "    </tr>\n",
       "    <tr>\n",
       "      <th>166</th>\n",
       "      <td>24</td>\n",
       "      <td>6</td>\n",
       "      <td>469</td>\n",
       "    </tr>\n",
       "    <tr>\n",
       "      <th>173</th>\n",
       "      <td>25</td>\n",
       "      <td>6</td>\n",
       "      <td>439</td>\n",
       "    </tr>\n",
       "    <tr>\n",
       "      <th>180</th>\n",
       "      <td>26</td>\n",
       "      <td>6</td>\n",
       "      <td>602</td>\n",
       "    </tr>\n",
       "    <tr>\n",
       "      <th>187</th>\n",
       "      <td>27</td>\n",
       "      <td>6</td>\n",
       "      <td>662</td>\n",
       "    </tr>\n",
       "    <tr>\n",
       "      <th>194</th>\n",
       "      <td>28</td>\n",
       "      <td>6</td>\n",
       "      <td>617</td>\n",
       "    </tr>\n",
       "    <tr>\n",
       "      <th>200</th>\n",
       "      <td>29</td>\n",
       "      <td>6</td>\n",
       "      <td>550</td>\n",
       "    </tr>\n",
       "    <tr>\n",
       "      <th>206</th>\n",
       "      <td>30</td>\n",
       "      <td>6</td>\n",
       "      <td>601</td>\n",
       "    </tr>\n",
       "  </tbody>\n",
       "</table>\n",
       "</div>"
      ],
      "text/plain": [
       "     time_day  time_month     0\n",
       "5           1           6  1213\n",
       "12          2           6   895\n",
       "19          3           6   871\n",
       "26          4           6   664\n",
       "33          5           6   812\n",
       "40          6           6  1032\n",
       "47          7           6   963\n",
       "54          8           6   898\n",
       "61          9           6  1275\n",
       "68         10           6   883\n",
       "75         11           6   935\n",
       "82         12           6  1047\n",
       "89         13           6  1050\n",
       "96         14           6  1180\n",
       "103        15           6   888\n",
       "110        16           6  1015\n",
       "117        17           6  1330\n",
       "124        18           6  3556\n",
       "131        19           6   971\n",
       "138        20           6   964\n",
       "145        21           6   568\n",
       "152        22           6   595\n",
       "159        23           6   577\n",
       "166        24           6   469\n",
       "173        25           6   439\n",
       "180        26           6   602\n",
       "187        27           6   662\n",
       "194        28           6   617\n",
       "200        29           6   550\n",
       "206        30           6   601"
      ]
     },
     "execution_count": 120,
     "metadata": {},
     "output_type": "execute_result"
    }
   ],
   "source": [
    "#查看6月饼确认是否6.18的影响\n",
    "temp = trade_tt.groupby(['time_day','time_month']).size().reset_index()\n",
    "temp[temp['time_month'] == 6]"
   ]
  },
  {
   "cell_type": "code",
   "execution_count": 121,
   "metadata": {
    "collapsed": false
   },
   "outputs": [
    {
     "data": {
      "text/plain": [
       "<Container object of 24 artists>"
      ]
     },
     "execution_count": 121,
     "metadata": {},
     "output_type": "execute_result"
    },
    {
     "data": {
      "image/png": "[encoded data removed]",
      "text/plain": [
       "<matplotlib.figure.Figure at 0x2120b470>"
      ]
     },
     "metadata": {},
     "output_type": "display_data"
    }
   ],
   "source": [
    "trade_tt['time_hour'] = trade_tt['time'].apply(lambda x : x.hour)\n",
    "plt.bar(range(24),trade_tt.groupby('time_hour').size())"
   ]
  },
  {
   "cell_type": "code",
   "execution_count": 148,
   "metadata": {
    "collapsed": false
   },
   "outputs": [
    {
     "data": {
      "text/plain": [
       "<Container object of 7 artists>"
      ]
     },
     "execution_count": 148,
     "metadata": {},
     "output_type": "execute_result"
    },
    {
     "data": {
      "image/png": "[encoded data removed]",
      "text/plain": [
       "<matplotlib.figure.Figure at 0x2b8f04a8>"
      ]
     },
     "metadata": {},
     "output_type": "display_data"
    }
   ],
   "source": [
    "trade_tt['time_weekday'] = trade_tt['time'].apply(lambda x : x.weekday())\n",
    "plt.bar(range(1,8,1),trade_tt.groupby('time_weekday').size())"
   ]
  },
  {
   "cell_type": "code",
   "execution_count": 5,
   "metadata": {
    "collapsed": false
   },
   "outputs": [
    {
     "data": {
      "text/plain": [
       "<Container object of 7 artists>"
      ]
     },
     "execution_count": 5,
     "metadata": {},
     "output_type": "execute_result"
    },
    {
     "data": {
      "image/png": "[encoded data removed]",
      "text/plain": [
       "<matplotlib.figure.Figure at 0x156a86a0>"
      ]
     },
     "metadata": {},
     "output_type": "display_data"
    }
   ],
   "source": [
    "%matplotlib inline\n",
    "trade_tt['month'] = trade_tt['time'].apply(lambda x : x.month)\n",
    "plt.bar(range(1,8,1),trade_tt.groupby('month').size())"
   ]
  },
  {
   "cell_type": "markdown",
   "metadata": {},
   "source": [
    "### 不同时间的label分布"
   ]
  },
  {
   "cell_type": "code",
   "execution_count": 8,
   "metadata": {
    "collapsed": true
   },
   "outputs": [],
   "source": [
    "trade_train['time'] = trade_train['time'].apply(lambda x : x[0:19]).apply(lambda x : datetime.datetime.strptime(x,'%Y-%m-%d %H:%M:%S'))"
   ]
  },
  {
   "cell_type": "code",
   "execution_count": 9,
   "metadata": {
    "collapsed": true
   },
   "outputs": [],
   "source": [
    "trade_train['month'] = trade_train['time'].apply(lambda x : x.month)"
   ]
  },
  {
   "cell_type": "code",
   "execution_count": 11,
   "metadata": {
    "collapsed": true
   },
   "outputs": [],
   "source": [
    "trade_train['day'] = trade_train['time'].apply(lambda x : x.day)"
   ]
  },
  {
   "cell_type": "code",
   "execution_count": 10,
   "metadata": {
    "collapsed": false
   },
   "outputs": [
    {
     "data": {
      "image/png": "[encoded data removed]",
      "text/plain": [
       "<matplotlib.figure.Figure at 0xb54f5f8>"
      ]
     },
     "metadata": {},
     "output_type": "display_data"
    }
   ],
   "source": [
    "%matplotlib inline\n",
    "g = sns.factorplot(\"is_risk\", col=\"month\", col_wrap=4,\n",
    "              data=trade_train,\n",
    "                kind=\"count\", size=2.5, aspect=.8)"
   ]
  },
  {
   "cell_type": "code",
   "execution_count": 12,
   "metadata": {
    "collapsed": false
   },
   "outputs": [
    {
     "data": {
      "image/png": "[encoded data removed]",
      "text/plain": [
       "<matplotlib.figure.Figure at 0x13d42320>"
      ]
     },
     "metadata": {},
     "output_type": "display_data"
    }
   ],
   "source": [
    "%matplotlib inline\n",
    "g = sns.factorplot(\"is_risk\", col=\"month\", col_wrap=4,\n",
    "              data=trade_train[trade_train['day']!=18],\n",
    "                kind=\"count\", size=2.5, aspect=.8)"
   ]
  },
  {
   "cell_type": "code",
   "execution_count": 22,
   "metadata": {
    "collapsed": false
   },
   "outputs": [],
   "source": [
    "temp = trade_train.groupby(['month','is_risk']).size().unstack()"
   ]
  },
  {
   "cell_type": "code",
   "execution_count": 27,
   "metadata": {
    "collapsed": false
   },
   "outputs": [],
   "source": [
    "temp['rate'] = temp[0]/temp[1]"
   ]
  },
  {
   "cell_type": "code",
   "execution_count": 24,
   "metadata": {
    "collapsed": false
   },
   "outputs": [
    {
     "data": {
      "text/plain": [
       "month\n",
       "1    39.496599\n",
       "2    45.591102\n",
       "3    24.668942\n",
       "4    22.308540\n",
       "5    28.389650\n",
       "6    86.607477\n",
       "Name: rate, dtype: float64"
      ]
     },
     "execution_count": 24,
     "metadata": {},
     "output_type": "execute_result"
    }
   ],
   "source": [
    "temp['rate']"
   ]
  },
  {
   "cell_type": "code",
   "execution_count": 25,
   "metadata": {
    "collapsed": true
   },
   "outputs": [],
   "source": [
    "temp = trade_train[trade_train['day']!=18].groupby(['month','is_risk']).size().unstack()\n",
    "temp['rate'] = temp[0]/temp[1]"
   ]
  },
  {
   "cell_type": "code",
   "execution_count": 28,
   "metadata": {
    "collapsed": false
   },
   "outputs": [
    {
     "data": {
      "text/plain": [
       "month\n",
       "1    38.793345\n",
       "2    46.188889\n",
       "3    24.994090\n",
       "4    21.822873\n",
       "5    27.955039\n",
       "6    77.485623\n",
       "Name: rate, dtype: float64"
      ]
     },
     "execution_count": 28,
     "metadata": {},
     "output_type": "execute_result"
    }
   ],
   "source": [
    "temp['rate']"
   ]
  },
  {
   "cell_type": "code",
   "execution_count": 36,
   "metadata": {
    "collapsed": false
   },
   "outputs": [
    {
     "data": {
      "text/plain": [
       "<Container object of 30 artists>"
      ]
     },
     "execution_count": 36,
     "metadata": {},
     "output_type": "execute_result"
    },
    {
     "data": {
      "image/png": "[encoded data removed]",
      "text/plain": [
       "<matplotlib.figure.Figure at 0x14867588>"
      ]
     },
     "metadata": {},
     "output_type": "display_data"
    }
   ],
   "source": [
    "temp = trade_train[trade_train['month']==6].groupby(['day','is_risk']).size().unstack()\n",
    "temp['rate'] = temp[1]/temp[0]\n",
    "plt.bar(range(1,len(temp['rate'])+1,1),temp['rate'])"
   ]
  },
  {
   "cell_type": "code",
   "execution_count": 37,
   "metadata": {
    "collapsed": false
   },
   "outputs": [
    {
     "data": {
      "text/plain": [
       "<Container object of 31 artists>"
      ]
     },
     "execution_count": 37,
     "metadata": {},
     "output_type": "execute_result"
    },
    {
     "data": {
      "image/png": "[encoded data removed]",
      "text/plain": [
       "<matplotlib.figure.Figure at 0xf93eb70>"
      ]
     },
     "metadata": {},
     "output_type": "display_data"
    }
   ],
   "source": [
    "temp = trade_train[trade_train['month']==5].groupby(['day','is_risk']).size().unstack()\n",
    "temp['rate'] = temp[1]/temp[0]\n",
    "plt.bar(range(1,len(temp['rate'])+1,1),temp['rate'])"
   ]
  },
  {
   "cell_type": "code",
   "execution_count": 38,
   "metadata": {
    "collapsed": false
   },
   "outputs": [
    {
     "data": {
      "text/plain": [
       "<Container object of 30 artists>"
      ]
     },
     "execution_count": 38,
     "metadata": {},
     "output_type": "execute_result"
    },
    {
     "data": {
      "image/png": "[encoded data removed]",
      "text/plain": [
       "<matplotlib.figure.Figure at 0x1078dc18>"
      ]
     },
     "metadata": {},
     "output_type": "display_data"
    }
   ],
   "source": [
    "temp = trade_train[trade_train['month']==4].groupby(['day','is_risk']).size().unstack()\n",
    "temp['rate'] = temp[1]/temp[0]\n",
    "plt.bar(range(1,len(temp['rate'])+1,1),temp['rate'])"
   ]
  },
  {
   "cell_type": "code",
   "execution_count": 39,
   "metadata": {
    "collapsed": false
   },
   "outputs": [
    {
     "data": {
      "text/plain": [
       "<Container object of 31 artists>"
      ]
     },
     "execution_count": 39,
     "metadata": {},
     "output_type": "execute_result"
    },
    {
     "data": {
      "image/png": "[encoded data removed]",
      "text/plain": [
       "<matplotlib.figure.Figure at 0x12621400>"
      ]
     },
     "metadata": {},
     "output_type": "display_data"
    }
   ],
   "source": [
    "temp = trade_train[trade_train['month']==3].groupby(['day','is_risk']).size().unstack()\n",
    "temp['rate'] = temp[1]/temp[0]\n",
    "plt.bar(range(1,len(temp['rate'])+1,1),temp['rate'])"
   ]
  },
  {
   "cell_type": "code",
   "execution_count": 40,
   "metadata": {
    "collapsed": false
   },
   "outputs": [
    {
     "data": {
      "text/plain": [
       "<Container object of 28 artists>"
      ]
     },
     "execution_count": 40,
     "metadata": {},
     "output_type": "execute_result"
    },
    {
     "data": {
      "image/png": "[encoded data removed]",
      "text/plain": [
       "<matplotlib.figure.Figure at 0x126214e0>"
      ]
     },
     "metadata": {},
     "output_type": "display_data"
    }
   ],
   "source": [
    "temp = trade_train[trade_train['month']==2].groupby(['day','is_risk']).size().unstack()\n",
    "temp['rate'] = temp[1]/temp[0]\n",
    "plt.bar(range(1,len(temp['rate'])+1,1),temp['rate'])"
   ]
  },
  {
   "cell_type": "code",
   "execution_count": 41,
   "metadata": {
    "collapsed": false
   },
   "outputs": [
    {
     "data": {
      "text/plain": [
       "<Container object of 31 artists>"
      ]
     },
     "execution_count": 41,
     "metadata": {},
     "output_type": "execute_result"
    },
    {
     "data": {
      "image/png": "[encoded data removed]",
      "text/plain": [
       "<matplotlib.figure.Figure at 0x128bbfd0>"
      ]
     },
     "metadata": {},
     "output_type": "display_data"
    }
   ],
   "source": [
    "temp = trade_train[trade_train['month']==1].groupby(['day','is_risk']).size().unstack()\n",
    "temp['rate'] = temp[1]/temp[0]\n",
    "plt.bar(range(1,len(temp['rate'])+1,1),temp['rate'])"
   ]
  },
  {
   "cell_type": "code",
   "execution_count": 42,
   "metadata": {
    "collapsed": true
   },
   "outputs": [],
   "source": [
    "trade_train['weekday'] = trade_train['time'].apply(lambda x : x.weekday())"
   ]
  },
  {
   "cell_type": "code",
   "execution_count": 43,
   "metadata": {
    "collapsed": false
   },
   "outputs": [
    {
     "data": {
      "image/png": "[encoded data removed]",
      "text/plain": [
       "<matplotlib.figure.Figure at 0x15878080>"
      ]
     },
     "metadata": {},
     "output_type": "display_data"
    }
   ],
   "source": [
    "%matplotlib inline\n",
    "g = sns.factorplot(\"is_risk\", col=\"weekday\", col_wrap=4,\n",
    "              data=trade_train,\n",
    "                kind=\"count\", size=2.5, aspect=.8)"
   ]
  },
  {
   "cell_type": "code",
   "execution_count": 44,
   "metadata": {
    "collapsed": false
   },
   "outputs": [
    {
     "data": {
      "text/plain": [
       "<Container object of 7 artists>"
      ]
     },
     "execution_count": 44,
     "metadata": {},
     "output_type": "execute_result"
    },
    {
     "data": {
      "image/png": "[encoded data removed]",
      "text/plain": [
       "<matplotlib.figure.Figure at 0x128c5d30>"
      ]
     },
     "metadata": {},
     "output_type": "display_data"
    }
   ],
   "source": [
    "temp = trade_train.groupby(['weekday','is_risk']).size().unstack()\n",
    "temp['rate'] = temp[1]/temp[0]\n",
    "plt.bar(range(1,len(temp['rate'])+1,1),temp['rate'])"
   ]
  },
  {
   "cell_type": "code",
   "execution_count": 45,
   "metadata": {
    "collapsed": false
   },
   "outputs": [
    {
     "data": {
      "text/plain": [
       "<Container object of 6 artists>"
      ]
     },
     "execution_count": 45,
     "metadata": {},
     "output_type": "execute_result"
    },
    {
     "data": {
      "image/png": "[encoded data removed]",
      "text/plain": [
       "<matplotlib.figure.Figure at 0x20141f28>"
      ]
     },
     "metadata": {},
     "output_type": "display_data"
    }
   ],
   "source": [
    "temp = trade_train.groupby(['month','is_risk']).size().unstack()\n",
    "temp['rate'] = temp[1]/temp[0]\n",
    "plt.bar(range(1,len(temp['rate'])+1,1),temp['rate'])"
   ]
  },
  {
   "cell_type": "markdown",
   "metadata": {},
   "source": [
    "## rowkey主键重复 "
   ]
  },
  {
   "cell_type": "code",
   "execution_count": 43,
   "metadata": {
    "collapsed": false
   },
   "outputs": [
    {
     "name": "stdout",
     "output_type": "stream",
     "text": [
      "(147979L,)\n",
      "(150594, 4)\n"
     ]
    }
   ],
   "source": [
    "print(trade_tt['rowkey'].unique().shape)\n",
    "print(trade_tt.shape)"
   ]
  },
  {
   "cell_type": "code",
   "execution_count": 44,
   "metadata": {
    "collapsed": false
   },
   "outputs": [
    {
     "name": "stdout",
     "output_type": "stream",
     "text": [
      "(132719L,)\n",
      "(132719L,)\n"
     ]
    }
   ],
   "source": [
    "print(trade_train['rowkey'].unique().shape)\n",
    "print(trade_train['rowkey'].shape)"
   ]
  },
  {
   "cell_type": "code",
   "execution_count": 45,
   "metadata": {
    "collapsed": false
   },
   "outputs": [
    {
     "name": "stdout",
     "output_type": "stream",
     "text": [
      "(17875L,)\n",
      "(17875L,)\n"
     ]
    }
   ],
   "source": [
    "print(trade_test['rowkey'].unique().shape)\n",
    "print(trade_test['rowkey'].shape)"
   ]
  },
  {
   "cell_type": "code",
   "execution_count": 46,
   "metadata": {
    "collapsed": true
   },
   "outputs": [],
   "source": [
    "trade_repeat_rowkey = trade_train.merge(trade_test,how = 'inner',on = 'rowkey',suffixes = ['_train','_test'])"
   ]
  },
  {
   "cell_type": "code",
   "execution_count": 47,
   "metadata": {
    "collapsed": false,
    "scrolled": true
   },
   "outputs": [
    {
     "data": {
      "text/html": [
       "<div>\n",
       "<table border=\"1\" class=\"dataframe\">\n",
       "  <thead>\n",
       "    <tr style=\"text-align: right;\">\n",
       "      <th></th>\n",
       "      <th>rowkey</th>\n",
       "      <th>time_train</th>\n",
       "      <th>id_train</th>\n",
       "      <th>is_risk</th>\n",
       "      <th>from_train</th>\n",
       "      <th>time_test</th>\n",
       "      <th>id_test</th>\n",
       "      <th>from_test</th>\n",
       "    </tr>\n",
       "  </thead>\n",
       "  <tbody>\n",
       "    <tr>\n",
       "      <th>0</th>\n",
       "      <td>343</td>\n",
       "      <td>2015-01-01 01:05:47.0</td>\n",
       "      <td>87482</td>\n",
       "      <td>0</td>\n",
       "      <td>train</td>\n",
       "      <td>2015-07-01 07:02:40.0</td>\n",
       "      <td>149605</td>\n",
       "      <td>test</td>\n",
       "    </tr>\n",
       "    <tr>\n",
       "      <th>1</th>\n",
       "      <td>700</td>\n",
       "      <td>2015-01-01 07:13:31.0</td>\n",
       "      <td>107099</td>\n",
       "      <td>0</td>\n",
       "      <td>train</td>\n",
       "      <td>2015-07-01 09:00:40.0</td>\n",
       "      <td>149778</td>\n",
       "      <td>test</td>\n",
       "    </tr>\n",
       "    <tr>\n",
       "      <th>2</th>\n",
       "      <td>758</td>\n",
       "      <td>2015-01-01 07:53:02.0</td>\n",
       "      <td>75533</td>\n",
       "      <td>0</td>\n",
       "      <td>train</td>\n",
       "      <td>2015-07-01 09:17:10.0</td>\n",
       "      <td>129565</td>\n",
       "      <td>test</td>\n",
       "    </tr>\n",
       "    <tr>\n",
       "      <th>3</th>\n",
       "      <td>806</td>\n",
       "      <td>2015-01-01 08:15:22.0</td>\n",
       "      <td>25407</td>\n",
       "      <td>0</td>\n",
       "      <td>train</td>\n",
       "      <td>2015-07-01 09:29:53.0</td>\n",
       "      <td>169889</td>\n",
       "      <td>test</td>\n",
       "    </tr>\n",
       "    <tr>\n",
       "      <th>4</th>\n",
       "      <td>812</td>\n",
       "      <td>2015-01-01 08:16:13.0</td>\n",
       "      <td>25407</td>\n",
       "      <td>0</td>\n",
       "      <td>train</td>\n",
       "      <td>2015-07-01 09:31:26.0</td>\n",
       "      <td>10398</td>\n",
       "      <td>test</td>\n",
       "    </tr>\n",
       "    <tr>\n",
       "      <th>5</th>\n",
       "      <td>819</td>\n",
       "      <td>2015-01-01 08:19:15.0</td>\n",
       "      <td>34524</td>\n",
       "      <td>0</td>\n",
       "      <td>train</td>\n",
       "      <td>2015-07-01 09:32:39.0</td>\n",
       "      <td>112515</td>\n",
       "      <td>test</td>\n",
       "    </tr>\n",
       "    <tr>\n",
       "      <th>6</th>\n",
       "      <td>992</td>\n",
       "      <td>2015-01-01 09:07:47.0</td>\n",
       "      <td>8914</td>\n",
       "      <td>0</td>\n",
       "      <td>train</td>\n",
       "      <td>2015-07-01 10:00:27.0</td>\n",
       "      <td>97686</td>\n",
       "      <td>test</td>\n",
       "    </tr>\n",
       "    <tr>\n",
       "      <th>7</th>\n",
       "      <td>1110</td>\n",
       "      <td>2015-01-01 09:30:16.0</td>\n",
       "      <td>42060</td>\n",
       "      <td>0</td>\n",
       "      <td>train</td>\n",
       "      <td>2015-07-01 10:07:34.0</td>\n",
       "      <td>93524</td>\n",
       "      <td>test</td>\n",
       "    </tr>\n",
       "    <tr>\n",
       "      <th>8</th>\n",
       "      <td>1349</td>\n",
       "      <td>2015-01-01 10:13:15.0</td>\n",
       "      <td>57105</td>\n",
       "      <td>0</td>\n",
       "      <td>train</td>\n",
       "      <td>2015-07-01 10:41:12.0</td>\n",
       "      <td>83717</td>\n",
       "      <td>test</td>\n",
       "    </tr>\n",
       "    <tr>\n",
       "      <th>9</th>\n",
       "      <td>1651</td>\n",
       "      <td>2015-01-01 10:56:17.0</td>\n",
       "      <td>104193</td>\n",
       "      <td>0</td>\n",
       "      <td>train</td>\n",
       "      <td>2015-07-01 11:35:58.0</td>\n",
       "      <td>67332</td>\n",
       "      <td>test</td>\n",
       "    </tr>\n",
       "    <tr>\n",
       "      <th>10</th>\n",
       "      <td>1716</td>\n",
       "      <td>2015-01-01 11:08:13.0</td>\n",
       "      <td>126399</td>\n",
       "      <td>0</td>\n",
       "      <td>train</td>\n",
       "      <td>2015-07-01 11:50:45.0</td>\n",
       "      <td>96171</td>\n",
       "      <td>test</td>\n",
       "    </tr>\n",
       "    <tr>\n",
       "      <th>11</th>\n",
       "      <td>1747</td>\n",
       "      <td>2015-01-01 11:12:20.0</td>\n",
       "      <td>20483</td>\n",
       "      <td>0</td>\n",
       "      <td>train</td>\n",
       "      <td>2015-07-01 11:55:49.0</td>\n",
       "      <td>2534</td>\n",
       "      <td>test</td>\n",
       "    </tr>\n",
       "    <tr>\n",
       "      <th>12</th>\n",
       "      <td>1773</td>\n",
       "      <td>2015-01-01 11:17:58.0</td>\n",
       "      <td>6790</td>\n",
       "      <td>0</td>\n",
       "      <td>train</td>\n",
       "      <td>2015-07-01 12:01:02.0</td>\n",
       "      <td>154461</td>\n",
       "      <td>test</td>\n",
       "    </tr>\n",
       "    <tr>\n",
       "      <th>13</th>\n",
       "      <td>1805</td>\n",
       "      <td>2015-01-01 11:24:36.0</td>\n",
       "      <td>72922</td>\n",
       "      <td>0</td>\n",
       "      <td>train</td>\n",
       "      <td>2015-07-01 12:09:01.0</td>\n",
       "      <td>165409</td>\n",
       "      <td>test</td>\n",
       "    </tr>\n",
       "    <tr>\n",
       "      <th>14</th>\n",
       "      <td>1828</td>\n",
       "      <td>2015-01-01 11:28:37.0</td>\n",
       "      <td>99798</td>\n",
       "      <td>0</td>\n",
       "      <td>train</td>\n",
       "      <td>2015-07-01 12:14:13.0</td>\n",
       "      <td>95031</td>\n",
       "      <td>test</td>\n",
       "    </tr>\n",
       "    <tr>\n",
       "      <th>15</th>\n",
       "      <td>1861</td>\n",
       "      <td>2015-01-01 11:33:23.0</td>\n",
       "      <td>132629</td>\n",
       "      <td>0</td>\n",
       "      <td>train</td>\n",
       "      <td>2015-07-01 12:21:33.0</td>\n",
       "      <td>167837</td>\n",
       "      <td>test</td>\n",
       "    </tr>\n",
       "    <tr>\n",
       "      <th>16</th>\n",
       "      <td>2198</td>\n",
       "      <td>2015-01-01 12:39:14.0</td>\n",
       "      <td>139375</td>\n",
       "      <td>0</td>\n",
       "      <td>train</td>\n",
       "      <td>2015-07-01 13:35:32.0</td>\n",
       "      <td>57996</td>\n",
       "      <td>test</td>\n",
       "    </tr>\n",
       "    <tr>\n",
       "      <th>17</th>\n",
       "      <td>2364</td>\n",
       "      <td>2015-01-01 13:15:07.0</td>\n",
       "      <td>89808</td>\n",
       "      <td>0</td>\n",
       "      <td>train</td>\n",
       "      <td>2015-07-01 14:09:15.0</td>\n",
       "      <td>4862</td>\n",
       "      <td>test</td>\n",
       "    </tr>\n",
       "    <tr>\n",
       "      <th>18</th>\n",
       "      <td>2492</td>\n",
       "      <td>2015-01-01 13:39:40.0</td>\n",
       "      <td>125305</td>\n",
       "      <td>0</td>\n",
       "      <td>train</td>\n",
       "      <td>2015-07-01 14:37:41.0</td>\n",
       "      <td>61456</td>\n",
       "      <td>test</td>\n",
       "    </tr>\n",
       "    <tr>\n",
       "      <th>19</th>\n",
       "      <td>2520</td>\n",
       "      <td>2015-01-01 13:43:25.0</td>\n",
       "      <td>119719</td>\n",
       "      <td>0</td>\n",
       "      <td>train</td>\n",
       "      <td>2015-07-01 14:42:13.0</td>\n",
       "      <td>172666</td>\n",
       "      <td>test</td>\n",
       "    </tr>\n",
       "    <tr>\n",
       "      <th>20</th>\n",
       "      <td>2715</td>\n",
       "      <td>2015-01-01 14:25:06.0</td>\n",
       "      <td>10492</td>\n",
       "      <td>0</td>\n",
       "      <td>train</td>\n",
       "      <td>2015-07-01 15:24:04.0</td>\n",
       "      <td>33854</td>\n",
       "      <td>test</td>\n",
       "    </tr>\n",
       "    <tr>\n",
       "      <th>21</th>\n",
       "      <td>2747</td>\n",
       "      <td>2015-01-01 14:30:33.0</td>\n",
       "      <td>126651</td>\n",
       "      <td>0</td>\n",
       "      <td>train</td>\n",
       "      <td>2015-07-01 15:30:41.0</td>\n",
       "      <td>48887</td>\n",
       "      <td>test</td>\n",
       "    </tr>\n",
       "    <tr>\n",
       "      <th>22</th>\n",
       "      <td>3008</td>\n",
       "      <td>2015-01-01 15:29:59.0</td>\n",
       "      <td>18231</td>\n",
       "      <td>0</td>\n",
       "      <td>train</td>\n",
       "      <td>2015-07-01 16:21:00.0</td>\n",
       "      <td>100650</td>\n",
       "      <td>test</td>\n",
       "    </tr>\n",
       "    <tr>\n",
       "      <th>23</th>\n",
       "      <td>3312</td>\n",
       "      <td>2015-01-01 16:20:41.0</td>\n",
       "      <td>84350</td>\n",
       "      <td>0</td>\n",
       "      <td>train</td>\n",
       "      <td>2015-07-01 17:30:17.0</td>\n",
       "      <td>8528</td>\n",
       "      <td>test</td>\n",
       "    </tr>\n",
       "    <tr>\n",
       "      <th>24</th>\n",
       "      <td>3561</td>\n",
       "      <td>2015-01-01 17:20:23.0</td>\n",
       "      <td>155324</td>\n",
       "      <td>0</td>\n",
       "      <td>train</td>\n",
       "      <td>2015-07-01 18:33:22.0</td>\n",
       "      <td>71761</td>\n",
       "      <td>test</td>\n",
       "    </tr>\n",
       "    <tr>\n",
       "      <th>25</th>\n",
       "      <td>3691</td>\n",
       "      <td>2015-01-01 17:45:56.0</td>\n",
       "      <td>143149</td>\n",
       "      <td>0</td>\n",
       "      <td>train</td>\n",
       "      <td>2015-07-01 19:04:55.0</td>\n",
       "      <td>171105</td>\n",
       "      <td>test</td>\n",
       "    </tr>\n",
       "    <tr>\n",
       "      <th>26</th>\n",
       "      <td>3785</td>\n",
       "      <td>2015-01-01 18:11:06.0</td>\n",
       "      <td>39387</td>\n",
       "      <td>0</td>\n",
       "      <td>train</td>\n",
       "      <td>2015-07-01 19:27:00.0</td>\n",
       "      <td>50071</td>\n",
       "      <td>test</td>\n",
       "    </tr>\n",
       "    <tr>\n",
       "      <th>27</th>\n",
       "      <td>4089</td>\n",
       "      <td>2015-01-01 19:23:55.0</td>\n",
       "      <td>140983</td>\n",
       "      <td>0</td>\n",
       "      <td>train</td>\n",
       "      <td>2015-07-01 20:36:41.0</td>\n",
       "      <td>39452</td>\n",
       "      <td>test</td>\n",
       "    </tr>\n",
       "    <tr>\n",
       "      <th>28</th>\n",
       "      <td>4115</td>\n",
       "      <td>2015-01-01 19:29:21.0</td>\n",
       "      <td>6661</td>\n",
       "      <td>0</td>\n",
       "      <td>train</td>\n",
       "      <td>2015-07-01 20:41:55.0</td>\n",
       "      <td>171105</td>\n",
       "      <td>test</td>\n",
       "    </tr>\n",
       "    <tr>\n",
       "      <th>29</th>\n",
       "      <td>4488</td>\n",
       "      <td>2015-01-01 20:37:06.0</td>\n",
       "      <td>135398</td>\n",
       "      <td>0</td>\n",
       "      <td>train</td>\n",
       "      <td>2015-07-01 22:01:28.0</td>\n",
       "      <td>115314</td>\n",
       "      <td>test</td>\n",
       "    </tr>\n",
       "    <tr>\n",
       "      <th>...</th>\n",
       "      <td>...</td>\n",
       "      <td>...</td>\n",
       "      <td>...</td>\n",
       "      <td>...</td>\n",
       "      <td>...</td>\n",
       "      <td>...</td>\n",
       "      <td>...</td>\n",
       "      <td>...</td>\n",
       "    </tr>\n",
       "    <tr>\n",
       "      <th>2585</th>\n",
       "      <td>171422</td>\n",
       "      <td>2015-02-04 10:44:24.0</td>\n",
       "      <td>54116</td>\n",
       "      <td>0</td>\n",
       "      <td>train</td>\n",
       "      <td>2015-07-31 10:29:57.0</td>\n",
       "      <td>150875</td>\n",
       "      <td>test</td>\n",
       "    </tr>\n",
       "    <tr>\n",
       "      <th>2586</th>\n",
       "      <td>171471</td>\n",
       "      <td>2015-02-04 10:49:19.0</td>\n",
       "      <td>133341</td>\n",
       "      <td>0</td>\n",
       "      <td>train</td>\n",
       "      <td>2015-07-31 10:34:20.0</td>\n",
       "      <td>133033</td>\n",
       "      <td>test</td>\n",
       "    </tr>\n",
       "    <tr>\n",
       "      <th>2587</th>\n",
       "      <td>171494</td>\n",
       "      <td>2015-02-04 10:52:57.0</td>\n",
       "      <td>45762</td>\n",
       "      <td>0</td>\n",
       "      <td>train</td>\n",
       "      <td>2015-07-31 10:35:57.0</td>\n",
       "      <td>140495</td>\n",
       "      <td>test</td>\n",
       "    </tr>\n",
       "    <tr>\n",
       "      <th>2588</th>\n",
       "      <td>171549</td>\n",
       "      <td>2015-02-04 10:59:01.0</td>\n",
       "      <td>133341</td>\n",
       "      <td>0</td>\n",
       "      <td>train</td>\n",
       "      <td>2015-07-31 10:42:40.0</td>\n",
       "      <td>117034</td>\n",
       "      <td>test</td>\n",
       "    </tr>\n",
       "    <tr>\n",
       "      <th>2589</th>\n",
       "      <td>172062</td>\n",
       "      <td>2015-02-04 12:42:15.0</td>\n",
       "      <td>135059</td>\n",
       "      <td>0</td>\n",
       "      <td>train</td>\n",
       "      <td>2015-07-31 11:47:42.0</td>\n",
       "      <td>63354</td>\n",
       "      <td>test</td>\n",
       "    </tr>\n",
       "    <tr>\n",
       "      <th>2590</th>\n",
       "      <td>172099</td>\n",
       "      <td>2015-02-04 12:47:28.0</td>\n",
       "      <td>21781</td>\n",
       "      <td>0</td>\n",
       "      <td>train</td>\n",
       "      <td>2015-07-31 11:51:56.0</td>\n",
       "      <td>4869</td>\n",
       "      <td>test</td>\n",
       "    </tr>\n",
       "    <tr>\n",
       "      <th>2591</th>\n",
       "      <td>172142</td>\n",
       "      <td>2015-02-04 12:55:47.0</td>\n",
       "      <td>139512</td>\n",
       "      <td>0</td>\n",
       "      <td>train</td>\n",
       "      <td>2015-07-31 11:58:46.0</td>\n",
       "      <td>148190</td>\n",
       "      <td>test</td>\n",
       "    </tr>\n",
       "    <tr>\n",
       "      <th>2592</th>\n",
       "      <td>172151</td>\n",
       "      <td>2015-02-04 12:57:30.0</td>\n",
       "      <td>85019</td>\n",
       "      <td>0</td>\n",
       "      <td>train</td>\n",
       "      <td>2015-07-31 12:00:25.0</td>\n",
       "      <td>97171</td>\n",
       "      <td>test</td>\n",
       "    </tr>\n",
       "    <tr>\n",
       "      <th>2593</th>\n",
       "      <td>172494</td>\n",
       "      <td>2015-02-04 14:04:34.0</td>\n",
       "      <td>165222</td>\n",
       "      <td>0</td>\n",
       "      <td>train</td>\n",
       "      <td>2015-07-31 13:02:04.0</td>\n",
       "      <td>110363</td>\n",
       "      <td>test</td>\n",
       "    </tr>\n",
       "    <tr>\n",
       "      <th>2594</th>\n",
       "      <td>172798</td>\n",
       "      <td>2015-02-04 15:03:17.0</td>\n",
       "      <td>138280</td>\n",
       "      <td>0</td>\n",
       "      <td>train</td>\n",
       "      <td>2015-07-31 13:53:22.0</td>\n",
       "      <td>120062</td>\n",
       "      <td>test</td>\n",
       "    </tr>\n",
       "    <tr>\n",
       "      <th>2595</th>\n",
       "      <td>172856</td>\n",
       "      <td>2015-02-04 15:14:21.0</td>\n",
       "      <td>16020</td>\n",
       "      <td>0</td>\n",
       "      <td>train</td>\n",
       "      <td>2015-07-31 14:02:49.0</td>\n",
       "      <td>149489</td>\n",
       "      <td>test</td>\n",
       "    </tr>\n",
       "    <tr>\n",
       "      <th>2596</th>\n",
       "      <td>173024</td>\n",
       "      <td>2015-02-04 15:49:25.0</td>\n",
       "      <td>12816</td>\n",
       "      <td>0</td>\n",
       "      <td>train</td>\n",
       "      <td>2015-07-31 14:28:45.0</td>\n",
       "      <td>125783</td>\n",
       "      <td>test</td>\n",
       "    </tr>\n",
       "    <tr>\n",
       "      <th>2597</th>\n",
       "      <td>173309</td>\n",
       "      <td>2015-02-04 16:40:04.0</td>\n",
       "      <td>24964</td>\n",
       "      <td>0</td>\n",
       "      <td>train</td>\n",
       "      <td>2015-07-31 15:11:00.0</td>\n",
       "      <td>154470</td>\n",
       "      <td>test</td>\n",
       "    </tr>\n",
       "    <tr>\n",
       "      <th>2598</th>\n",
       "      <td>173448</td>\n",
       "      <td>2015-02-04 17:03:54.0</td>\n",
       "      <td>55203</td>\n",
       "      <td>0</td>\n",
       "      <td>train</td>\n",
       "      <td>2015-07-31 15:35:14.0</td>\n",
       "      <td>68773</td>\n",
       "      <td>test</td>\n",
       "    </tr>\n",
       "    <tr>\n",
       "      <th>2599</th>\n",
       "      <td>173584</td>\n",
       "      <td>2015-02-04 17:28:25.0</td>\n",
       "      <td>40627</td>\n",
       "      <td>0</td>\n",
       "      <td>train</td>\n",
       "      <td>2015-07-31 15:56:41.0</td>\n",
       "      <td>131113</td>\n",
       "      <td>test</td>\n",
       "    </tr>\n",
       "    <tr>\n",
       "      <th>2600</th>\n",
       "      <td>173673</td>\n",
       "      <td>2015-02-04 17:46:57.0</td>\n",
       "      <td>24964</td>\n",
       "      <td>0</td>\n",
       "      <td>train</td>\n",
       "      <td>2015-07-31 16:12:35.0</td>\n",
       "      <td>145584</td>\n",
       "      <td>test</td>\n",
       "    </tr>\n",
       "    <tr>\n",
       "      <th>2601</th>\n",
       "      <td>173756</td>\n",
       "      <td>2015-02-04 18:14:16.0</td>\n",
       "      <td>75162</td>\n",
       "      <td>0</td>\n",
       "      <td>train</td>\n",
       "      <td>2015-07-31 16:24:01.0</td>\n",
       "      <td>88770</td>\n",
       "      <td>test</td>\n",
       "    </tr>\n",
       "    <tr>\n",
       "      <th>2602</th>\n",
       "      <td>173989</td>\n",
       "      <td>2015-02-04 19:13:01.0</td>\n",
       "      <td>66981</td>\n",
       "      <td>0</td>\n",
       "      <td>train</td>\n",
       "      <td>2015-07-31 16:59:03.0</td>\n",
       "      <td>175011</td>\n",
       "      <td>test</td>\n",
       "    </tr>\n",
       "    <tr>\n",
       "      <th>2603</th>\n",
       "      <td>173998</td>\n",
       "      <td>2015-02-04 19:14:36.0</td>\n",
       "      <td>24964</td>\n",
       "      <td>0</td>\n",
       "      <td>train</td>\n",
       "      <td>2015-07-31 17:00:11.0</td>\n",
       "      <td>74148</td>\n",
       "      <td>test</td>\n",
       "    </tr>\n",
       "    <tr>\n",
       "      <th>2604</th>\n",
       "      <td>174365</td>\n",
       "      <td>2015-02-04 20:37:57.0</td>\n",
       "      <td>61981</td>\n",
       "      <td>0</td>\n",
       "      <td>train</td>\n",
       "      <td>2015-07-31 18:15:34.0</td>\n",
       "      <td>66639</td>\n",
       "      <td>test</td>\n",
       "    </tr>\n",
       "    <tr>\n",
       "      <th>2605</th>\n",
       "      <td>174494</td>\n",
       "      <td>2015-02-04 20:59:30.0</td>\n",
       "      <td>33745</td>\n",
       "      <td>0</td>\n",
       "      <td>train</td>\n",
       "      <td>2015-07-31 18:44:39.0</td>\n",
       "      <td>30249</td>\n",
       "      <td>test</td>\n",
       "    </tr>\n",
       "    <tr>\n",
       "      <th>2606</th>\n",
       "      <td>175204</td>\n",
       "      <td>2015-02-04 23:21:27.0</td>\n",
       "      <td>151856</td>\n",
       "      <td>0</td>\n",
       "      <td>train</td>\n",
       "      <td>2015-07-31 21:12:09.0</td>\n",
       "      <td>64980</td>\n",
       "      <td>test</td>\n",
       "    </tr>\n",
       "    <tr>\n",
       "      <th>2607</th>\n",
       "      <td>175481</td>\n",
       "      <td>2015-02-05 01:19:52.0</td>\n",
       "      <td>14621</td>\n",
       "      <td>0</td>\n",
       "      <td>train</td>\n",
       "      <td>2015-07-31 21:49:12.0</td>\n",
       "      <td>59503</td>\n",
       "      <td>test</td>\n",
       "    </tr>\n",
       "    <tr>\n",
       "      <th>2608</th>\n",
       "      <td>175486</td>\n",
       "      <td>2015-02-05 01:24:10.0</td>\n",
       "      <td>3947</td>\n",
       "      <td>0</td>\n",
       "      <td>train</td>\n",
       "      <td>2015-07-31 21:49:59.0</td>\n",
       "      <td>108157</td>\n",
       "      <td>test</td>\n",
       "    </tr>\n",
       "    <tr>\n",
       "      <th>2609</th>\n",
       "      <td>175696</td>\n",
       "      <td>2015-02-05 08:10:58.0</td>\n",
       "      <td>13515</td>\n",
       "      <td>0</td>\n",
       "      <td>train</td>\n",
       "      <td>2015-07-31 22:23:43.0</td>\n",
       "      <td>4638</td>\n",
       "      <td>test</td>\n",
       "    </tr>\n",
       "    <tr>\n",
       "      <th>2610</th>\n",
       "      <td>175799</td>\n",
       "      <td>2015-02-05 08:53:10.0</td>\n",
       "      <td>14737</td>\n",
       "      <td>0</td>\n",
       "      <td>train</td>\n",
       "      <td>2015-07-31 22:37:37.0</td>\n",
       "      <td>158078</td>\n",
       "      <td>test</td>\n",
       "    </tr>\n",
       "    <tr>\n",
       "      <th>2611</th>\n",
       "      <td>175899</td>\n",
       "      <td>2015-02-05 09:21:32.0</td>\n",
       "      <td>42908</td>\n",
       "      <td>0</td>\n",
       "      <td>train</td>\n",
       "      <td>2015-07-31 22:50:18.0</td>\n",
       "      <td>130662</td>\n",
       "      <td>test</td>\n",
       "    </tr>\n",
       "    <tr>\n",
       "      <th>2612</th>\n",
       "      <td>176057</td>\n",
       "      <td>2015-02-05 09:57:01.0</td>\n",
       "      <td>42908</td>\n",
       "      <td>0</td>\n",
       "      <td>train</td>\n",
       "      <td>2015-07-31 23:09:07.0</td>\n",
       "      <td>145704</td>\n",
       "      <td>test</td>\n",
       "    </tr>\n",
       "    <tr>\n",
       "      <th>2613</th>\n",
       "      <td>176100</td>\n",
       "      <td>2015-02-05 10:05:17.0</td>\n",
       "      <td>59616</td>\n",
       "      <td>0</td>\n",
       "      <td>train</td>\n",
       "      <td>2015-07-31 23:16:39.0</td>\n",
       "      <td>18097</td>\n",
       "      <td>test</td>\n",
       "    </tr>\n",
       "    <tr>\n",
       "      <th>2614</th>\n",
       "      <td>176149</td>\n",
       "      <td>2015-02-05 10:12:38.0</td>\n",
       "      <td>42923</td>\n",
       "      <td>0</td>\n",
       "      <td>train</td>\n",
       "      <td>2015-07-31 23:24:31.0</td>\n",
       "      <td>23927</td>\n",
       "      <td>test</td>\n",
       "    </tr>\n",
       "  </tbody>\n",
       "</table>\n",
       "<p>2615 rows × 8 columns</p>\n",
       "</div>"
      ],
      "text/plain": [
       "      rowkey             time_train  id_train  is_risk from_train  \\\n",
       "0        343  2015-01-01 01:05:47.0     87482        0      train   \n",
       "1        700  2015-01-01 07:13:31.0    107099        0      train   \n",
       "2        758  2015-01-01 07:53:02.0     75533        0      train   \n",
       "3        806  2015-01-01 08:15:22.0     25407        0      train   \n",
       "4        812  2015-01-01 08:16:13.0     25407        0      train   \n",
       "5        819  2015-01-01 08:19:15.0     34524        0      train   \n",
       "6        992  2015-01-01 09:07:47.0      8914        0      train   \n",
       "7       1110  2015-01-01 09:30:16.0     42060        0      train   \n",
       "8       1349  2015-01-01 10:13:15.0     57105        0      train   \n",
       "9       1651  2015-01-01 10:56:17.0    104193        0      train   \n",
       "10      1716  2015-01-01 11:08:13.0    126399        0      train   \n",
       "11      1747  2015-01-01 11:12:20.0     20483        0      train   \n",
       "12      1773  2015-01-01 11:17:58.0      6790        0      train   \n",
       "13      1805  2015-01-01 11:24:36.0     72922        0      train   \n",
       "14      1828  2015-01-01 11:28:37.0     99798        0      train   \n",
       "15      1861  2015-01-01 11:33:23.0    132629        0      train   \n",
       "16      2198  2015-01-01 12:39:14.0    139375        0      train   \n",
       "17      2364  2015-01-01 13:15:07.0     89808        0      train   \n",
       "18      2492  2015-01-01 13:39:40.0    125305        0      train   \n",
       "19      2520  2015-01-01 13:43:25.0    119719        0      train   \n",
       "20      2715  2015-01-01 14:25:06.0     10492        0      train   \n",
       "21      2747  2015-01-01 14:30:33.0    126651        0      train   \n",
       "22      3008  2015-01-01 15:29:59.0     18231        0      train   \n",
       "23      3312  2015-01-01 16:20:41.0     84350        0      train   \n",
       "24      3561  2015-01-01 17:20:23.0    155324        0      train   \n",
       "25      3691  2015-01-01 17:45:56.0    143149        0      train   \n",
       "26      3785  2015-01-01 18:11:06.0     39387        0      train   \n",
       "27      4089  2015-01-01 19:23:55.0    140983        0      train   \n",
       "28      4115  2015-01-01 19:29:21.0      6661        0      train   \n",
       "29      4488  2015-01-01 20:37:06.0    135398        0      train   \n",
       "...      ...                    ...       ...      ...        ...   \n",
       "2585  171422  2015-02-04 10:44:24.0     54116        0      train   \n",
       "2586  171471  2015-02-04 10:49:19.0    133341        0      train   \n",
       "2587  171494  2015-02-04 10:52:57.0     45762        0      train   \n",
       "2588  171549  2015-02-04 10:59:01.0    133341        0      train   \n",
       "2589  172062  2015-02-04 12:42:15.0    135059        0      train   \n",
       "2590  172099  2015-02-04 12:47:28.0     21781        0      train   \n",
       "2591  172142  2015-02-04 12:55:47.0    139512        0      train   \n",
       "2592  172151  2015-02-04 12:57:30.0     85019        0      train   \n",
       "2593  172494  2015-02-04 14:04:34.0    165222        0      train   \n",
       "2594  172798  2015-02-04 15:03:17.0    138280        0      train   \n",
       "2595  172856  2015-02-04 15:14:21.0     16020        0      train   \n",
       "2596  173024  2015-02-04 15:49:25.0     12816        0      train   \n",
       "2597  173309  2015-02-04 16:40:04.0     24964        0      train   \n",
       "2598  173448  2015-02-04 17:03:54.0     55203        0      train   \n",
       "2599  173584  2015-02-04 17:28:25.0     40627        0      train   \n",
       "2600  173673  2015-02-04 17:46:57.0     24964        0      train   \n",
       "2601  173756  2015-02-04 18:14:16.0     75162        0      train   \n",
       "2602  173989  2015-02-04 19:13:01.0     66981        0      train   \n",
       "2603  173998  2015-02-04 19:14:36.0     24964        0      train   \n",
       "2604  174365  2015-02-04 20:37:57.0     61981        0      train   \n",
       "2605  174494  2015-02-04 20:59:30.0     33745        0      train   \n",
       "2606  175204  2015-02-04 23:21:27.0    151856        0      train   \n",
       "2607  175481  2015-02-05 01:19:52.0     14621        0      train   \n",
       "2608  175486  2015-02-05 01:24:10.0      3947        0      train   \n",
       "2609  175696  2015-02-05 08:10:58.0     13515        0      train   \n",
       "2610  175799  2015-02-05 08:53:10.0     14737        0      train   \n",
       "2611  175899  2015-02-05 09:21:32.0     42908        0      train   \n",
       "2612  176057  2015-02-05 09:57:01.0     42908        0      train   \n",
       "2613  176100  2015-02-05 10:05:17.0     59616        0      train   \n",
       "2614  176149  2015-02-05 10:12:38.0     42923        0      train   \n",
       "\n",
       "                  time_test  id_test from_test  \n",
       "0     2015-07-01 07:02:40.0   149605      test  \n",
       "1     2015-07-01 09:00:40.0   149778      test  \n",
       "2     2015-07-01 09:17:10.0   129565      test  \n",
       "3     2015-07-01 09:29:53.0   169889      test  \n",
       "4     2015-07-01 09:31:26.0    10398      test  \n",
       "5     2015-07-01 09:32:39.0   112515      test  \n",
       "6     2015-07-01 10:00:27.0    97686      test  \n",
       "7     2015-07-01 10:07:34.0    93524      test  \n",
       "8     2015-07-01 10:41:12.0    83717      test  \n",
       "9     2015-07-01 11:35:58.0    67332      test  \n",
       "10    2015-07-01 11:50:45.0    96171      test  \n",
       "11    2015-07-01 11:55:49.0     2534      test  \n",
       "12    2015-07-01 12:01:02.0   154461      test  \n",
       "13    2015-07-01 12:09:01.0   165409      test  \n",
       "14    2015-07-01 12:14:13.0    95031      test  \n",
       "15    2015-07-01 12:21:33.0   167837      test  \n",
       "16    2015-07-01 13:35:32.0    57996      test  \n",
       "17    2015-07-01 14:09:15.0     4862      test  \n",
       "18    2015-07-01 14:37:41.0    61456      test  \n",
       "19    2015-07-01 14:42:13.0   172666      test  \n",
       "20    2015-07-01 15:24:04.0    33854      test  \n",
       "21    2015-07-01 15:30:41.0    48887      test  \n",
       "22    2015-07-01 16:21:00.0   100650      test  \n",
       "23    2015-07-01 17:30:17.0     8528      test  \n",
       "24    2015-07-01 18:33:22.0    71761      test  \n",
       "25    2015-07-01 19:04:55.0   171105      test  \n",
       "26    2015-07-01 19:27:00.0    50071      test  \n",
       "27    2015-07-01 20:36:41.0    39452      test  \n",
       "28    2015-07-01 20:41:55.0   171105      test  \n",
       "29    2015-07-01 22:01:28.0   115314      test  \n",
       "...                     ...      ...       ...  \n",
       "2585  2015-07-31 10:29:57.0   150875      test  \n",
       "2586  2015-07-31 10:34:20.0   133033      test  \n",
       "2587  2015-07-31 10:35:57.0   140495      test  \n",
       "2588  2015-07-31 10:42:40.0   117034      test  \n",
       "2589  2015-07-31 11:47:42.0    63354      test  \n",
       "2590  2015-07-31 11:51:56.0     4869      test  \n",
       "2591  2015-07-31 11:58:46.0   148190      test  \n",
       "2592  2015-07-31 12:00:25.0    97171      test  \n",
       "2593  2015-07-31 13:02:04.0   110363      test  \n",
       "2594  2015-07-31 13:53:22.0   120062      test  \n",
       "2595  2015-07-31 14:02:49.0   149489      test  \n",
       "2596  2015-07-31 14:28:45.0   125783      test  \n",
       "2597  2015-07-31 15:11:00.0   154470      test  \n",
       "2598  2015-07-31 15:35:14.0    68773      test  \n",
       "2599  2015-07-31 15:56:41.0   131113      test  \n",
       "2600  2015-07-31 16:12:35.0   145584      test  \n",
       "2601  2015-07-31 16:24:01.0    88770      test  \n",
       "2602  2015-07-31 16:59:03.0   175011      test  \n",
       "2603  2015-07-31 17:00:11.0    74148      test  \n",
       "2604  2015-07-31 18:15:34.0    66639      test  \n",
       "2605  2015-07-31 18:44:39.0    30249      test  \n",
       "2606  2015-07-31 21:12:09.0    64980      test  \n",
       "2607  2015-07-31 21:49:12.0    59503      test  \n",
       "2608  2015-07-31 21:49:59.0   108157      test  \n",
       "2609  2015-07-31 22:23:43.0     4638      test  \n",
       "2610  2015-07-31 22:37:37.0   158078      test  \n",
       "2611  2015-07-31 22:50:18.0   130662      test  \n",
       "2612  2015-07-31 23:09:07.0   145704      test  \n",
       "2613  2015-07-31 23:16:39.0    18097      test  \n",
       "2614  2015-07-31 23:24:31.0    23927      test  \n",
       "\n",
       "[2615 rows x 8 columns]"
      ]
     },
     "execution_count": 47,
     "metadata": {},
     "output_type": "execute_result"
    }
   ],
   "source": [
    "trade_repeat_rowkey"
   ]
  },
  {
   "cell_type": "markdown",
   "metadata": {},
   "source": [
    "# login表"
   ]
  },
  {
   "cell_type": "code",
   "execution_count": 48,
   "metadata": {
    "collapsed": false
   },
   "outputs": [
    {
     "name": "stdout",
     "output_type": "stream",
     "text": [
      "Index([u'log_id', u'timelong', u'device', u'log_from', u'ip', u'city',\n",
      "       u'result', u'timestamp', u'type', u'id', u'is_scan', u'is_sec', u'time',\n",
      "       u'from'],\n",
      "      dtype='object')\n"
     ]
    }
   ],
   "source": [
    "print(login_tt.columns)"
   ]
  },
  {
   "cell_type": "markdown",
   "metadata": {},
   "source": [
    "##   Id重合情况"
   ]
  },
  {
   "cell_type": "code",
   "execution_count": 49,
   "metadata": {
    "collapsed": false
   },
   "outputs": [
    {
     "name": "stdout",
     "output_type": "stream",
     "text": [
      "unique in train, in test and in all is  27155 12923 28065\n",
      "number for IDs in train but not in test in train 15142\n",
      "train中出现但未在test中出现的为 0.557613699135\n",
      "test中出现过但未在train中出现的为 0.070417085816\n"
     ]
    }
   ],
   "source": [
    "unique_in_train = login_train['id'].unique().shape[0]\n",
    "unique_in_test =  login_test['id'].unique().shape[0]\n",
    "unique_in_tt = login_tt['id'].unique().shape[0]\n",
    "print \"unique in train, in test and in all is \",unique_in_train,unique_in_test,unique_in_tt\n",
    "print  \"number for IDs in train but not in test in train\",(unique_in_tt - unique_in_test)\n",
    "print u\"train中出现但未在test中出现的为\",(unique_in_tt - unique_in_test)*1.0/(unique_in_train)\n",
    "print u\"test中出现过但未在train中出现的为\",(unique_in_tt - unique_in_train)*1.0/(unique_in_test)"
   ]
  },
  {
   "cell_type": "markdown",
   "metadata": {},
   "source": [
    "## ID是否都在trade表中出现过？"
   ]
  },
  {
   "cell_type": "code",
   "execution_count": 50,
   "metadata": {
    "collapsed": true
   },
   "outputs": [],
   "source": [
    "unique_in_login_train = login_train['id'].unique()\n",
    "unique_in_login_test =  login_test['id'].unique()\n",
    "unique_in_login_tt = login_tt['id'].unique()\n",
    "unique_in_trade_train = trade_train['id'].unique()\n",
    "unique_in_trade_test =  trade_test['id'].unique()\n",
    "unique_in_trade_tt = trade_tt['id'].unique()"
   ]
  },
  {
   "cell_type": "code",
   "execution_count": 51,
   "metadata": {
    "collapsed": false
   },
   "outputs": [
    {
     "name": "stdout",
     "output_type": "stream",
     "text": [
      "unique number in login's train, test and in all 27155 12923 28065\n",
      "unique number in trade's train, test and in all 26044 7272 28065\n"
     ]
    }
   ],
   "source": [
    "print \"unique number in login's train, test and in all\", unique_in_login_train.shape[0], unique_in_login_test.shape[0] ,unique_in_login_tt.shape[0]\n",
    "print \"unique number in trade's train, test and in all\", unique_in_trade_train.shape[0], unique_in_trade_test.shape[0] ,unique_in_trade_tt.shape[0]"
   ]
  },
  {
   "cell_type": "code",
   "execution_count": 52,
   "metadata": {
    "collapsed": false
   },
   "outputs": [
    {
     "data": {
      "text/plain": [
       "28065"
      ]
     },
     "execution_count": 52,
     "metadata": {},
     "output_type": "execute_result"
    }
   ],
   "source": [
    "len(set(list(unique_in_login_tt)+list(unique_in_trade_tt)))"
   ]
  },
  {
   "cell_type": "markdown",
   "metadata": {},
   "source": [
    "显然就总体而言，所有在login中出现过的id都在trade出现过，反之亦然。两者总量相当，但在trade处train与test的交叠情况较小，因此trade的train/test的size较大"
   ]
  },
  {
   "cell_type": "code",
   "execution_count": 53,
   "metadata": {
    "collapsed": false
   },
   "outputs": [
    {
     "data": {
      "text/plain": [
       "27256"
      ]
     },
     "execution_count": 53,
     "metadata": {},
     "output_type": "execute_result"
    }
   ],
   "source": [
    "len(set(list(unique_in_login_train)+list(unique_in_trade_train)))"
   ]
  },
  {
   "cell_type": "code",
   "execution_count": 54,
   "metadata": {
    "collapsed": false
   },
   "outputs": [
    {
     "data": {
      "text/plain": [
       "14137"
      ]
     },
     "execution_count": 54,
     "metadata": {},
     "output_type": "execute_result"
    }
   ],
   "source": [
    "len(set(list(unique_in_login_test)+list(unique_in_trade_test)))"
   ]
  },
  {
   "cell_type": "markdown",
   "metadata": {},
   "source": [
    "而对应到train或test上，则会有trade与login间id未必在两边都出现过的情况。"
   ]
  },
  {
   "cell_type": "markdown",
   "metadata": {},
   "source": [
    "## ID出现次数分布"
   ]
  },
  {
   "cell_type": "code",
   "execution_count": 65,
   "metadata": {
    "collapsed": true
   },
   "outputs": [],
   "source": [
    "login_train_id_times = login_train[['id']].groupby('id').size()\n",
    "login_test_id_times = login_test[['id']].groupby('id').size()"
   ]
  },
  {
   "cell_type": "code",
   "execution_count": 78,
   "metadata": {
    "collapsed": false
   },
   "outputs": [
    {
     "data": {
      "text/plain": [
       "(array([ 13495.,   4618.,   2600.,   1859.,   1060.,    668.,    573.,\n",
       "           368.,    291.,    257.]),\n",
       " array([  1. ,   8.3,  15.6,  22.9,  30.2,  37.5,  44.8,  52.1,  59.4,\n",
       "         66.7,  74. ]),\n",
       " <a list of 10 Patch objects>)"
      ]
     },
     "execution_count": 78,
     "metadata": {},
     "output_type": "execute_result"
    },
    {
     "data": {
      "image/png": "[encoded data removed]",
      "text/plain": [
       "<matplotlib.figure.Figure at 0x243b4b38>"
      ]
     },
     "metadata": {},
     "output_type": "display_data"
    }
   ],
   "source": [
    "qt_login_train = login_train_id_times.quantile(.95)\n",
    "plt.hist(login_train_id_times[login_train_id_times< qt_login_train])"
   ]
  },
  {
   "cell_type": "code",
   "execution_count": 77,
   "metadata": {
    "collapsed": false
   },
   "outputs": [
    {
     "data": {
      "text/plain": [
       "(array([ 13495.,   4618.,   2600.,   1859.,   1060.,    668.,    573.,\n",
       "           368.,    291.,    257.]),\n",
       " array([  1. ,   8.3,  15.6,  22.9,  30.2,  37.5,  44.8,  52.1,  59.4,\n",
       "         66.7,  74. ]),\n",
       " <a list of 10 Patch objects>)"
      ]
     },
     "execution_count": 77,
     "metadata": {},
     "output_type": "execute_result"
    },
    {
     "data": {
      "image/png": "[encoded data removed]",
      "text/plain": [
       "<matplotlib.figure.Figure at 0x23fb20b8>"
      ]
     },
     "metadata": {},
     "output_type": "display_data"
    }
   ],
   "source": [
    "qt_login_train = login_train_id_times.quantile(.95)\n",
    "plt.hist(login_train_id_times[login_train_id_times< qt_login_train])"
   ]
  },
  {
   "cell_type": "code",
   "execution_count": 110,
   "metadata": {
    "collapsed": false,
    "scrolled": false
   },
   "outputs": [
    {
     "data": {
      "text/plain": [
       "(array([ 14072.,   4779.,   2719.,   1700.,   1087.,    760.,    538.,\n",
       "           401.,    308.,    273.]),\n",
       " array([  1. ,   9.1,  17.2,  25.3,  33.4,  41.5,  49.6,  57.7,  65.8,\n",
       "         73.9,  82. ]),\n",
       " <a list of 10 Patch objects>)"
      ]
     },
     "execution_count": 110,
     "metadata": {},
     "output_type": "execute_result"
    },
    {
     "data": {
      "image/png": "[encoded data removed]",
      "text/plain": [
       "<matplotlib.figure.Figure at 0x1e550198>"
      ]
     },
     "metadata": {},
     "output_type": "display_data"
    }
   ],
   "source": [
    "login_id_times = login_tt[['id']].groupby('id').size()\n",
    "qt_login_tt = login_id_times.quantile(.95)\n",
    "plt.hist(login_id_times[login_id_times< qt_login_tt])"
   ]
  },
  {
   "cell_type": "code",
   "execution_count": 112,
   "metadata": {
    "collapsed": false
   },
   "outputs": [
    {
     "data": {
      "text/plain": [
       "(1742L,)"
      ]
     },
     "execution_count": 112,
     "metadata": {},
     "output_type": "execute_result"
    }
   ],
   "source": [
    "login_id_times[login_id_times<2].shape"
   ]
  },
  {
   "cell_type": "code",
   "execution_count": 113,
   "metadata": {
    "collapsed": false
   },
   "outputs": [
    {
     "data": {
      "text/plain": [
       "(3821L,)"
      ]
     },
     "execution_count": 113,
     "metadata": {},
     "output_type": "execute_result"
    }
   ],
   "source": [
    "login_id_times[login_id_times<3].shape"
   ]
  },
  {
   "cell_type": "code",
   "execution_count": 114,
   "metadata": {
    "collapsed": false
   },
   "outputs": [
    {
     "data": {
      "text/plain": [
       "(6614L,)"
      ]
     },
     "execution_count": 114,
     "metadata": {},
     "output_type": "execute_result"
    }
   ],
   "source": [
    "login_id_times[login_id_times<4].shape"
   ]
  },
  {
   "cell_type": "markdown",
   "metadata": {},
   "source": [
    "## Device与ID关系 "
   ]
  },
  {
   "cell_type": "code",
   "execution_count": 9,
   "metadata": {
    "collapsed": false,
    "scrolled": true
   },
   "outputs": [],
   "source": [
    "hist_divice = login_tt.groupby(['id','device']).size().reset_index()\n",
    "hist_divice = hist_divice.rename(columns = {0:'login_times'})"
   ]
  },
  {
   "cell_type": "code",
   "execution_count": 92,
   "metadata": {
    "collapsed": false,
    "scrolled": true
   },
   "outputs": [],
   "source": [
    "id_device_counts = hist_divice.groupby('id').size()"
   ]
  },
  {
   "cell_type": "code",
   "execution_count": 94,
   "metadata": {
    "collapsed": false
   },
   "outputs": [
    {
     "data": {
      "text/plain": [
       "count    28065.000000\n",
       "mean         6.349938\n",
       "std         12.009825\n",
       "min          1.000000\n",
       "25%          2.000000\n",
       "50%          4.000000\n",
       "75%          7.000000\n",
       "max        849.000000\n",
       "dtype: float64"
      ]
     },
     "execution_count": 94,
     "metadata": {},
     "output_type": "execute_result"
    }
   ],
   "source": [
    "id_device_counts.describe()"
   ]
  },
  {
   "cell_type": "code",
   "execution_count": 95,
   "metadata": {
    "collapsed": false
   },
   "outputs": [
    {
     "data": {
      "text/plain": [
       "(array([ 8567.,  7597.,  2262.,  3276.,  1106.,  1559.,   985.,   357.,\n",
       "          508.,   378.]),\n",
       " array([  1. ,   2.6,   4.2,   5.8,   7.4,   9. ,  10.6,  12.2,  13.8,\n",
       "         15.4,  17. ]),\n",
       " <a list of 10 Patch objects>)"
      ]
     },
     "execution_count": 95,
     "metadata": {},
     "output_type": "execute_result"
    },
    {
     "data": {
      "image/png": "[encoded data removed]",
      "text/plain": [
       "<matplotlib.figure.Figure at 0x24515e10>"
      ]
     },
     "metadata": {},
     "output_type": "display_data"
    }
   ],
   "source": [
    "qt = id_device_counts.quantile(0.95)\n",
    "plt.hist(id_device_counts[id_device_counts<qt])"
   ]
  },
  {
   "cell_type": "markdown",
   "metadata": {},
   "source": [
    "### 是否存在device被多个id共享"
   ]
  },
  {
   "cell_type": "code",
   "execution_count": 10,
   "metadata": {
    "collapsed": true
   },
   "outputs": [],
   "source": [
    "device_ID_counts = hist_divice.groupby('device').size()"
   ]
  },
  {
   "cell_type": "code",
   "execution_count": 14,
   "metadata": {
    "collapsed": false
   },
   "outputs": [
    {
     "data": {
      "text/plain": [
       "13679L"
      ]
     },
     "execution_count": 14,
     "metadata": {},
     "output_type": "execute_result"
    }
   ],
   "source": [
    "device_ID_counts.sum() - device_ID_counts.shape[0]"
   ]
  },
  {
   "cell_type": "code",
   "execution_count": 15,
   "metadata": {
    "collapsed": false
   },
   "outputs": [
    {
     "data": {
      "text/plain": [
       "count    164532.000000\n",
       "mean          1.083139\n",
       "std          24.732807\n",
       "min           1.000000\n",
       "25%           1.000000\n",
       "50%           1.000000\n",
       "75%           1.000000\n",
       "max       10015.000000\n",
       "dtype: float64"
      ]
     },
     "execution_count": 15,
     "metadata": {},
     "output_type": "execute_result"
    }
   ],
   "source": [
    "device_ID_counts.describe()"
   ]
  },
  {
   "cell_type": "code",
   "execution_count": 17,
   "metadata": {
    "collapsed": false,
    "scrolled": true
   },
   "outputs": [
    {
     "data": {
      "text/plain": [
       "device\n",
       "835072    10015\n",
       "274216      480\n",
       "225121      180\n",
       "837955      139\n",
       "253357      130\n",
       "623045      122\n",
       "541575       82\n",
       "743811       82\n",
       "78065        75\n",
       "667654       73\n",
       "dtype: int64"
      ]
     },
     "execution_count": 17,
     "metadata": {},
     "output_type": "execute_result"
    }
   ],
   "source": [
    "device_ID_counts.sort_values(ascending = False)[0:10]"
   ]
  },
  {
   "cell_type": "markdown",
   "metadata": {},
   "source": [
    "## Login timestamp/time\n"
   ]
  },
  {
   "cell_type": "markdown",
   "metadata": {},
   "source": [
    "### Time and timestamp"
   ]
  },
  {
   "cell_type": "code",
   "execution_count": 131,
   "metadata": {
    "collapsed": false
   },
   "outputs": [],
   "source": [
    "login_tt['time'] = login_tt['time'].apply(lambda x : datetime.datetime.strptime(x,'%Y-%m-%d %H:%M:%S'))"
   ]
  },
  {
   "cell_type": "code",
   "execution_count": 135,
   "metadata": {
    "collapsed": false
   },
   "outputs": [
    {
     "data": {
      "text/plain": [
       "1428641659.0"
      ]
     },
     "execution_count": 135,
     "metadata": {},
     "output_type": "execute_result"
    }
   ],
   "source": [
    "login_tt['timestamp'].iloc[0]"
   ]
  },
  {
   "cell_type": "code",
   "execution_count": 139,
   "metadata": {
    "collapsed": false
   },
   "outputs": [],
   "source": [
    "login_tt['timestamp'] = login_tt['timestamp'].apply(lambda x : datetime.datetime.fromtimestamp(x))"
   ]
  },
  {
   "cell_type": "code",
   "execution_count": 144,
   "metadata": {
    "collapsed": false
   },
   "outputs": [
    {
     "data": {
      "text/plain": [
       "0"
      ]
     },
     "execution_count": 144,
     "metadata": {},
     "output_type": "execute_result"
    }
   ],
   "source": [
    "np.sum(login_tt['timestamp']!=login_tt['time'])"
   ]
  },
  {
   "cell_type": "markdown",
   "metadata": {},
   "source": [
    "## login time distribution"
   ]
  },
  {
   "cell_type": "code",
   "execution_count": 150,
   "metadata": {
    "collapsed": false
   },
   "outputs": [
    {
     "data": {
      "text/plain": [
       "<Container object of 7 artists>"
      ]
     },
     "execution_count": 150,
     "metadata": {},
     "output_type": "execute_result"
    },
    {
     "data": {
      "image/png": "[encoded data removed]",
      "text/plain": [
       "<matplotlib.figure.Figure at 0x2cfb57f0>"
      ]
     },
     "metadata": {},
     "output_type": "display_data"
    }
   ],
   "source": [
    "login_tt['time_day'] = login_tt['time'].apply(lambda x : x.day)\n",
    "login_tt['time_hour'] = login_tt['time'].apply(lambda x : x.hour)\n",
    "login_tt['time_weekday'] = login_tt['time'].apply(lambda x : x.weekday())\n",
    "plt.subplot(311)\n",
    "plt.bar(range(1,32,1),login_tt.groupby('time_day').size())\n",
    "plt.subplot(312)\n",
    "plt.bar(range(24),login_tt.groupby('time_hour').size())\n",
    "plt.subplot(313)\n",
    "plt.bar(range(1,8,1),login_tt.groupby('time_weekday').size())"
   ]
  },
  {
   "cell_type": "code",
   "execution_count": 151,
   "metadata": {
    "collapsed": true
   },
   "outputs": [],
   "source": [
    "login_tt['time_month'] = login_tt['time'].apply(lambda x : x.month)"
   ]
  },
  {
   "cell_type": "markdown",
   "metadata": {},
   "source": [
    "# ip,city and log from"
   ]
  },
  {
   "cell_type": "code",
   "execution_count": 20,
   "metadata": {
    "collapsed": false,
    "scrolled": true
   },
   "outputs": [],
   "source": [
    "login_ip_city_from_count = login_tt.groupby(['ip','city','log_from']).size()"
   ]
  },
  {
   "cell_type": "code",
   "execution_count": 22,
   "metadata": {
    "collapsed": false
   },
   "outputs": [],
   "source": [
    "login_ip_city_from_count = login_ip_city_from_count.reset_index()"
   ]
  },
  {
   "cell_type": "code",
   "execution_count": 24,
   "metadata": {
    "collapsed": false
   },
   "outputs": [],
   "source": [
    "login_ip_city_from_count = login_ip_city_from_count.rename(columns = {0:'counting'})"
   ]
  },
  {
   "cell_type": "code",
   "execution_count": 26,
   "metadata": {
    "collapsed": false
   },
   "outputs": [
    {
     "data": {
      "text/plain": [
       "array([ 1,  2, 11, 10, 21, 16,  8, 18,  3, 12,  5], dtype=int64)"
      ]
     },
     "execution_count": 26,
     "metadata": {},
     "output_type": "execute_result"
    }
   ],
   "source": [
    "login_ip_city_from_count['log_from'].unique()"
   ]
  },
  {
   "cell_type": "markdown",
   "metadata": {},
   "source": [
    "### ip与city对应关系 "
   ]
  },
  {
   "cell_type": "code",
   "execution_count": 29,
   "metadata": {
    "collapsed": false
   },
   "outputs": [],
   "source": [
    "login_ip_city_count  = login_ip_city_from_count[['ip','city']].drop_duplicates().groupby('city').size().reset_index()"
   ]
  },
  {
   "cell_type": "code",
   "execution_count": 31,
   "metadata": {
    "collapsed": false
   },
   "outputs": [],
   "source": [
    "login_ip_city_count = login_ip_city_count.rename(columns ={0:'ip_counts'})"
   ]
  },
  {
   "cell_type": "code",
   "execution_count": 33,
   "metadata": {
    "collapsed": false
   },
   "outputs": [
    {
     "data": {
      "text/html": [
       "<div>\n",
       "<table border=\"1\" class=\"dataframe\">\n",
       "  <thead>\n",
       "    <tr style=\"text-align: right;\">\n",
       "      <th></th>\n",
       "      <th>city</th>\n",
       "      <th>ip_counts</th>\n",
       "    </tr>\n",
       "  </thead>\n",
       "  <tbody>\n",
       "    <tr>\n",
       "      <th>count</th>\n",
       "      <td>484.000000</td>\n",
       "      <td>484.000000</td>\n",
       "    </tr>\n",
       "    <tr>\n",
       "      <th>mean</th>\n",
       "      <td>267.725207</td>\n",
       "      <td>536.082645</td>\n",
       "    </tr>\n",
       "    <tr>\n",
       "      <th>std</th>\n",
       "      <td>157.995272</td>\n",
       "      <td>1832.966730</td>\n",
       "    </tr>\n",
       "    <tr>\n",
       "      <th>min</th>\n",
       "      <td>1.000000</td>\n",
       "      <td>1.000000</td>\n",
       "    </tr>\n",
       "    <tr>\n",
       "      <th>25%</th>\n",
       "      <td>127.750000</td>\n",
       "      <td>17.000000</td>\n",
       "    </tr>\n",
       "    <tr>\n",
       "      <th>50%</th>\n",
       "      <td>261.500000</td>\n",
       "      <td>110.000000</td>\n",
       "    </tr>\n",
       "    <tr>\n",
       "      <th>75%</th>\n",
       "      <td>407.250000</td>\n",
       "      <td>350.000000</td>\n",
       "    </tr>\n",
       "    <tr>\n",
       "      <th>max</th>\n",
       "      <td>555.000000</td>\n",
       "      <td>28857.000000</td>\n",
       "    </tr>\n",
       "  </tbody>\n",
       "</table>\n",
       "</div>"
      ],
      "text/plain": [
       "             city     ip_counts\n",
       "count  484.000000    484.000000\n",
       "mean   267.725207    536.082645\n",
       "std    157.995272   1832.966730\n",
       "min      1.000000      1.000000\n",
       "25%    127.750000     17.000000\n",
       "50%    261.500000    110.000000\n",
       "75%    407.250000    350.000000\n",
       "max    555.000000  28857.000000"
      ]
     },
     "execution_count": 33,
     "metadata": {},
     "output_type": "execute_result"
    }
   ],
   "source": [
    "login_ip_city_count.describe()"
   ]
  },
  {
   "cell_type": "code",
   "execution_count": 34,
   "metadata": {
    "collapsed": true
   },
   "outputs": [],
   "source": [
    "login_city_ip_count  = login_ip_city_from_count[['ip','city']].drop_duplicates().groupby('ip').size().reset_index().rename(columns ={0:'city_counts'})"
   ]
  },
  {
   "cell_type": "code",
   "execution_count": 39,
   "metadata": {
    "collapsed": false
   },
   "outputs": [
    {
     "data": {
      "text/plain": [
       "0L"
      ]
     },
     "execution_count": 39,
     "metadata": {},
     "output_type": "execute_result"
    }
   ],
   "source": [
    "login_city_ip_count['city_counts'].sum() - login_city_ip_count.shape[0]"
   ]
  },
  {
   "cell_type": "markdown",
   "metadata": {},
   "source": [
    "### type "
   ]
  },
  {
   "cell_type": "code",
   "execution_count": 41,
   "metadata": {
    "collapsed": false
   },
   "outputs": [
    {
     "data": {
      "text/plain": [
       "array([1, 3, 2], dtype=int64)"
      ]
     },
     "execution_count": 41,
     "metadata": {},
     "output_type": "execute_result"
    }
   ],
   "source": [
    "login_tt['type'].unique()"
   ]
  },
  {
   "cell_type": "markdown",
   "metadata": {},
   "source": [
    "### type, is_scan, is_sec"
   ]
  },
  {
   "cell_type": "code",
   "execution_count": 43,
   "metadata": {
    "collapsed": false
   },
   "outputs": [
    {
     "data": {
      "text/html": [
       "<div>\n",
       "<table border=\"1\" class=\"dataframe\">\n",
       "  <thead>\n",
       "    <tr style=\"text-align: right;\">\n",
       "      <th></th>\n",
       "      <th>type</th>\n",
       "      <th>is_sec</th>\n",
       "      <th>is_scan</th>\n",
       "    </tr>\n",
       "  </thead>\n",
       "  <tbody>\n",
       "    <tr>\n",
       "      <th>0</th>\n",
       "      <td>1</td>\n",
       "      <td>False</td>\n",
       "      <td>True</td>\n",
       "    </tr>\n",
       "    <tr>\n",
       "      <th>1</th>\n",
       "      <td>1</td>\n",
       "      <td>False</td>\n",
       "      <td>False</td>\n",
       "    </tr>\n",
       "    <tr>\n",
       "      <th>6</th>\n",
       "      <td>3</td>\n",
       "      <td>False</td>\n",
       "      <td>False</td>\n",
       "    </tr>\n",
       "    <tr>\n",
       "      <th>15</th>\n",
       "      <td>2</td>\n",
       "      <td>False</td>\n",
       "      <td>False</td>\n",
       "    </tr>\n",
       "  </tbody>\n",
       "</table>\n",
       "</div>"
      ],
      "text/plain": [
       "    type is_sec is_scan\n",
       "0      1  False    True\n",
       "1      1  False   False\n",
       "6      3  False   False\n",
       "15     2  False   False"
      ]
     },
     "execution_count": 43,
     "metadata": {},
     "output_type": "execute_result"
    }
   ],
   "source": [
    "login_tt[['type','is_sec','is_scan']].drop_duplicates()"
   ]
  },
  {
   "cell_type": "code",
   "execution_count": 44,
   "metadata": {
    "collapsed": false
   },
   "outputs": [
    {
     "data": {
      "text/plain": [
       "array([False], dtype=object)"
      ]
     },
     "execution_count": 44,
     "metadata": {},
     "output_type": "execute_result"
    }
   ],
   "source": [
    "login_tt['is_sec'].unique()"
   ]
  },
  {
   "cell_type": "markdown",
   "metadata": {},
   "source": [
    "### type and device"
   ]
  },
  {
   "cell_type": "code",
   "execution_count": 45,
   "metadata": {
    "collapsed": true
   },
   "outputs": [],
   "source": [
    "device_type_count = login_tt[['type','device']].drop_duplicates().groupby('device').size()"
   ]
  },
  {
   "cell_type": "code",
   "execution_count": 47,
   "metadata": {
    "collapsed": false
   },
   "outputs": [
    {
     "data": {
      "text/plain": [
       "6362L"
      ]
     },
     "execution_count": 47,
     "metadata": {},
     "output_type": "execute_result"
    }
   ],
   "source": [
    "device_type_count.sum() - device_type_count.shape[0]"
   ]
  },
  {
   "cell_type": "code",
   "execution_count": 52,
   "metadata": {
    "collapsed": false
   },
   "outputs": [],
   "source": [
    "mult_type_divice = list(device_type_count[device_type_count>1].index)"
   ]
  },
  {
   "cell_type": "code",
   "execution_count": 56,
   "metadata": {
    "collapsed": false
   },
   "outputs": [],
   "source": [
    "login_tt['mult_type_device_counting']=login_tt['device'].apply(lambda x : device_type_count[x])"
   ]
  },
  {
   "cell_type": "code",
   "execution_count": 60,
   "metadata": {
    "collapsed": false
   },
   "outputs": [
    {
     "data": {
      "text/html": [
       "<div>\n",
       "<table border=\"1\" class=\"dataframe\">\n",
       "  <thead>\n",
       "    <tr style=\"text-align: right;\">\n",
       "      <th></th>\n",
       "      <th>type</th>\n",
       "      <th>mult_type_device_counting</th>\n",
       "    </tr>\n",
       "  </thead>\n",
       "  <tbody>\n",
       "    <tr>\n",
       "      <th>1</th>\n",
       "      <td>1</td>\n",
       "      <td>3</td>\n",
       "    </tr>\n",
       "    <tr>\n",
       "      <th>15</th>\n",
       "      <td>2</td>\n",
       "      <td>2</td>\n",
       "    </tr>\n",
       "    <tr>\n",
       "      <th>37</th>\n",
       "      <td>3</td>\n",
       "      <td>3</td>\n",
       "    </tr>\n",
       "    <tr>\n",
       "      <th>93</th>\n",
       "      <td>1</td>\n",
       "      <td>2</td>\n",
       "    </tr>\n",
       "    <tr>\n",
       "      <th>107</th>\n",
       "      <td>3</td>\n",
       "      <td>2</td>\n",
       "    </tr>\n",
       "    <tr>\n",
       "      <th>235</th>\n",
       "      <td>2</td>\n",
       "      <td>3</td>\n",
       "    </tr>\n",
       "  </tbody>\n",
       "</table>\n",
       "</div>"
      ],
      "text/plain": [
       "     type  mult_type_device_counting\n",
       "1       1                          3\n",
       "15      2                          2\n",
       "37      3                          3\n",
       "93      1                          2\n",
       "107     3                          2\n",
       "235     2                          3"
      ]
     },
     "execution_count": 60,
     "metadata": {},
     "output_type": "execute_result"
    }
   ],
   "source": [
    "login_tt[login_tt['mult_type_device_counting'] >1][['type','mult_type_device_counting']].drop_duplicates()"
   ]
  },
  {
   "cell_type": "markdown",
   "metadata": {},
   "source": [
    "### ip与device关系"
   ]
  },
  {
   "cell_type": "code",
   "execution_count": 6,
   "metadata": {
    "collapsed": false
   },
   "outputs": [
    {
     "name": "stdout",
     "output_type": "stream",
     "text": [
      "(259464L,)\n",
      "(683393, 14)\n"
     ]
    }
   ],
   "source": [
    "#ip分布\n",
    "print login_tt['ip'].unique().shape\n",
    "print login_tt.shape"
   ]
  },
  {
   "cell_type": "code",
   "execution_count": 12,
   "metadata": {
    "collapsed": false
   },
   "outputs": [
    {
     "data": {
      "text/plain": [
       "count    28065.000000\n",
       "mean        10.242900\n",
       "std         19.188864\n",
       "min          1.000000\n",
       "25%          2.000000\n",
       "50%          5.000000\n",
       "75%         11.000000\n",
       "max       1160.000000\n",
       "dtype: float64"
      ]
     },
     "execution_count": 12,
     "metadata": {},
     "output_type": "execute_result"
    }
   ],
   "source": [
    "#一个用户对多个ip\n",
    "%matplotlib inline\n",
    "ip_usage = login_tt[['id','ip']].drop_duplicates().groupby('id').size()\n",
    "ip_usage.describe()"
   ]
  },
  {
   "cell_type": "code",
   "execution_count": 14,
   "metadata": {
    "collapsed": false
   },
   "outputs": [
    {
     "data": {
      "text/plain": [
       "(array([  7.13400000e+03,   6.42700000e+03,   5.62400000e+03,\n",
       "          4.50900000e+03,   2.88900000e+03,   1.03800000e+03,\n",
       "          3.61000000e+02,   7.50000000e+01,   6.00000000e+00,\n",
       "          2.00000000e+00]),\n",
       " array([ 0.        ,  0.70561753,  1.41123506,  2.11685259,  2.82247011,\n",
       "         3.52808764,  4.23370517,  4.9393227 ,  5.64494023,  6.35055776,\n",
       "         7.05617528]),\n",
       " <a list of 10 Patch objects>)"
      ]
     },
     "execution_count": 14,
     "metadata": {},
     "output_type": "execute_result"
    },
    {
     "data": {
      "image/png": "[encoded data removed]",
      "text/plain": [
       "<matplotlib.figure.Figure at 0x1304e9b0>"
      ]
     },
     "metadata": {},
     "output_type": "display_data"
    }
   ],
   "source": [
    "plt.hist(np.log(ip_usage))"
   ]
  },
  {
   "cell_type": "code",
   "execution_count": 15,
   "metadata": {
    "collapsed": false
   },
   "outputs": [
    {
     "data": {
      "text/plain": [
       "count    259464.000000\n",
       "mean          1.107926\n",
       "std           0.778955\n",
       "min           1.000000\n",
       "25%           1.000000\n",
       "50%           1.000000\n",
       "75%           1.000000\n",
       "max         110.000000\n",
       "dtype: float64"
      ]
     },
     "execution_count": 15,
     "metadata": {},
     "output_type": "execute_result"
    }
   ],
   "source": [
    "#一个ip对多个用户\n",
    "ip_id_count = login_tt[['id','ip']].drop_duplicates().groupby('ip').size()\n",
    "ip_id_count.describe()"
   ]
  },
  {
   "cell_type": "code",
   "execution_count": 18,
   "metadata": {
    "collapsed": false,
    "scrolled": true
   },
   "outputs": [
    {
     "data": {
      "text/plain": [
       "ip\n",
       "1078386    110\n",
       "451870      54\n",
       "311603      50\n",
       "1248846     49\n",
       "1025308     48\n",
       "211765      45\n",
       "31326       45\n",
       "1343219     44\n",
       "1048924     44\n",
       "765932      39\n",
       "418854      38\n",
       "884505      37\n",
       "1232175     36\n",
       "1200818     35\n",
       "1242277     34\n",
       "942358      34\n",
       "557198      33\n",
       "883579      30\n",
       "51855       29\n",
       "208299      29\n",
       "1412870     28\n",
       "50816       28\n",
       "695072      28\n",
       "396089      27\n",
       "940751      27\n",
       "1481201     26\n",
       "860662      25\n",
       "328308      25\n",
       "1286986     24\n",
       "487745      24\n",
       "          ... \n",
       "1029744      1\n",
       "1029746      1\n",
       "1029869      1\n",
       "1029974      1\n",
       "1029971      1\n",
       "1029965      1\n",
       "1029964      1\n",
       "1029957      1\n",
       "1029933      1\n",
       "1029904      1\n",
       "1029900      1\n",
       "1029896      1\n",
       "1029890      1\n",
       "1029889      1\n",
       "1029888      1\n",
       "1029862      1\n",
       "1029761      1\n",
       "1029843      1\n",
       "1029838      1\n",
       "1029829      1\n",
       "1029826      1\n",
       "1029819      1\n",
       "1029815      1\n",
       "1029789      1\n",
       "1029784      1\n",
       "1029780      1\n",
       "1029773      1\n",
       "1029771      1\n",
       "1029769      1\n",
       "4            1\n",
       "dtype: int64"
      ]
     },
     "execution_count": 18,
     "metadata": {},
     "output_type": "execute_result"
    }
   ],
   "source": [
    "ip_id_count.sort_values(ascending = False)"
   ]
  },
  {
   "cell_type": "code",
   "execution_count": 20,
   "metadata": {
    "collapsed": false
   },
   "outputs": [
    {
     "name": "stdout",
     "output_type": "stream",
     "text": [
      "(259464L,)\n",
      "(2872L,)\n"
     ]
    }
   ],
   "source": [
    "print ip_id_count.shape\n",
    "print ip_id_count[ip_id_count>3].shape"
   ]
  },
  {
   "cell_type": "code",
   "execution_count": 17,
   "metadata": {
    "collapsed": false
   },
   "outputs": [
    {
     "data": {
      "text/plain": [
       "(array([  2.59273000e+05,   1.54000000e+02,   2.10000000e+01,\n",
       "          9.00000000e+00,   6.00000000e+00,   0.00000000e+00,\n",
       "          0.00000000e+00,   0.00000000e+00,   0.00000000e+00,\n",
       "          1.00000000e+00]),\n",
       " array([   1. ,   11.9,   22.8,   33.7,   44.6,   55.5,   66.4,   77.3,\n",
       "          88.2,   99.1,  110. ]),\n",
       " <a list of 10 Patch objects>)"
      ]
     },
     "execution_count": 17,
     "metadata": {},
     "output_type": "execute_result"
    },
    {
     "data": {
      "image/png": "[encoded data removed]",
      "text/plain": [
       "<matplotlib.figure.Figure at 0xf2b0898>"
      ]
     },
     "metadata": {},
     "output_type": "display_data"
    }
   ],
   "source": [
    "plt.hist(ip_id_count)"
   ]
  },
  {
   "cell_type": "markdown",
   "metadata": {},
   "source": [
    "###  timelong"
   ]
  },
  {
   "cell_type": "code",
   "execution_count": 116,
   "metadata": {
    "collapsed": false
   },
   "outputs": [
    {
     "data": {
      "text/plain": [
       "count    6.833930e+05\n",
       "mean     2.164032e+04\n",
       "std      7.433134e+05\n",
       "min     -1.355000e+03\n",
       "25%      4.623000e+03\n",
       "50%      7.272000e+03\n",
       "75%      1.312600e+04\n",
       "max      2.253800e+08\n",
       "Name: timelong, dtype: float64"
      ]
     },
     "execution_count": 116,
     "metadata": {},
     "output_type": "execute_result"
    }
   ],
   "source": [
    "login_tt['timelong'].describe()"
   ]
  },
  {
   "cell_type": "code",
   "execution_count": 121,
   "metadata": {
    "collapsed": false
   },
   "outputs": [
    {
     "data": {
      "text/plain": [
       "(array([ 113785.,  226393.,  142583.,   64633.,   39278.,   23899.,\n",
       "          15375.,   10355.,    7353.,    5569.]),\n",
       " array([ -1355. ,   2925.6,   7206.2,  11486.8,  15767.4,  20048. ,\n",
       "         24328.6,  28609.2,  32889.8,  37170.4,  41451. ]),\n",
       " <a list of 10 Patch objects>)"
      ]
     },
     "execution_count": 121,
     "metadata": {},
     "output_type": "execute_result"
    },
    {
     "data": {
      "image/png": "[encoded data removed]",
      "text/plain": [
       "<matplotlib.figure.Figure at 0x210d9a90>"
      ]
     },
     "metadata": {},
     "output_type": "display_data"
    }
   ],
   "source": [
    "qt = login_tt['timelong'].quantile(0.95)\n",
    "plt.hist(login_tt.ix[login_tt['timelong']< qt,'timelong'])"
   ]
  },
  {
   "cell_type": "code",
   "execution_count": 131,
   "metadata": {
    "collapsed": true
   },
   "outputs": [],
   "source": [
    "timelong_log = np.log(login_tt.ix[login_tt['timelong']< qt,'timelong']+2000)"
   ]
  },
  {
   "cell_type": "code",
   "execution_count": 132,
   "metadata": {
    "collapsed": false
   },
   "outputs": [
    {
     "data": {
      "text/plain": [
       "6.4692503167957724"
      ]
     },
     "execution_count": 132,
     "metadata": {},
     "output_type": "execute_result"
    }
   ],
   "source": [
    "timelong_log.min()"
   ]
  },
  {
   "cell_type": "code",
   "execution_count": 133,
   "metadata": {
    "collapsed": false
   },
   "outputs": [
    {
     "data": {
      "text/plain": [
       "(array([  1.00000000e+00,   4.00000000e+00,   3.86060000e+04,\n",
       "          2.78870000e+04,   6.70660000e+04,   1.39007000e+05,\n",
       "          1.84392000e+05,   1.01027000e+05,   6.12630000e+04,\n",
       "          2.99700000e+04]),\n",
       " array([  6.46925032,   6.8902642 ,   7.31127808,   7.73229197,\n",
       "          8.15330585,   8.57431973,   8.99533361,   9.4163475 ,\n",
       "          9.83736138,  10.25837526,  10.67938915]),\n",
       " <a list of 10 Patch objects>)"
      ]
     },
     "execution_count": 133,
     "metadata": {},
     "output_type": "execute_result"
    },
    {
     "data": {
      "image/png": "[encoded data removed]",
      "text/plain": [
       "<matplotlib.figure.Figure at 0x1ee6f160>"
      ]
     },
     "metadata": {},
     "output_type": "display_data"
    }
   ],
   "source": [
    "plt.hist(timelong_log)"
   ]
  },
  {
   "cell_type": "markdown",
   "metadata": {
    "collapsed": true
   },
   "source": [
    "### log_from各项比例"
   ]
  },
  {
   "cell_type": "code",
   "execution_count": 15,
   "metadata": {
    "collapsed": false,
    "scrolled": true
   },
   "outputs": [
    {
     "data": {
      "text/plain": [
       "<matplotlib.axes._subplots.AxesSubplot at 0x28f3e9b0>"
      ]
     },
     "execution_count": 15,
     "metadata": {},
     "output_type": "execute_result"
    },
    {
     "data": {
      "image/png": "[encoded data removed]",
      "text/plain": [
       "<matplotlib.figure.Figure at 0x28f3eb38>"
      ]
     },
     "metadata": {},
     "output_type": "display_data"
    }
   ],
   "source": [
    "sns.countplot(x= 'log_from',data =login_tt)"
   ]
  },
  {
   "cell_type": "markdown",
   "metadata": {},
   "source": [
    "### city分布情况"
   ]
  },
  {
   "cell_type": "code",
   "execution_count": 16,
   "metadata": {
    "collapsed": false
   },
   "outputs": [
    {
     "data": {
      "text/plain": [
       "(484L,)"
      ]
     },
     "execution_count": 16,
     "metadata": {},
     "output_type": "execute_result"
    }
   ],
   "source": [
    "login_tt.city.unique().shape"
   ]
  },
  {
   "cell_type": "code",
   "execution_count": 21,
   "metadata": {
    "collapsed": false
   },
   "outputs": [],
   "source": [
    "login_city_count = login_tt.groupby('city').size().reset_index().rename(columns = {0:'city_login_count'}).sort_values(by = 'city_login_count',ascending = False)"
   ]
  },
  {
   "cell_type": "code",
   "execution_count": 22,
   "metadata": {
    "collapsed": false
   },
   "outputs": [
    {
     "data": {
      "text/html": [
       "<div>\n",
       "<table border=\"1\" class=\"dataframe\">\n",
       "  <thead>\n",
       "    <tr style=\"text-align: right;\">\n",
       "      <th></th>\n",
       "      <th>city</th>\n",
       "      <th>city_login_count</th>\n",
       "    </tr>\n",
       "  </thead>\n",
       "  <tbody>\n",
       "    <tr>\n",
       "      <th>174</th>\n",
       "      <td>194</td>\n",
       "      <td>105178</td>\n",
       "    </tr>\n",
       "    <tr>\n",
       "      <th>323</th>\n",
       "      <td>364</td>\n",
       "      <td>41486</td>\n",
       "    </tr>\n",
       "    <tr>\n",
       "      <th>218</th>\n",
       "      <td>238</td>\n",
       "      <td>32625</td>\n",
       "    </tr>\n",
       "    <tr>\n",
       "      <th>40</th>\n",
       "      <td>44</td>\n",
       "      <td>24564</td>\n",
       "    </tr>\n",
       "    <tr>\n",
       "      <th>18</th>\n",
       "      <td>21</td>\n",
       "      <td>21591</td>\n",
       "    </tr>\n",
       "    <tr>\n",
       "      <th>59</th>\n",
       "      <td>63</td>\n",
       "      <td>16569</td>\n",
       "    </tr>\n",
       "    <tr>\n",
       "      <th>74</th>\n",
       "      <td>78</td>\n",
       "      <td>14623</td>\n",
       "    </tr>\n",
       "    <tr>\n",
       "      <th>440</th>\n",
       "      <td>488</td>\n",
       "      <td>14210</td>\n",
       "    </tr>\n",
       "    <tr>\n",
       "      <th>54</th>\n",
       "      <td>58</td>\n",
       "      <td>13089</td>\n",
       "    </tr>\n",
       "    <tr>\n",
       "      <th>256</th>\n",
       "      <td>277</td>\n",
       "      <td>12030</td>\n",
       "    </tr>\n",
       "  </tbody>\n",
       "</table>\n",
       "</div>"
      ],
      "text/plain": [
       "     city  city_login_count\n",
       "174   194            105178\n",
       "323   364             41486\n",
       "218   238             32625\n",
       "40     44             24564\n",
       "18     21             21591\n",
       "59     63             16569\n",
       "74     78             14623\n",
       "440   488             14210\n",
       "54     58             13089\n",
       "256   277             12030"
      ]
     },
     "execution_count": 22,
     "metadata": {},
     "output_type": "execute_result"
    }
   ],
   "source": [
    "login_city_count[0:10]"
   ]
  },
  {
   "cell_type": "code",
   "execution_count": 23,
   "metadata": {
    "collapsed": false
   },
   "outputs": [
    {
     "data": {
      "text/plain": [
       "(array([  55.,   30.,   30.,   52.,   87.,  125.,   70.,   24.,    9.,    2.]),\n",
       " array([  0.        ,   1.15634094,   2.31268189,   3.46902283,\n",
       "          4.62536377,   5.78170472,   6.93804566,   8.0943866 ,\n",
       "          9.25072755,  10.40706849,  11.56340943]),\n",
       " <a list of 10 Patch objects>)"
      ]
     },
     "execution_count": 23,
     "metadata": {},
     "output_type": "execute_result"
    },
    {
     "data": {
      "image/png": "[encoded data removed]",
      "text/plain": [
       "<matplotlib.figure.Figure at 0x2b40d438>"
      ]
     },
     "metadata": {},
     "output_type": "display_data"
    }
   ],
   "source": [
    "plt.hist(np.log(login_city_count['city_login_count']))"
   ]
  },
  {
   "cell_type": "markdown",
   "metadata": {},
   "source": [
    "### 登录result分布情况 "
   ]
  },
  {
   "cell_type": "code",
   "execution_count": 25,
   "metadata": {
    "collapsed": false
   },
   "outputs": [
    {
     "data": {
      "text/plain": [
       "<matplotlib.axes._subplots.AxesSubplot at 0x14f8f710>"
      ]
     },
     "execution_count": 25,
     "metadata": {},
     "output_type": "execute_result"
    },
    {
     "data": {
      "image/png": "[encoded data removed]",
      "text/plain": [
       "<matplotlib.figure.Figure at 0x28f06828>"
      ]
     },
     "metadata": {},
     "output_type": "display_data"
    }
   ],
   "source": [
    "sns.countplot(x= 'result',data =login_tt)"
   ]
  },
  {
   "cell_type": "code",
   "execution_count": 26,
   "metadata": {
    "collapsed": false
   },
   "outputs": [
    {
     "data": {
      "text/plain": [
       "array([ 1, 31, -2, -4,  6, 22, -1,  5, 23,  3], dtype=int64)"
      ]
     },
     "execution_count": 26,
     "metadata": {},
     "output_type": "execute_result"
    }
   ],
   "source": [
    "login_tt['result'].unique()"
   ]
  },
  {
   "cell_type": "markdown",
   "metadata": {},
   "source": [
    "### type分布情况"
   ]
  },
  {
   "cell_type": "code",
   "execution_count": 27,
   "metadata": {
    "collapsed": false
   },
   "outputs": [
    {
     "data": {
      "text/plain": [
       "<matplotlib.axes._subplots.AxesSubplot at 0x265812e8>"
      ]
     },
     "execution_count": 27,
     "metadata": {},
     "output_type": "execute_result"
    },
    {
     "data": {
      "image/png": "[encoded data removed]",
      "text/plain": [
       "<matplotlib.figure.Figure at 0x26581278>"
      ]
     },
     "metadata": {},
     "output_type": "display_data"
    }
   ],
   "source": [
    "sns.countplot(x= 'type',data =login_tt)"
   ]
  },
  {
   "cell_type": "markdown",
   "metadata": {},
   "source": [
    "### is_scan分布情况 "
   ]
  },
  {
   "cell_type": "code",
   "execution_count": 28,
   "metadata": {
    "collapsed": false
   },
   "outputs": [
    {
     "data": {
      "text/plain": [
       "<matplotlib.axes._subplots.AxesSubplot at 0x2865d710>"
      ]
     },
     "execution_count": 28,
     "metadata": {},
     "output_type": "execute_result"
    },
    {
     "data": {
      "image/png": "[encoded data removed]",
      "text/plain": [
       "<matplotlib.figure.Figure at 0x2b1e1208>"
      ]
     },
     "metadata": {},
     "output_type": "display_data"
    }
   ],
   "source": [
    "sns.countplot(x= 'is_scan',data =login_tt)"
   ]
  }
 ],
 "metadata": {
  "anaconda-cloud": {},
  "kernelspec": {
   "display_name": "Python [Root]",
   "language": "python",
   "name": "Python [Root]"
  },
  "language_info": {
   "codemirror_mode": {
    "name": "ipython",
    "version": 2
   },
   "file_extension": ".py",
   "mimetype": "text/x-python",
   "name": "python",
   "nbconvert_exporter": "python",
   "pygments_lexer": "ipython2",
   "version": "2.7.12"
  }
 },
 "nbformat": 4,
 "nbformat_minor": 0
}
